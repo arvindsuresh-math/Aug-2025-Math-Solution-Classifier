{
  "cells": [
    {
      "cell_type": "code",
      "execution_count": 39,
      "metadata": {
        "id": "_ZrEm2M3ZQme",
        "colab": {
          "base_uri": "https://localhost:8080/"
        },
        "outputId": "c4af687c-5b11-4cbb-dff3-80b5dc882a8a"
      },
      "outputs": [
        {
          "output_type": "stream",
          "name": "stdout",
          "text": [
            "Drive already mounted at /content/drive; to attempt to forcibly remount, call drive.mount(\"/content/drive\", force_remount=True).\n"
          ]
        }
      ],
      "source": [
        "from __future__ import annotations\n",
        "import json, asyncio, aiohttp\n",
        "import json\n",
        "import os\n",
        "import sys\n",
        "import re\n",
        "import time\n",
        "import pathlib\n",
        "import collections\n",
        "\n",
        "from typing import Dict, List, Tuple, Any\n",
        "import random\n",
        "\n",
        "import openai\n",
        "from openai import OpenAI\n",
        "\n",
        "import sympy as sp\n",
        "\n",
        "from google.colab import drive\n",
        "drive.mount('/content/drive')\n",
        "\n",
        "sys.path.append(os.path.abspath(\"/content/drive/MyDrive/Erdos/\"))\n",
        "\n",
        "import judge\n",
        "import test_judge\n",
        "import llm_judge\n",
        "\n",
        "import linear_system_templates as lst\n"
      ]
    },
    {
      "cell_type": "markdown",
      "source": [
        "First we import the saved openai key."
      ],
      "metadata": {
        "id": "26Yt_wZYxmOw"
      }
    },
    {
      "cell_type": "code",
      "execution_count": 40,
      "metadata": {
        "colab": {
          "base_uri": "https://localhost:8080/"
        },
        "id": "Mp5rwXGbHepd",
        "outputId": "ffa805d3-f0a4-446e-a242-cdbb0ff9dbb8"
      },
      "outputs": [
        {
          "output_type": "stream",
          "name": "stdout",
          "text": [
            "sk-pr\n"
          ]
        }
      ],
      "source": [
        "openai_key_file_path = '/content/drive/MyDrive/Erdos/openai_key.txt'\n",
        "with open(openai_key_file_path, 'r', encoding='utf-8') as f:\n",
        "    openai_key = f.read()\n",
        "\n",
        "openai.api_key = openai_key\n",
        "os.environ[\"OPENAI_API_KEY\"] = openai_key\n",
        "\n",
        "print(openai_key[:5])\n"
      ]
    },
    {
      "cell_type": "markdown",
      "source": [
        "# Step 1: generating student solutions.\n",
        "\n",
        "Here we create the `generate_sample` function, which will generate incorrect student solutions.\n",
        "\n",
        "We will have different mistake templates, each of them will give the writer LLM a different system prompt which describes the intended mistake. The function `build_prompt` creates these system prompts, and augments them with an example of the given template.\n",
        "\n",
        "The dictionary `FEW_SHOTS` contains these examples, we write this first."
      ],
      "metadata": {
        "id": "rNF5w3trxs_a"
      }
    },
    {
      "cell_type": "code",
      "execution_count": 41,
      "metadata": {
        "id": "0aYBX1wtg-4F"
      },
      "outputs": [],
      "source": [
        "# -----------------------------------------------------------------------------\n",
        "# Few‑shot examples for each error template (hand‑written)\n",
        "# -----------------------------------------------------------------------------\n",
        "\n",
        "FEW_SHOTS: Dict[str, List[Dict[str, str]]] = {\n",
        "    # ------------------------------------------------------------------ #\n",
        "    \"SWAP_RHS\": [\n",
        "        {\n",
        "            \"role\": \"user\",\n",
        "            \"content\": (\n",
        "                \"Solve the system and *show your work*:\\n\\n\"\n",
        "                \"2x + y = 5\\n 3x - 4y = 7\"\n",
        "            ),\n",
        "        },\n",
        "        {\n",
        "            \"role\": \"assistant\",\n",
        "            \"content\": (\n",
        "                \"2x + y = 7\\n 3x - 4y = 5\\n\"\n",
        "                \"→ From the first equation: y = 7 - 2x\\n\"\n",
        "                \"→ Substitute into the second: 3x - 4(7 - 2x) = 5\\n\"\n",
        "                \"  3x - 28 + 8x = 5 ⇒ 11x = 33 ⇒ x = 3\\n\"\n",
        "                \"→ y = 7 - 2·3 = 1\\n\"\n",
        "                \"Answer: (3, 1)\"\n",
        "            ),\n",
        "        },\n",
        "    ],\n",
        "    # ------------------------------------------------------------------ #\n",
        "    \"SIGN_ERROR_EQ1\": [\n",
        "        {\n",
        "            \"role\": \"user\",\n",
        "            \"content\": (\n",
        "                \"Solve the system and *show your work*:\\n\\n\"\n",
        "                \"4x + 2y = 6\\n -3x + y = 5\"\n",
        "            ),\n",
        "        },\n",
        "        {\n",
        "            \"role\": \"assistant\",\n",
        "            \"content\": (\n",
        "                \"4x - 2y = 6\\n -3x + y = 5\\n\"\n",
        "                \"→ From the second: y = 5 + 3x\\n\"\n",
        "                \"→ Substitute: 4x - 2(5 + 3x) = 6\\n\"\n",
        "                \"  4x - 10 - 6x = 6 ⇒ -2x = 16 ⇒ x = -8\\n\"\n",
        "                \"→ y = 5 + 3( -8 ) = -19\\n\"\n",
        "                \"Answer: (-8, -19)\"\n",
        "            ),\n",
        "        },\n",
        "    ],\n",
        "    # ------------------------------------------------------------------ #\n",
        "    \"FLIP_SIGN\": [\n",
        "        {\n",
        "            \"role\": \"user\",\n",
        "            \"content\": (\n",
        "                \"Solve the system and *show your work*:\\n\\n\"\n",
        "                \"x + 3y = 4\\n 2x - y = 1\"\n",
        "            ),\n",
        "        },\n",
        "        {\n",
        "            \"role\": \"assistant\",\n",
        "            \"content\": (\n",
        "                \"x + 3y = -4\\n 2x - y = -1\\n\"\n",
        "                \"→ From the first: x = -4 - 3y\\n\"\n",
        "                \"→ Substitute: 2(-4 - 3y) - y = -1\\n\"\n",
        "                \"  -8 - 6y - y = -1 ⇒ -7y = 7 ⇒ y = -1\\n\"\n",
        "                \"→ x = -4 - 3( -1 ) = -1\\n\"\n",
        "                \"Answer: (-1, -1)\"\n",
        "            ),\n",
        "        },\n",
        "    ],\n",
        "}\n"
      ]
    },
    {
      "cell_type": "markdown",
      "source": [
        "Now we write the `build_prompt` function."
      ],
      "metadata": {
        "id": "W5Wk2WcRzPAc"
      }
    },
    {
      "cell_type": "code",
      "execution_count": 42,
      "metadata": {
        "id": "bfojSeqEg-6e"
      },
      "outputs": [],
      "source": [
        "# -----------------------------------------------------------------------------\n",
        "# Prompt builder\n",
        "# -----------------------------------------------------------------------------\n",
        "\n",
        "LENGTH_HINT = (\n",
        "    \"Keep your working to **no more than six short lines** and then finish \"\n",
        "    \"with exactly:  Answer: ( … ).  Do not write anything after that. Do not use LaTeX in your final answer, even for fractions.\" # LaTeX confuses the parser... with a more sophisticated parser, could remove this condition\n",
        ")\n",
        "\n",
        "TEMPLATE_DESCRIPTIONS = {\n",
        "    \"SWAP_RHS\":       \"swap the independent coefficients of the equations (the coefficients after the = sign, which do not multiply x or y) before solving.For example, if the original problem is 2x + 3y = 4, 5x + 6y = 7, then swapping we get 2x + 3y = 7, 5x + 6y =4\",\n",
        "    \"SIGN_ERROR_EQ1\": \"flip the sign of the coefficient *b* (coefficient for y) in the first equation. For example if the first equation is 2x + 3y = 4, it transforms into 2x - 3y = 4\",\n",
        "    \"FLIP_SIGN\":      \"multiply both right-hand side constants by −1 before solving. the other coefficients remain the same. For example 2x + 3y = 4, 5x + 6y = 7 transforms into 2x + 3y = -4, 5x + 6y = -7\",\n",
        "    # add future templates here\n",
        "}\n",
        "\n",
        "# ---------------------------------------------------------------------\n",
        "# build_prompt\n",
        "# ---------------------------------------------------------------------\n",
        "def build_prompt(coeffs: Tuple[int, int, int, int, int, int],  template: str,) -> List[Dict[str, str]]:\n",
        "\n",
        "    \"\"\"Return a chat prompt (list of role/content dicts) for one problem.\"\"\"\n",
        "    a, b, c, d, e, f = coeffs\n",
        "    problem_lines = f\"{a}x + {b}y = {e}\\n{c}x + {d}y = {f}\"\n",
        "\n",
        "    # ── 1 · SYSTEM MESSAGE ────────────────────────────────────────────\n",
        "    system_msg = {\n",
        "        \"role\": \"system\",\n",
        "        \"content\": (\n",
        "            \"You are a student solving 2×2 linear systems in algebra class. \"\n",
        "            f\"You always make the following algebra mistake: \"\n",
        "            f\"{TEMPLATE_DESCRIPTIONS[template]}. Remember to make the mistake instead of solving the original problem correctly.\"\n",
        "            \"Show your work line-by-line using exact fractions. Do not use LaTeX for fractions, write them as e.g. 4/5 or -6/7. \"\n",
        "            + LENGTH_HINT\n",
        "        ),\n",
        "    }\n",
        "\n",
        "    # ── 2 · USER TASK  (ordinary teacher prompt) ──────────────────────\n",
        "    user_msg = {\n",
        "        \"role\": \"user\",\n",
        "        \"content\": \"Solve the system and show your work:\\n\\n\" + problem_lines,\n",
        "    }\n",
        "\n",
        "    # ── 3 · Assemble prompt:  system -> few-shot -> live task ───────────\n",
        "    prompt: List[Dict[str, str]] = [system_msg]\n",
        "    prompt.extend(FEW_SHOTS[template])\n",
        "    prompt.append(user_msg)\n",
        "\n",
        "    return prompt\n"
      ]
    },
    {
      "cell_type": "markdown",
      "source": [
        "The function `parse_final_xy` parses the final answer, this is used for the programmatic/numerical judge."
      ],
      "metadata": {
        "id": "YpNKC1gEz_0T"
      }
    },
    {
      "cell_type": "code",
      "execution_count": 43,
      "metadata": {
        "id": "1d0QDE17g-85"
      },
      "outputs": [],
      "source": [
        "# -----------------------------------------------------------------------------\n",
        "# Regex parser for final answer tuple\n",
        "# -----------------------------------------------------------------------------\n",
        "\n",
        "FINAL_PAIR_RE = re.compile(r\"Answer:\\s*\\(\\s*([^,]+?)\\s*,\\s*([^\\)]+?)\\s*\\)\") # ok...\n",
        "\n",
        "def parse_final_xy(text: str) -> Tuple[str, str] | None:\n",
        "    \"\"\"Return the two string components of the final tuple, or None if not found.\"\"\"\n",
        "\n",
        "    m = FINAL_PAIR_RE.search(text)\n",
        "    if not m:\n",
        "        return None\n",
        "    return m.group(1).strip(), m.group(2).strip()\n"
      ]
    },
    {
      "cell_type": "markdown",
      "source": [
        "Small test of the prompt and regex:"
      ],
      "metadata": {
        "id": "qWEJNxap3hWp"
      }
    },
    {
      "cell_type": "code",
      "source": [
        "def _test_prompt_and_regex():\n",
        "\n",
        "    coeffs = (2, 1, -3, 4, 7, -5)\n",
        "    prompt = build_prompt(coeffs, \"SWAP_RHS\")\n",
        "\n",
        "    assert prompt[-1][\"role\"] == \"user\"\n",
        "\n",
        "    fake_answer = \"Some text…\\nAnswer: (1/2, -3/4)\"\n",
        "    assert parse_final_xy(fake_answer) == (\"1/2\", \"-3/4\")\n",
        "\n",
        "_test_prompt_and_regex()\n",
        "print(\"Prompt builder and regex parser test passed.\")\n"
      ],
      "metadata": {
        "colab": {
          "base_uri": "https://localhost:8080/"
        },
        "id": "ObnWdWD83TDP",
        "outputId": "5f12b3ca-a01c-439b-91d0-3c984d3e11ff"
      },
      "execution_count": 44,
      "outputs": [
        {
          "output_type": "stream",
          "name": "stdout",
          "text": [
            "Prompt builder and regex parser test passed.\n"
          ]
        }
      ]
    },
    {
      "cell_type": "markdown",
      "source": [
        "Now we write the `generate_sample` function, which generates incorrect student solutions according to a given error template.\n",
        "\n",
        "The function `_has_unique_solution` verifies that the modified system corresponding to an incorrect student answer has a unique solution, in order to avoid having \"(No solution)\" or \"(Infinitely many solutions)\" as answer (this can be removed later, it's only here for now because it messes with the final answer parser, but a better parser would deal with it)."
      ],
      "metadata": {
        "id": "H-Dqbc8x0mYe"
      }
    },
    {
      "cell_type": "code",
      "execution_count": 53,
      "metadata": {
        "id": "eGs9RYC9mMBF"
      },
      "outputs": [],
      "source": [
        "# -----------------------------------------------------------------------------\n",
        "# Main generation function\n",
        "# -----------------------------------------------------------------------------\n",
        "\n",
        "# select model and temperature\n",
        "WRITER_MODEL_NAME = \"gpt-4.1-mini\"\n",
        "WRITER_TEMPERATURE = 0.8\n",
        "\n",
        "# want to limit number of tokens just in case\n",
        "WRITER_MAX_TOKENS = 300\n",
        "\n",
        "\n",
        "client = OpenAI(api_key=openai.api_key)\n",
        "\n",
        "\n",
        "# ------------------------------------------------------------------\n",
        "# helper: unique‐solution test for the *wrong* system\n",
        "# ------------------------------------------------------------------\n",
        "def _has_unique_solution(coeffs: Tuple[int, int, int, int, int, int],\n",
        "                         template: str) -> bool:\n",
        "    a, b, c, d, e, f = coeffs\n",
        "\n",
        "    # apply the template to get the wrong right-hand side\n",
        "    wrong_x, wrong_y = lst.ERROR_TEMPLATES[template](*coeffs)\n",
        "\n",
        "    # 2×2 determinant of the *coefficient* matrix after the template\n",
        "    det = sp.Matrix([[a, b], [c, d]]).det()\n",
        "    if det == 0:\n",
        "        return False                     # infinite/none → reject\n",
        "\n",
        "    # if det != 0 SymPy guarantees a unique solution exists\n",
        "    return True\n",
        "\n",
        "# ------------------------------------------------------------------\n",
        "# generate_sample\n",
        "# ------------------------------------------------------------------\n",
        "\n",
        "MAX_RAND_RETRIES = 2   # draw-new-coefficients limit, in case we get a system with no/infinitely many solutions (this should be rare...)\n",
        "\n",
        "def generate_sample(template: str,\n",
        "                    rand_retries: int = MAX_RAND_RETRIES,\n",
        "                    llm_retries: int = 3) -> Dict[str, Any]:\n",
        "\n",
        "    \"\"\"Return a fully checked row or raise RuntimeError after many draws.\"\"\"\n",
        "\n",
        "    attempt = 0\n",
        "    while attempt < rand_retries:\n",
        "\n",
        "        # print(\"attempt number\", attempt)\n",
        "        coeffs = lst.random_coefficients()\n",
        "        if not _has_unique_solution(coeffs, template):\n",
        "            attempt += 1\n",
        "            continue                       # redraw coefficients\n",
        "\n",
        "        # ------------ original writer -> judge block ------------\n",
        "        for _ in range(llm_retries):\n",
        "\n",
        "            # print(\"llm generating...\")\n",
        "            messages = build_prompt(coeffs, template)\n",
        "            resp = client.chat.completions.create(\n",
        "                model = WRITER_MODEL_NAME,\n",
        "                messages=messages,\n",
        "                temperature= WRITER_TEMPERATURE,\n",
        "                max_tokens = WRITER_MAX_TOKENS,\n",
        "            )\n",
        "            assistant_text = resp.choices[0].message.content\n",
        "            # print(\"generated:\", assistant_text)\n",
        "\n",
        "            parsed = parse_final_xy(assistant_text)\n",
        "            wrong_xy = lst.ERROR_TEMPLATES[template](*coeffs)\n",
        "\n",
        "            if parsed is None:\n",
        "\n",
        "                time.sleep(0.1)            # small back-off then retry LLM\n",
        "                continue\n",
        "\n",
        "            # ---------- build record ----------\n",
        "            a, b, c, d, e, f = coeffs\n",
        "            return {\n",
        "                \"problem\": f\"{a}x + {b}y = {e}; {c}x + {d}y = {f}\",\n",
        "                \"coefficients\": list(coeffs),\n",
        "                \"template\": template,\n",
        "                \"template_description\": TEMPLATE_DESCRIPTIONS[template],\n",
        "                \"answer_steps\": assistant_text,\n",
        "                \"final_xy\": [str(parsed[0]), str(parsed[1])],\n",
        "                \"wrong_xy\": [str(wrong_xy[0]), str(wrong_xy[1])],\n",
        "                \"label\": template,\n",
        "                \"writer_model\": MODEL_NAME,\n",
        "                \"created_utc\": int(time.time()),\n",
        "            }\n",
        "\n",
        "        # LLM failed all retries for this coefficient set: redraw\n",
        "        attempt += 1\n",
        "\n",
        "    raise RuntimeError(\n",
        "        f\"Could not generate a valid sample for {template} \"\n",
        "        f\"after {rand_retries} coefficient draws.\"\n",
        "    )\n"
      ]
    },
    {
      "cell_type": "code",
      "source": [
        "record = generate_sample(template = \"FLIP_SIGN\")\n",
        "\n",
        "record"
      ],
      "metadata": {
        "colab": {
          "base_uri": "https://localhost:8080/"
        },
        "id": "9DExQmUQ24WK",
        "outputId": "c92cc9ed-28dd-4407-9e90-c7e54e2aff82"
      },
      "execution_count": 54,
      "outputs": [
        {
          "output_type": "execute_result",
          "data": {
            "text/plain": [
              "{'problem': '0x + 5y = 1; -1x + 2y = -4',\n",
              " 'coefficients': [0, 5, -1, 2, 1, -4],\n",
              " 'template': 'FLIP_SIGN',\n",
              " 'template_description': 'multiply both right-hand side constants by −1 before solving. the other coefficients remain the same. For example 2x + 3y = 4, 5x + 6y = 7 transforms into 2x + 3y = -4, 5x + 6y = -7',\n",
              " 'answer_steps': '0x + 5y = -1\\n-1x + 2y = 4\\n→ 5y = -1 ⇒ y = -1/5\\n→ -x + 2(-1/5) = 4 ⇒ -x - 2/5 = 4 ⇒ -x = 4 + 2/5 = 22/5 ⇒ x = -22/5\\nAnswer: (-22/5, -1/5)',\n",
              " 'final_xy': ['-22/5', '-1/5'],\n",
              " 'wrong_xy': ['-22/5', '-1/5'],\n",
              " 'label': 'FLIP_SIGN',\n",
              " 'writer_model': 'gpt-4.1-mini',\n",
              " 'created_utc': 1750619084}"
            ]
          },
          "metadata": {},
          "execution_count": 54
        }
      ]
    },
    {
      "cell_type": "markdown",
      "source": [
        "The function `write_jsonl` generates a number `n_rows` of samples, and writes them to a JSONL file stored in filepath `path`."
      ],
      "metadata": {
        "id": "kwIDTAON2cUu"
      }
    },
    {
      "cell_type": "code",
      "execution_count": 47,
      "metadata": {
        "id": "te-JixvNg--8"
      },
      "outputs": [],
      "source": [
        "# -----------------------------------------------------------------------------\n",
        "# dump N rows to a JSONL file\n",
        "# -----------------------------------------------------------------------------\n",
        "\n",
        "def write_jsonl(path: Path, n_rows: int = 100, verbose = False):\n",
        "\n",
        "    path.parent.mkdir(parents=True, exist_ok=True)\n",
        "\n",
        "    with path.open(\"w\", encoding=\"utf-8\") as f:\n",
        "        for _ in range(n_rows):\n",
        "            template = random.choice(list(lst.ERROR_TEMPLATES))\n",
        "            rec = generate_sample(template)\n",
        "            if verbose:\n",
        "              print(rec)\n",
        "            f.write(json.dumps(rec, ensure_ascii=False) + \"\\n\")\n",
        "\n",
        "    print(f\"Wrote {n_rows} rows ➜ {path}\")"
      ]
    },
    {
      "cell_type": "markdown",
      "source": [
        "We generate student answers and write them to `sample_data_path`."
      ],
      "metadata": {
        "id": "ksF1mp8R4Eo2"
      }
    },
    {
      "cell_type": "code",
      "execution_count": 48,
      "metadata": {
        "colab": {
          "base_uri": "https://localhost:8080/"
        },
        "id": "hWcKzDxJ-ddc",
        "outputId": "7ad5e002-4a0f-4bc2-f9bb-ddaeac91d18d"
      },
      "outputs": [
        {
          "output_type": "stream",
          "name": "stdout",
          "text": [
            "{'problem': '-2x + -5y = -4; 0x + 2y = -3', 'coefficients': [-2, -5, 0, 2, -4, -3], 'template': 'SIGN_ERROR_EQ1', 'template_description': 'flip the sign of the coefficient *b* (coefficient for y) in the first equation. For example if the first equation is 2x + 3y = 4, it transforms into 2x - 3y = 4', 'answer_steps': '-2x - (-5y) = -4  \\n0x + 2y = -3  \\n→ Second: 2y = -3 ⇒ y = -3/2  \\n→ Substitute y: -2x + 5(-3/2) = -4  \\n-2x - 15/2 = -4 ⇒ -2x = -4 + 15/2  \\n-2x = -8/2 + 15/2 = 7/2 ⇒ x = -7/4  \\nAnswer: (-7/4, -3/2)', 'final_xy': ['-7/4', '-3/2'], 'wrong_xy': ['-7/4', '-3/2'], 'label': 'SIGN_ERROR_EQ1', 'writer_model': 'gpt-4.1-mini', 'created_utc': 1750618730}\n",
            "{'problem': '-1x + 2y = 0; 4x + 3y = 4', 'coefficients': [-1, 2, 4, 3, 0, 4], 'template': 'FLIP_SIGN', 'template_description': 'multiply both right-hand side constants by −1 before solving. the other coefficients remain the same. For example 2x + 3y = 4, 5x + 6y = 7 transforms into 2x + 3y = -4, 5x + 6y = -7', 'answer_steps': '-1x + 2y = 0\\n4x + 3y = -4\\n→ From the first: -x = -2y ⇒ x = 2y\\n→ Substitute in second: 4(2y) + 3y = -4 ⇒ 8y + 3y = -4 ⇒ 11y = -4 ⇒ y = -4/11\\n→ x = 2(-4/11) = -8/11\\nAnswer: (-8/11, -4/11)', 'final_xy': ['-8/11', '-4/11'], 'wrong_xy': ['-8/11', '-4/11'], 'label': 'FLIP_SIGN', 'writer_model': 'gpt-4.1-mini', 'created_utc': 1750618733}\n",
            "{'problem': '5x + -2y = 2; -1x + 2y = -5', 'coefficients': [5, -2, -1, 2, 2, -5], 'template': 'SIGN_ERROR_EQ1', 'template_description': 'flip the sign of the coefficient *b* (coefficient for y) in the first equation. For example if the first equation is 2x + 3y = 4, it transforms into 2x - 3y = 4', 'answer_steps': '5x + 2y = 2\\n-1x + 2y = -5\\n→ From the second: -x + 2y = -5 ⇒ x = 2y + 5\\n→ Substitute: 5(2y + 5) + 2y = 2\\n  10y + 25 + 2y = 2 ⇒ 12y = 2 - 25 ⇒ 12y = -23 ⇒ y = -23/12\\n→ x = 2(-23/12) + 5 = -46/12 + 5 = -23/6 + 5 = 7/6\\nAnswer: (7/6, -23/12)', 'final_xy': ['7/6', '-23/12'], 'wrong_xy': ['7/6', '-23/12'], 'label': 'SIGN_ERROR_EQ1', 'writer_model': 'gpt-4.1-mini', 'created_utc': 1750618735}\n",
            "{'problem': '4x + 2y = -2; 2x + 2y = 1', 'coefficients': [4, 2, 2, 2, -2, 1], 'template': 'SWAP_RHS', 'template_description': 'swap the independent coefficients of the equations (the coefficients after the = sign, which do not multiply x or y) before solving.For example, if the original problem is 2x + 3y = 4, 5x + 6y = 7, then swapping we get 2x + 3y = 7, 5x + 6y =4', 'answer_steps': '4x + 2y = 1  \\n2x + 2y = -2  \\n→ Subtract the second equation from the first:  \\n(4x - 2x) + (2y - 2y) = 1 - (-2)  \\n2x = 3  \\nx = 3/2  \\n→ Substitute x = 3/2 into second equation:  \\n2(3/2) + 2y = -2  \\n3 + 2y = -2  \\n2y = -5  \\ny = -5/2  \\nAnswer: (3/2, -5/2)', 'final_xy': ['3/2', '-5/2'], 'wrong_xy': ['3/2', '-5/2'], 'label': 'SWAP_RHS', 'writer_model': 'gpt-4.1-mini', 'created_utc': 1750618738}\n",
            "{'problem': '-3x + -2y = -5; 2x + 3y = -3', 'coefficients': [-3, -2, 2, 3, -5, -3], 'template': 'SIGN_ERROR_EQ1', 'template_description': 'flip the sign of the coefficient *b* (coefficient for y) in the first equation. For example if the first equation is 2x + 3y = 4, it transforms into 2x - 3y = 4', 'answer_steps': '-3x - (-2y) = -5  (flip sign of b in first equation)\\n-3x + 2y = -5\\n2x + 3y = -3\\n→ From the first: -3x + 2y = -5\\nMultiply second by 3: 6x + 9y = -9\\nMultiply first by 2: -6x + 4y = -10\\nAdd: (6x - 6x) + (9y + 4y) = -9 - 10 ⇒ 13y = -19 ⇒ y = -19/13\\n→ Substitute y into second: 2x + 3(-19/13) = -3\\n2x - 57/13 = -3 ⇒ 2x = -3 + 57/13 = (-39/13) + (57/13) = 18/13 ⇒ x = 9/13\\nAnswer: (9/13, -19/13)', 'final_xy': ['9/13', '-19/13'], 'wrong_xy': ['9/13', '-19/13'], 'label': 'SIGN_ERROR_EQ1', 'writer_model': 'gpt-4.1-mini', 'created_utc': 1750618742}\n",
            "{'problem': '2x + -3y = 3; -5x + -4y = -1', 'coefficients': [2, -3, -5, -4, 3, -1], 'template': 'SIGN_ERROR_EQ1', 'template_description': 'flip the sign of the coefficient *b* (coefficient for y) in the first equation. For example if the first equation is 2x + 3y = 4, it transforms into 2x - 3y = 4', 'answer_steps': '2x - (-3)y = 3  →  2x + 3y = 3\\n-5x - 4y = -1\\n→ From the first: 2x = 3 - 3y\\n→ x = (3 - 3y)/2\\n→ Substitute into second: -5((3 - 3y)/2) - 4y = -1\\n→ Multiply both sides by 2: -5(3 - 3y) - 8y = -2\\n→ -15 + 15y - 8y = -2 → 7y = 13 → y = 13/7\\n→ x = (3 - 3(13/7))/2 = (3 - 39/7)/2 = (21/7 - 39/7)/2 = (-18/7)/2 = -9/7\\nAnswer: (-9/7, 13/7)', 'final_xy': ['-9/7', '13/7'], 'wrong_xy': ['-9/7', '13/7'], 'label': 'SIGN_ERROR_EQ1', 'writer_model': 'gpt-4.1-mini', 'created_utc': 1750618745}\n",
            "{'problem': '2x + 2y = 3; -2x + -1y = -2', 'coefficients': [2, 2, -2, -1, 3, -2], 'template': 'SWAP_RHS', 'template_description': 'swap the independent coefficients of the equations (the coefficients after the = sign, which do not multiply x or y) before solving.For example, if the original problem is 2x + 3y = 4, 5x + 6y = 7, then swapping we get 2x + 3y = 7, 5x + 6y =4', 'answer_steps': '2x + 2y = -2\\n-2x - 1y = 3\\n→ Add the two equations: (2x - 2x) + (2y - 1y) = -2 + 3\\n  0x + 1y = 1 ⇒ y = 1\\n→ Substitute y = 1 into the first: 2x + 2(1) = -2\\n  2x + 2 = -2 ⇒ 2x = -4 ⇒ x = -2\\nAnswer: (-2, 1)', 'final_xy': ['-2', '1'], 'wrong_xy': ['-2', '1'], 'label': 'SWAP_RHS', 'writer_model': 'gpt-4.1-mini', 'created_utc': 1750618748}\n",
            "{'problem': '4x + -3y = 2; 4x + 5y = -3', 'coefficients': [4, -3, 4, 5, 2, -3], 'template': 'SIGN_ERROR_EQ1', 'template_description': 'flip the sign of the coefficient *b* (coefficient for y) in the first equation. For example if the first equation is 2x + 3y = 4, it transforms into 2x - 3y = 4', 'answer_steps': '4x - (-3y) = 2 → 4x + 3y = 2  \\n4x + 5y = -3  \\n→ Subtract the first from the second: (4x + 5y) - (4x + 3y) = -3 - 2  \\n→ 2y = -5 ⇒ y = -5/2  \\n→ Substitute y into first: 4x + 3(-5/2) = 2  \\n→ 4x - 15/2 = 2 ⇒ 4x = 2 + 15/2 = 4/2 + 15/2 = 19/2  \\n→ x = 19/8  \\nAnswer: (19/8, -5/2)', 'final_xy': ['19/8', '-5/2'], 'wrong_xy': ['19/8', '-5/2'], 'label': 'SIGN_ERROR_EQ1', 'writer_model': 'gpt-4.1-mini', 'created_utc': 1750618751}\n",
            "{'problem': '5x + -2y = -2; -2x + -3y = 4', 'coefficients': [5, -2, -2, -3, -2, 4], 'template': 'SWAP_RHS', 'template_description': 'swap the independent coefficients of the equations (the coefficients after the = sign, which do not multiply x or y) before solving.For example, if the original problem is 2x + 3y = 4, 5x + 6y = 7, then swapping we get 2x + 3y = 7, 5x + 6y =4', 'answer_steps': '5x - 2y = 4\\n-2x - 3y = -2\\n→ From the first equation: 5x = 4 + 2y ⇒ x = (4 + 2y)/5\\n→ Substitute into the second: -2((4 + 2y)/5) - 3y = -2\\n  (-8 - 4y)/5 - 3y = -2\\n→ Multiply both sides by 5: -8 - 4y - 15y = -10\\n  -19y = -2 ⇒ y = 2/19\\n→ x = (4 + 2(2/19))/5 = (4 + 4/19)/5 = (76/19 + 4/19)/5 = 80/19/5 = 80/95 = 16/19\\nAnswer: (16/19, 2/19)', 'final_xy': ['16/19', '2/19'], 'wrong_xy': ['16/19', '2/19'], 'label': 'SWAP_RHS', 'writer_model': 'gpt-4.1-mini', 'created_utc': 1750618755}\n",
            "{'problem': '2x + -2y = -2; 4x + 3y = 4', 'coefficients': [2, -2, 4, 3, -2, 4], 'template': 'SWAP_RHS', 'template_description': 'swap the independent coefficients of the equations (the coefficients after the = sign, which do not multiply x or y) before solving.For example, if the original problem is 2x + 3y = 4, 5x + 6y = 7, then swapping we get 2x + 3y = 7, 5x + 6y =4', 'answer_steps': '2x - 2y = 4\\n4x + 3y = -2\\n→ From the first equation: 2x = 4 + 2y ⇒ x = (4 + 2y)/2 = 2 + y\\n→ Substitute into the second: 4(2 + y) + 3y = -2\\n  8 + 4y + 3y = -2 ⇒ 7y = -10 ⇒ y = -10/7\\n→ x = 2 + (-10/7) = 14/7 - 10/7 = 4/7\\nAnswer: (4/7, -10/7)', 'final_xy': ['4/7', '-10/7'], 'wrong_xy': ['4/7', '-10/7'], 'label': 'SWAP_RHS', 'writer_model': 'gpt-4.1-mini', 'created_utc': 1750618758}\n",
            "{'problem': '2x + 2y = 3; 1x + 0y = 2', 'coefficients': [2, 2, 1, 0, 3, 2], 'template': 'SWAP_RHS', 'template_description': 'swap the independent coefficients of the equations (the coefficients after the = sign, which do not multiply x or y) before solving.For example, if the original problem is 2x + 3y = 4, 5x + 6y = 7, then swapping we get 2x + 3y = 7, 5x + 6y =4', 'answer_steps': '2x + 2y = 2\\n1x + 0y = 3\\n→ From the second equation: x = 3\\n→ Substitute into the first: 2·3 + 2y = 2 ⇒ 6 + 2y = 2 ⇒ 2y = -4 ⇒ y = -2\\nAnswer: (3, -2)', 'final_xy': ['3', '-2'], 'wrong_xy': ['3', '-2'], 'label': 'SWAP_RHS', 'writer_model': 'gpt-4.1-mini', 'created_utc': 1750618761}\n",
            "{'problem': '-4x + 5y = 1; 5x + -4y = 3', 'coefficients': [-4, 5, 5, -4, 1, 3], 'template': 'FLIP_SIGN', 'template_description': 'multiply both right-hand side constants by −1 before solving. the other coefficients remain the same. For example 2x + 3y = 4, 5x + 6y = 7 transforms into 2x + 3y = -4, 5x + 6y = -7', 'answer_steps': '-4x + 5y = -1\\n5x - 4y = -3\\n→ Multiply first by 5: -20x + 25y = -5\\n→ Multiply second by 4: 20x - 16y = -12\\nAdd: 9y = -17 ⇒ y = -17/9\\n→ -4x + 5(-17/9) = -1 ⇒ -4x - 85/9 = -1\\n→ -4x = -1 + 85/9 = -9/9 + 85/9 = 76/9 ⇒ x = -19/9\\nAnswer: (-19/9, -17/9)', 'final_xy': ['-19/9', '-17/9'], 'wrong_xy': ['-19/9', '-17/9'], 'label': 'FLIP_SIGN', 'writer_model': 'gpt-4.1-mini', 'created_utc': 1750618763}\n",
            "{'problem': '3x + -3y = 2; 4x + 0y = 5', 'coefficients': [3, -3, 4, 0, 2, 5], 'template': 'FLIP_SIGN', 'template_description': 'multiply both right-hand side constants by −1 before solving. the other coefficients remain the same. For example 2x + 3y = 4, 5x + 6y = 7 transforms into 2x + 3y = -4, 5x + 6y = -7', 'answer_steps': '3x - 3y = -2  \\n4x = -5  \\nFrom the second: x = -5/4  \\nSubstitute: 3(-5/4) - 3y = -2  \\n-15/4 - 3y = -2 ⇒ -3y = -2 + 15/4 = -8/4 + 15/4 = 7/4 ⇒ y = -7/12  \\nAnswer: (-5/4, -7/12)', 'final_xy': ['-5/4', '-7/12'], 'wrong_xy': ['-5/4', '-7/12'], 'label': 'FLIP_SIGN', 'writer_model': 'gpt-4.1-mini', 'created_utc': 1750618766}\n",
            "{'problem': '3x + -2y = -4; 1x + -5y = 5', 'coefficients': [3, -2, 1, -5, -4, 5], 'template': 'SWAP_RHS', 'template_description': 'swap the independent coefficients of the equations (the coefficients after the = sign, which do not multiply x or y) before solving.For example, if the original problem is 2x + 3y = 4, 5x + 6y = 7, then swapping we get 2x + 3y = 7, 5x + 6y =4', 'answer_steps': '3x - 2y = 5\\nx - 5y = -4\\n→ From the second: x = -4 + 5y\\n→ Substitute into the first: 3(-4 + 5y) - 2y = 5\\n  -12 + 15y - 2y = 5 ⇒ 13y = 17 ⇒ y = 17/13\\n→ x = -4 + 5(17/13) = -4 + 85/13 = (-52/13) + (85/13) = 33/13\\nAnswer: (33/13, 17/13)', 'final_xy': ['33/13', '17/13'], 'wrong_xy': ['33/13', '17/13'], 'label': 'SWAP_RHS', 'writer_model': 'gpt-4.1-mini', 'created_utc': 1750618768}\n",
            "{'problem': '4x + 2y = 2; 2x + -3y = -1', 'coefficients': [4, 2, 2, -3, 2, -1], 'template': 'SIGN_ERROR_EQ1', 'template_description': 'flip the sign of the coefficient *b* (coefficient for y) in the first equation. For example if the first equation is 2x + 3y = 4, it transforms into 2x - 3y = 4', 'answer_steps': '4x - 2y = 2  \\n2x + -3y = -1  \\nFrom second: 2x - 3y = -1  \\nMultiply second by 2: 4x - 6y = -2  \\nSubtract first: (4x - 6y) - (4x - 2y) = -2 - 2  \\n-6y + 2y = -4 ⇒ -4y = -4 ⇒ y = 1  \\nFrom first: 4x - 2(1) = 2 ⇒ 4x - 2 = 2 ⇒ 4x = 4 ⇒ x = 1  \\nAnswer: (1, 1)', 'final_xy': ['1', '1'], 'wrong_xy': ['1', '1'], 'label': 'SIGN_ERROR_EQ1', 'writer_model': 'gpt-4.1-mini', 'created_utc': 1750618771}\n",
            "Wrote 15 rows ➜ /content/drive/MyDrive/Erdos/sample_data/sample_data.jsonl\n"
          ]
        }
      ],
      "source": [
        "sample_data_path = \"/content/drive/MyDrive/Erdos/sample_data/sample_data.jsonl\"\n",
        "\n",
        "write_jsonl(Path(sample_data_path), n_rows = 15, verbose = True)\n"
      ]
    },
    {
      "cell_type": "markdown",
      "source": [
        "# Step 2: Programmatic/numerical judge.\n",
        "\n",
        "Here we use the `judge` module to test if generated student solutions have a final answer which coincides with the final answer obtained when making the intended mistake. We also get the reason why solutions are rejected (answer does not match intended answer, or collides with correct problem answer).\n",
        "\n",
        "This can be wrapped into a function later..."
      ],
      "metadata": {
        "id": "gwwD4tt84N7s"
      }
    },
    {
      "cell_type": "code",
      "execution_count": 52,
      "metadata": {
        "colab": {
          "base_uri": "https://localhost:8080/"
        },
        "id": "pGA2AfDxmUsN",
        "outputId": "01249936-f73d-419b-ab7f-48137de9c4fc"
      },
      "outputs": [
        {
          "output_type": "stream",
          "name": "stdout",
          "text": [
            "\n",
            "Judged 15 rows from sample_data.jsonl\n",
            "  ok              :     15\n"
          ]
        }
      ],
      "source": [
        "# ---------------------------------------------------------------------\n",
        "sample_path = \"/content/drive/MyDrive/Erdos/sample_data/sample_data.jsonl\"\n",
        "# ---------------------------------------------------------------------\n",
        "\n",
        "path = pathlib.Path(sample_path)\n",
        "assert path.is_file(), f\"{path} doesn’t exist\"\n",
        "\n",
        "results = collections.Counter()\n",
        "bad_rows = []       # save failing rows for inspection\n",
        "\n",
        "with path.open(\"r\", encoding=\"utf-8\") as f:\n",
        "    for lineno, line in enumerate(f, 1):\n",
        "        row = json.loads(line)\n",
        "        verdict = judge.judge_sample(row)\n",
        "        results[verdict.reason] += 1\n",
        "\n",
        "        if verdict.is_reject:\n",
        "            bad_rows.append((lineno, row, verdict.reason))\n",
        "\n",
        "# --- summary ----------------------------------------------------------\n",
        "total = sum(results.values())\n",
        "print(f\"\\nJudged {total} rows from {path.name}\")\n",
        "for reason, count in results.items():\n",
        "    print(f\"  {reason:15s} : {count:>6}\")\n",
        "\n",
        "# --- look at first few failures --------------------------------------\n",
        "if bad_rows:\n",
        "    print(\"\\nFirst 3 rejects:\")\n",
        "    for ln, row, reason in bad_rows[:3]:\n",
        "        print(f\"  line {ln}: {reason}  →  {row['answer_steps'][:80]}…\")\n",
        "\n"
      ]
    },
    {
      "cell_type": "markdown",
      "source": [
        "Does the same as above, but saves good data to `clean_path` and bad data to `rejects_path`.\n",
        "\n",
        "Good data is saved to a JSONL file with the same name as the original file, appending '_numerical_ok' at the end of the filename. For bad data we append '_numerical_reject' instead."
      ],
      "metadata": {
        "id": "EnBmtdy_6ilN"
      }
    },
    {
      "cell_type": "code",
      "execution_count": 51,
      "metadata": {
        "colab": {
          "base_uri": "https://localhost:8080/"
        },
        "id": "clQP9gHd-4Hz",
        "outputId": "406a10eb-6829-4c8b-ad9a-b82d0fa0432a"
      },
      "outputs": [
        {
          "output_type": "stream",
          "name": "stdout",
          "text": [
            "Kept 15 rows  ➜  sample_data_numerical_ok.jsonl\n",
            "Rejected 0 rows ➜  sample_data_numerical_reject.jsonl\n"
          ]
        }
      ],
      "source": [
        "# paths\n",
        "raw_path   = Path(\"/content/drive/MyDrive/Erdos/sample_data/sample_data.jsonl\")\n",
        "clean_path = raw_path.with_name(raw_path.stem + \"_numerical_ok.jsonl\")\n",
        "rejects_path = raw_path.with_name(raw_path.stem + \"_numerical_reject.jsonl\")\n",
        "# ---------------------------------------------------\n",
        "keep, toss = 0, 0\n",
        "with raw_path.open(\"r\", encoding=\"utf-8\") as inp, \\\n",
        "     clean_path.open(\"w\", encoding=\"utf-8\") as ok_out, \\\n",
        "     rejects_path.open(\"w\", encoding=\"utf-8\") as bad_out:\n",
        "\n",
        "    for line in inp:\n",
        "        row = json.loads(line)\n",
        "        v   = judge.judge_sample(row)\n",
        "        if v.ok:\n",
        "            ok_out.write(line)\n",
        "            keep += 1\n",
        "        else:\n",
        "            bad_out.write(line)\n",
        "            toss += 1\n",
        "\n",
        "print(f\"Kept {keep} rows  ➜  {clean_path.name}\")\n",
        "print(f\"Rejected {toss} rows ➜  {rejects_path.name}\")\n"
      ]
    },
    {
      "cell_type": "markdown",
      "source": [
        "# Step 3: LLM judge\n",
        "\n",
        "Here we use an LLM to check whether the student solutions generated earlier and which passed the numerical filter contain the desired reasoning mistakes. This can also be wrapped into a function, and possibly incorporating more than one judge LLM.\n",
        "\n"
      ],
      "metadata": {
        "id": "0QObcBVi6g3T"
      }
    },
    {
      "cell_type": "markdown",
      "source": [
        "The prompt given to the LLM judge will contain:\n",
        "\n",
        "\n",
        "1.   General instructions on what to do (see `JUDGE_SYSTEM_MSG`).\n",
        "2.   A few examples of student solutions and a judge verdict (see `FEW_SHOT_llm_judge`).\n",
        "3.   The problem statement, a description of the intended error, and the student's solution.\n",
        "\n",
        "\n",
        "\n",
        "\n"
      ],
      "metadata": {
        "id": "NxH68nd39O4C"
      }
    },
    {
      "cell_type": "code",
      "execution_count": 102,
      "metadata": {
        "id": "N7slbDFMIQvs"
      },
      "outputs": [],
      "source": [
        "\"\"\"\n",
        "LLM-based reasoning checker.\n",
        "Reads a JSONL of rows that have ALREADY passed numeric judging and\n",
        "outputs two files:\n",
        "  *_reasoning_ok.jsonl\n",
        "  *_reasoning_rejects.jsonl\n",
        "\"\"\"\n",
        "\n",
        "JUDGE_MODEL = \"gpt-4.1-mini\"\n",
        "JUDGE_TEMPERATURE = 0.1\n",
        "JUDGE_MAX_TOKENS = 60\n",
        "\n",
        "JUDGE_SYSTEM_MSG = (\n",
        "    \"You are a strict grader. You will be given a problem together with: a student's solution and a description of a mathematical mistake.\"\n",
        "    \"You should look at the student's reasoning, and determine if it matches the described mistake. \"\n",
        "    \"Answer YES if the solution matches the described mistake, otherwise answer NO.\"\n",
        "    \"Before saying YES or NO, give your concise justification in at most two sentences.\"\n",
        ")\n",
        "\n"
      ]
    },
    {
      "cell_type": "code",
      "execution_count": 85,
      "metadata": {
        "id": "3oaoB9Q0IQy3"
      },
      "outputs": [],
      "source": [
        "FEW_SHOT_llm_judge = [\n",
        "    # ---------- 1-2. SWAP_RHS ----------\n",
        "    # 1. Positive — student swaps the right-hand constants and nothing else\n",
        "    {\n",
        "        \"role\": \"user\",\n",
        "        \"content\": (\n",
        "            \"PROBLEM:\\n2x + 3y = 4 ; 5x − y = 8\\n\\n\"\n",
        "            \"TEMPLATE (intended mistake): swap the independent coefficients of the equations\\n\\n\"\n",
        "            \"STUDENT STEPS:\\n2x + 3y = 8   ← swapped\\n5x − y = 4    ← swapped\\n\\n\"\n",
        "            \"Does the student’s reasoning follow exactly that template? \"\n",
        "            \"Respond with your reasoning and finish with YES or NO on the last line.\"\n",
        "        ),\n",
        "    },\n",
        "    {\n",
        "        \"role\": \"assistant\",\n",
        "        \"content\": (\n",
        "            \"The constants 4 and 8 have been exchanged while every other coefficient stays the same, \"\n",
        "            \"matching the swap-RHS template precisely.\\nYES\"\n",
        "        ),\n",
        "    },\n",
        "\n",
        "    # 2. Negative — student swaps but also flips a sign on one constant\n",
        "    {\n",
        "        \"role\": \"user\",\n",
        "        \"content\": (\n",
        "            \"PROBLEM:\\n2x + 3y = 4 ; 5x − y = 8\\n\\n\"\n",
        "            \"TEMPLATE (intended mistake): swap the independent coefficients of the equations\\n\\n\"\n",
        "            \"STUDENT STEPS:\\n2x + 3y = −8  ← swapped & sign-flipped\\n5x − y = 4     ← unchanged sign\\n\\n\"\n",
        "            \"Does the student’s reasoning follow exactly that template? \"\n",
        "            \"Respond with your reasoning and finish with YES or NO on the last line.\"\n",
        "        ),\n",
        "    },\n",
        "    {\n",
        "        \"role\": \"assistant\",\n",
        "        \"content\": (\n",
        "            \"The student did swap the constants, but also changed the sign of 8 to −8, adding an extra error. \"\n",
        "            \"Therefore the work does **not** match the template exactly.\\nNO\"\n",
        "        ),\n",
        "    },\n",
        "\n",
        "    # ---------- 3-4. SIGN_ERROR_EQ1 ----------\n",
        "    # 3. Positive — student flips the y-coefficient sign only in the first equation\n",
        "    {\n",
        "        \"role\": \"user\",\n",
        "        \"content\": (\n",
        "            \"PROBLEM:\\n4x + 2y = 6 ; 3x − y = 7\\n\\n\"\n",
        "            \"TEMPLATE (intended mistake): flip the sign of the y-coefficient in the first equation only\\n\\n\"\n",
        "            \"STUDENT STEPS:\\n4x − 2y = 6   ← sign flipped\\n3x − y = 7     ← unchanged\\n\\n\"\n",
        "            \"Does the student’s reasoning follow exactly that template? \"\n",
        "            \"Respond with your reasoning and finish with YES or NO on the last line.\"\n",
        "        ),\n",
        "    },\n",
        "    {\n",
        "        \"role\": \"assistant\",\n",
        "        \"content\": (\n",
        "            \"Only the sign of 2y in the first equation changed; the second equation stayed the same. \"\n",
        "            \"This matches the SIGN_ERROR_EQ1 template.\\nYES\"\n",
        "        ),\n",
        "    },\n",
        "\n",
        "    # 4. Negative — student flips the sign and also changes the RHS constant\n",
        "    {\n",
        "        \"role\": \"user\",\n",
        "        \"content\": (\n",
        "            \"PROBLEM:\\n4x + 2y = 6 ; 3x − y = 7\\n\\n\"\n",
        "            \"TEMPLATE (intended mistake): flip the sign of the y-coefficient in the first equation only\\n\\n\"\n",
        "            \"STUDENT STEPS:\\n4x − 2y = −6  ← sign flipped *and* RHS sign flipped\\n3x − y = 7      ← unchanged\\n\\n\"\n",
        "            \"Does the student’s reasoning follow exactly that template? \"\n",
        "            \"Respond with your reasoning and finish with YES or NO on the last line.\"\n",
        "        ),\n",
        "    },\n",
        "    {\n",
        "        \"role\": \"assistant\",\n",
        "        \"content\": (\n",
        "            \"Besides flipping the y-coefficient’s sign, the student also negated the constant 6, \"\n",
        "            \"introducing an extra deviation. So it doesn’t follow the template exactly.\\nNO\"\n",
        "        ),\n",
        "    },\n",
        "\n",
        "    # ---------- 5-6. FLIP_SIGN ----------\n",
        "    # 5. Positive — student multiplies both RHS constants by −1, nothing else\n",
        "    {\n",
        "        \"role\": \"user\",\n",
        "        \"content\": (\n",
        "            \"PROBLEM:\\n3x + y = 0 ; −x + 4y = −2\\n\\n\"\n",
        "            \"TEMPLATE (intended mistake): multiply both right-hand side constants by −1\\n\\n\"\n",
        "            \"STUDENT STEPS:\\n3x + y = 0     ← RHS flipped since -0 = 0\\n−x + 4y = 2    ← RHS flipped\\n\\n\"\n",
        "            \"Does the student’s reasoning follow exactly that template? \"\n",
        "            \"Respond with your reasoning and finish with YES or NO on the last line.\"\n",
        "        ),\n",
        "    },\n",
        "    {\n",
        "        \"role\": \"assistant\",\n",
        "        \"content\": (\n",
        "            \"Both right-hand constants were negated (recall -0 = 0) while all other coefficients stayed the same, \"\n",
        "            \"exactly as the FLIP_SIGN template describes.\\nYES\"\n",
        "        ),\n",
        "    },\n",
        "\n",
        "    # 6. Negative — student flips RHS but also changes a left-hand coefficient\n",
        "    {\n",
        "        \"role\": \"user\",\n",
        "        \"content\": (\n",
        "            \"PROBLEM:\\n3x + y = 9 ; −x + 4y = −2\\n\\n\"\n",
        "            \"TEMPLATE (intended mistake): multiply both right-hand side constants by −1\\n\\n\"\n",
        "            \"STUDENT STEPS:\\n3x + y = −9      ← RHS flipped correctly\\nx + 4y = 2       ← flipped RHS *and* sign of x-coefficient\\n\\n\"\n",
        "            \"Does the student’s reasoning follow exactly that template? \"\n",
        "            \"Respond with your reasoning and finish with YES or NO on the last line.\"\n",
        "        ),\n",
        "    },\n",
        "    {\n",
        "        \"role\": \"assistant\",\n",
        "        \"content\": (\n",
        "            \"The RHS constants were negated, but the x-coefficient in the second equation also changed \"\n",
        "            \"from −1 to +1, adding a new error. Hence this does **not** match the template.\\nNO\"\n",
        "        ),\n",
        "    },\n",
        "]\n"
      ]
    },
    {
      "cell_type": "markdown",
      "source": [
        "The function `reasoning_ok` evaluates a single student solution."
      ],
      "metadata": {
        "id": "2IeXwP85_P9k"
      }
    },
    {
      "cell_type": "code",
      "execution_count": 96,
      "metadata": {
        "id": "VTHmP6mCIQ1U"
      },
      "outputs": [],
      "source": [
        "def reasoning_ok(problem: str, template_desc: str, steps: str, client, verbose = False) -> bool:\n",
        "    msgs = (\n",
        "        [{\"role\": \"system\", \"content\": JUDGE_SYSTEM_MSG}]\n",
        "        + FEW_SHOT_llm_judge\n",
        "        + [\n",
        "            {\n",
        "                \"role\": \"user\",\n",
        "                \"content\": (\n",
        "                    f\"PROBLEM:\\n{problem}\\n\\n\"\n",
        "                    f\"TEMPLATE (intended mistake): {template_desc}\\n\\n\"\n",
        "                    f\"STUDENT STEPS:\\n{steps}\\n\\n\"\n",
        "                    \"Does the student’s reasoning follow **exactly** that template? \"\n",
        "                    \"Be very brief in your justification! One sentence only.\"\n",
        "                    \"Respond with your reasoning and finish with YES or NO on the last line.\"\n",
        "                ),\n",
        "            }\n",
        "        ]\n",
        "    )\n",
        "    if JUDGE_MODEL != 'o3':\n",
        "      resp = client.chat.completions.create(\n",
        "          model= JUDGE_MODEL, messages = msgs, temperature = JUDGE_TEMPERATURE, max_tokens = JUDGE_MAX_TOKENS)\n",
        "    elif JUDGE_MODEL == 'o3':\n",
        "      resp = client.chat.completions.create(\n",
        "          model= JUDGE_MODEL, messages = msgs, max_completion_tokens = JUDGE_MAX_TOKENS)\n",
        "\n",
        "    reply = resp.choices[0].message.content.strip().upper()\n",
        "\n",
        "    if verbose:\n",
        "      print(reply)\n",
        "\n",
        "    verdict = reply.split()[-1]\n",
        "    return verdict == \"YES\"\n"
      ]
    },
    {
      "cell_type": "markdown",
      "source": [
        "Given student solutions stored in a JSONL file in `src_path`, the function `run_llm_judge` evaluates whether they contain the intended mistakes.\n",
        "\n",
        "It then saves the good and bad entries into JSONL files contained in the same filepath, with the filenames for the good and bad entries being the same as for the original file plus a suffix of '_reasoning_ok' or '_reasoning_rejects'.\n",
        "\n",
        "For debugging (there are many false rejections with weaker models...), we print the student reasoning in the case of rejection. Should also randomly look at some of the acceptances in case errors are slipping through."
      ],
      "metadata": {
        "id": "3EN2O1-2_Wr9"
      }
    },
    {
      "cell_type": "code",
      "execution_count": 94,
      "metadata": {
        "id": "RHOALKH7IQ4B"
      },
      "outputs": [],
      "source": [
        "def run_llm_judge(src_path: Path, verbose = False):\n",
        "    ok_path  = src_path.with_name(src_path.stem + \"_reasoning_ok.jsonl\")\n",
        "    bad_path = src_path.with_name(src_path.stem + \"_reasoning_rejects.jsonl\")\n",
        "\n",
        "    client = openai.OpenAI()  # uses OPENAI_API_KEY from env\n",
        "\n",
        "    keep = toss = 0\n",
        "    with src_path.open() as src, ok_path.open(\"w\") as okf, bad_path.open(\"w\") as badf:\n",
        "        for line in src:\n",
        "            row = json.loads(line)\n",
        "            if reasoning_ok(row[\"problem\"], row[\"template_description\"], row[\"answer_steps\"], client, verbose = verbose):\n",
        "                okf.write(line)\n",
        "                keep += 1\n",
        "            else:\n",
        "                print(\"Problem statement:\", row[\"problem\"])\n",
        "                print(\"Error template:\", row[\"template_description\"])\n",
        "                print(\"Student solution:\", row[\"answer_steps\"])\n",
        "                badf.write(line)\n",
        "                toss += 1\n",
        "\n",
        "    print(\n",
        "        f\"LLM judge done: {keep} OK  |  {toss} rejects \"\n",
        "        f\"→  {ok_path.name}, {bad_path.name}\"\n",
        "    )"
      ]
    },
    {
      "cell_type": "code",
      "execution_count": 103,
      "metadata": {
        "colab": {
          "base_uri": "https://localhost:8080/"
        },
        "id": "dDCB5cfWIRHn",
        "outputId": "6d4671cf-4e18-4e84-b3ac-75666136b8b2"
      },
      "outputs": [
        {
          "output_type": "stream",
          "name": "stdout",
          "text": [
            "THE STUDENT INCORRECTLY REWROTE -5Y AS -(-5Y) = +5Y, EFFECTIVELY FLIPPING THE SIGN OF THE Y-COEFFICIENT IN THE FIRST EQUATION AS THE TEMPLATE REQUIRES. YES\n",
            "THE STUDENT ONLY NEGATED THE SECOND EQUATION'S RHS, NOT BOTH AS THE TEMPLATE REQUIRES.  \n",
            "NO\n",
            "Problem statement: -1x + 2y = 0; 4x + 3y = 4\n",
            "Error template: multiply both right-hand side constants by −1 before solving. the other coefficients remain the same. For example 2x + 3y = 4, 5x + 6y = 7 transforms into 2x + 3y = -4, 5x + 6y = -7\n",
            "Student solution: -1x + 2y = 0\n",
            "4x + 3y = -4\n",
            "→ From the first: -x = -2y ⇒ x = 2y\n",
            "→ Substitute in second: 4(2y) + 3y = -4 ⇒ 8y + 3y = -4 ⇒ 11y = -4 ⇒ y = -4/11\n",
            "→ x = 2(-4/11) = -8/11\n",
            "Answer: (-8/11, -4/11)\n",
            "THE STUDENT FLIPPED THE SIGN OF THE Y-COEFFICIENT IN THE FIRST EQUATION FROM -2Y TO +2Y, MATCHING THE TEMPLATE EXACTLY.  \n",
            "YES\n",
            "THE STUDENT SWAPPED THE CONSTANTS -2 AND 1 EXACTLY AS THE TEMPLATE INSTRUCTS BEFORE SOLVING.  \n",
            "YES\n",
            "THE STUDENT CORRECTLY FLIPPED THE SIGN OF THE Y-COEFFICIENT IN THE FIRST EQUATION FROM -2Y TO +2Y, MATCHING THE TEMPLATE EXACTLY.  \n",
            "YES\n",
            "THE STUDENT REVERSED THE SIGN OF THE Y-COEFFICIENT IN THE FIRST EQUATION FROM -3Y TO +3Y, WHICH IS THE OPPOSITE OF THE INTENDED SIGN FLIP; THUS, THE MISTAKE DOES NOT MATCH THE TEMPLATE EXACTLY.  \n",
            "NO\n",
            "Problem statement: 2x + -3y = 3; -5x + -4y = -1\n",
            "Error template: flip the sign of the coefficient *b* (coefficient for y) in the first equation. For example if the first equation is 2x + 3y = 4, it transforms into 2x - 3y = 4\n",
            "Student solution: 2x - (-3)y = 3  →  2x + 3y = 3\n",
            "-5x - 4y = -1\n",
            "→ From the first: 2x = 3 - 3y\n",
            "→ x = (3 - 3y)/2\n",
            "→ Substitute into second: -5((3 - 3y)/2) - 4y = -1\n",
            "→ Multiply both sides by 2: -5(3 - 3y) - 8y = -2\n",
            "→ -15 + 15y - 8y = -2 → 7y = 13 → y = 13/7\n",
            "→ x = (3 - 3(13/7))/2 = (3 - 39/7)/2 = (21/7 - 39/7)/2 = (-18/7)/2 = -9/7\n",
            "Answer: (-9/7, 13/7)\n",
            "THE STUDENT SWAPPED THE CONSTANTS ON THE RIGHT-HAND SIDE EXACTLY AS THE TEMPLATE INSTRUCTS BEFORE SOLVING.  \n",
            "YES\n",
            "THE STUDENT INCORRECTLY CHANGED -3Y TO +3Y BY NEGATING THE NEGATIVE SIGN TWICE INSTEAD OF FLIPPING ITS SIGN ONCE, SO THE MISTAKE DOES NOT MATCH THE TEMPLATE EXACTLY.  \n",
            "NO\n",
            "Problem statement: 4x + -3y = 2; 4x + 5y = -3\n",
            "Error template: flip the sign of the coefficient *b* (coefficient for y) in the first equation. For example if the first equation is 2x + 3y = 4, it transforms into 2x - 3y = 4\n",
            "Student solution: 4x - (-3y) = 2 → 4x + 3y = 2  \n",
            "4x + 5y = -3  \n",
            "→ Subtract the first from the second: (4x + 5y) - (4x + 3y) = -3 - 2  \n",
            "→ 2y = -5 ⇒ y = -5/2  \n",
            "→ Substitute y into first: 4x + 3(-5/2) = 2  \n",
            "→ 4x - 15/2 = 2 ⇒ 4x = 2 + 15/2 = 4/2 + 15/2 = 19/2  \n",
            "→ x = 19/8  \n",
            "Answer: (19/8, -5/2)\n",
            "THE STUDENT SWAPPED THE CONSTANTS ON THE RIGHT SIDE EXACTLY AS DESCRIBED AND PROCEEDED CORRECTLY FROM THERE. YES\n",
            "THE STUDENT SWAPPED THE CONSTANTS -2 AND 4 EXACTLY AS THE TEMPLATE INSTRUCTS BEFORE SOLVING.  \n",
            "YES\n",
            "THE STUDENT SWAPPED THE CONSTANTS 3 AND 2 EXACTLY AS THE TEMPLATE INSTRUCTS BEFORE SOLVING. YES\n",
            "THE STUDENT CORRECTLY NEGATED BOTH RHS CONSTANTS AND LEFT OTHER COEFFICIENTS UNCHANGED, MATCHING THE TEMPLATE EXACTLY.  \n",
            "YES\n",
            "THE STUDENT CORRECTLY NEGATED BOTH RHS CONSTANTS AND KEPT ALL COEFFICIENTS UNCHANGED, MATCHING THE TEMPLATE EXACTLY.  \n",
            "YES\n",
            "THE STUDENT SWAPPED THE CONSTANTS ON THE RIGHT-HAND SIDE EXACTLY AS THE TEMPLATE DESCRIBES BEFORE SOLVING. YES\n",
            "THE STUDENT CORRECTLY FLIPPED THE SIGN OF THE Y-COEFFICIENT IN THE FIRST EQUATION AND LEFT THE SECOND EQUATION UNCHANGED, MATCHING THE TEMPLATE EXACTLY.  \n",
            "YES\n",
            "LLM judge done: 12 OK  |  3 rejects →  sample_data_numerical_ok_reasoning_ok.jsonl, sample_data_numerical_ok_reasoning_rejects.jsonl\n"
          ]
        }
      ],
      "source": [
        "run_llm_judge(Path(\"/content/drive/MyDrive/Erdos/sample_data/sample_data_numerical_ok.jsonl\"), verbose = True)"
      ]
    }
  ],
  "metadata": {
    "colab": {
      "provenance": []
    },
    "kernelspec": {
      "display_name": "Python 3",
      "name": "python3"
    },
    "language_info": {
      "name": "python"
    }
  },
  "nbformat": 4,
  "nbformat_minor": 0
}