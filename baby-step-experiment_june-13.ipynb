{
 "cells": [
  {
   "cell_type": "code",
   "execution_count": null,
   "id": "52c79015",
   "metadata": {},
   "outputs": [],
   "source": [
    "import pandas as pd\n",
    "import numpy as np\n",
    "\n",
    "import os\n",
    "import json\n",
    "import random\n",
    "from openai import OpenAI\n",
    "from datasets import load_dataset\n",
    "from tqdm import tqdm\n",
    "from dotenv import load_dotenv"
   ]
  },
  {
   "cell_type": "code",
   "execution_count": null,
   "id": "7c7025f2",
   "metadata": {},
   "outputs": [],
   "source": [
    "output_dict = {}\n",
    "for model in [\"gpt-4-turbo\", \"gpt-4o\", \"gpt-4.1-mini\"]:\n",
    "    data = []\n",
    "    with open(f'/baby-step-outputs/baby-step-outputs_{model}.jsonl', 'r') as f:\n",
    "        for line in f:\n",
    "            data.append(json.loads(line))\n",
    "    output_dict[model] = data\n",
    "\n",
    "print(output_dict)"
   ]
  }
 ],
 "metadata": {
  "language_info": {
   "name": "python"
  }
 },
 "nbformat": 4,
 "nbformat_minor": 5
}
