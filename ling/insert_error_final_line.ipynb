{
 "cells": [
  {
   "cell_type": "markdown",
   "id": "c319ada7",
   "metadata": {},
   "source": [
    "# Start from here"
   ]
  },
  {
   "cell_type": "code",
   "execution_count": 17,
   "id": "50f22a05",
   "metadata": {},
   "outputs": [],
   "source": [
    "import re\n",
    "import json\n",
    "from datasets import load_dataset\n",
    "from pathlib import Path"
   ]
  },
  {
   "cell_type": "code",
   "execution_count": 18,
   "id": "ca8b8988",
   "metadata": {},
   "outputs": [],
   "source": [
    "dataset = load_dataset(\"openai/gsm8k\", \"main\")"
   ]
  },
  {
   "cell_type": "code",
   "execution_count": 19,
   "id": "e8331d60",
   "metadata": {},
   "outputs": [],
   "source": [
    "train_data = dataset[\"train\"]"
   ]
  },
  {
   "cell_type": "code",
   "execution_count": 20,
   "id": "e551ab3f",
   "metadata": {},
   "outputs": [
    {
     "name": "stdout",
     "output_type": "stream",
     "text": [
      "Natalia sold clips to 48 of her friends in April, and then she sold half as many clips in May. How many clips did Natalia sell altogether in April and May?\n",
      "Natalia sold 48/2 = <<48/2=24>>24 clips in May.\n",
      "Natalia sold 48+24 = <<48+24=72>>72 clips altogether in April and May.\n",
      "#### 72\n"
     ]
    }
   ],
   "source": [
    "example = train_data[0]\n",
    "print(example[\"question\"])\n",
    "print(example[\"answer\"])\n"
   ]
  },
  {
   "cell_type": "code",
   "execution_count": 21,
   "id": "66405c45",
   "metadata": {},
   "outputs": [
    {
     "data": {
      "text/plain": [
       "Dataset({\n",
       "    features: ['question', 'answer'],\n",
       "    num_rows: 7473\n",
       "})"
      ]
     },
     "execution_count": 21,
     "metadata": {},
     "output_type": "execute_result"
    }
   ],
   "source": [
    "train_data"
   ]
  },
  {
   "cell_type": "markdown",
   "id": "673435c2",
   "metadata": {},
   "source": [
    "## Error in the final answer only"
   ]
  },
  {
   "cell_type": "code",
   "execution_count": 22,
   "id": "1f79ef10",
   "metadata": {},
   "outputs": [
    {
     "name": "stdout",
     "output_type": "stream",
     "text": [
      "📌 QUESTION:\n",
      " Natalia sold clips to 48 of her friends in April, and then she sold half as many clips in May. How many clips did Natalia sell altogether in April and May?\n",
      "\n",
      "✅ ORIGINAL ANSWER:\n",
      " Natalia sold 48/2 = <<48/2=24>>24 clips in May.\n",
      "Natalia sold 48+24 = <<48+24=72>>72 clips altogether in April and May.\n",
      "#### 72\n",
      "\n",
      "❌ FLAWED ANSWER:\n",
      " Natalia sold 48/2 = <<48/2=24>>24 clips in May.\n",
      "Natalia sold 48+24 = <<48+24=72>>72 clips altogether in April and May.\n",
      "#### 73\n",
      "\n",
      "🧾 LABEL:\n",
      " {'verdict': 'Flawed', 'error_details': {'error_type': 'computational_error', 'erroneous_line_number': 'L3', 'explanation': 'The final answer is too high by 1. It should be 72, not 73.', 'error_in_text': '#### 72', 'correction_in_text': '#### 72'}}\n"
     ]
    }
   ],
   "source": [
    "question = example[\"question\"]\n",
    "original_answer = example[\"answer\"]\n",
    "\n",
    "# Split into lines for L1, L2, ...\n",
    "lines = original_answer.strip().splitlines()\n",
    "\n",
    "# Find the line that contains '#### <number>'\n",
    "for i, line in enumerate(lines):\n",
    "    match = re.match(r\"####\\s*(-?\\d+)\", line.strip())\n",
    "    if match:\n",
    "        correct = int(match.group(1))\n",
    "        flawed = correct + 1\n",
    "        error_line_index = i\n",
    "        break\n",
    "else:\n",
    "    print(\"❌ No final answer line found.\")\n",
    "    exit()\n",
    "\n",
    "# Create modified lines\n",
    "flawed_lines = lines.copy()\n",
    "flawed_lines[error_line_index] = re.sub(r\"####\\s*\\d+\", f\"#### {flawed}\", lines[error_line_index])\n",
    "\n",
    "# Recombine into modified answer\n",
    "flawed_answer = \"\\n\".join(flawed_lines)\n",
    "\n",
    "# Compute error location as \"L<N>\"\n",
    "error_location = f\"L{error_line_index + 1}\"\n",
    "\n",
    "# Create label\n",
    "label = {\n",
    "    \"verdict\": \"Flawed\",\n",
    "    \"error_details\": {\n",
    "        \"error_type\": \"computational_error\",\n",
    "        \"erroneous_line_number\": error_location,\n",
    "        \"explanation\": f\"The final answer is too high by 1. It should be {correct}, not {flawed}.\",\n",
    "        \"error_in_text\": lines[error_line_index],\n",
    "        \"correction_in_text\": f\"#### {correct}\"\n",
    "    }\n",
    "}\n",
    "\n",
    "# Output\n",
    "print(\"📌 QUESTION:\\n\", question)\n",
    "print(\"\\n✅ ORIGINAL ANSWER:\\n\", original_answer)\n",
    "print(\"\\n❌ FLAWED ANSWER:\\n\", flawed_answer)\n",
    "print(\"\\n🧾 LABEL:\\n\", label)\n"
   ]
  },
  {
   "cell_type": "code",
   "execution_count": 23,
   "id": "faaae799",
   "metadata": {},
   "outputs": [
    {
     "name": "stdout",
     "output_type": "stream",
     "text": [
      "✅ Finished writing gsm8k_train_flawed_plus1_final_answer.jsonl\n"
     ]
    }
   ],
   "source": [
    "# Output path\n",
    "output_path = Path(\"gsm8k_train_flawed_plus1_final_answer.jsonl\")\n",
    "\n",
    "with output_path.open(\"w\", encoding=\"utf-8\") as f_out:\n",
    "    for i, ex in enumerate(dataset[\"train\"]):\n",
    "        q = ex[\"question\"]\n",
    "        a = ex[\"answer\"]\n",
    "\n",
    "        # Split into lines for L1, L2, ...\n",
    "        lines = a.strip().splitlines()\n",
    "\n",
    "        # Find the line with the final answer\n",
    "        for idx, line in enumerate(lines):\n",
    "            match = re.match(r\"####\\s*(-?\\d+)\", line.strip())\n",
    "            if match:\n",
    "                correct = int(match.group(1))\n",
    "                flawed = correct + 1\n",
    "                error_line_index = idx\n",
    "                break\n",
    "        else:\n",
    "            print(i, \"❌ No final answer line found.\\n\")\n",
    "            print(a)\n",
    "            continue  # skip if no final answer found\n",
    "\n",
    "        # Copy and modify lines\n",
    "        flawed_lines = lines.copy()\n",
    "        flawed_lines[error_line_index] = re.sub(r\"####\\s*\\d+\", f\"#### {flawed}\", lines[error_line_index]) #f\"#### {flawed}\"\n",
    "\n",
    "        # # Replace the final display number in any inline computation\n",
    "        # flawed_lines = [\n",
    "        #     re.sub(r\"(>>)\" + str(correct) + r\"\\b\", r\"\\1\" + str(flawed), line)\n",
    "        #     for line in flawed_lines\n",
    "        # ]\n",
    "\n",
    "        flawed_answer = \"\\n\".join(flawed_lines)\n",
    "\n",
    "        error_location = f\"L{error_line_index + 1}\"\n",
    "\n",
    "        # Create label\n",
    "        label = {\n",
    "            \"verdict\": \"Flawed\",\n",
    "            \"error_details\": {\n",
    "                \"error_type\": \"computational_error\",\n",
    "                \"erroneous_line_number\": f\"L{error_line_index + 1}\",\n",
    "                \"explanation\": f\"The final answer is too high by 1. It should be {correct}, not {flawed}.\",\n",
    "                \"error_in_text\": lines[error_line_index],\n",
    "                \"correction_in_text\": f\"#### {correct}\"\n",
    "            }\n",
    "        }\n",
    "\n",
    "        # Final example\n",
    "        entry = {\n",
    "            \"id\": i,\n",
    "            \"question\": q,\n",
    "            \"flawed_answer\": flawed_answer,\n",
    "            \"label\": label\n",
    "        }\n",
    "        f_out.write(json.dumps(entry) + \"\\n\")\n",
    "        \n",
    "print(f\"✅ Finished writing {output_path.name}\")"
   ]
  },
  {
   "cell_type": "code",
   "execution_count": 24,
   "id": "9201dd2a",
   "metadata": {},
   "outputs": [
    {
     "name": "stdout",
     "output_type": "stream",
     "text": [
      "7473\n"
     ]
    }
   ],
   "source": [
    "with open(\"gsm8k_train_flawed_plus1_final_answer.jsonl\") as f:\n",
    "    print(len(f.readlines()))  # Should be >0\n"
   ]
  },
  {
   "cell_type": "code",
   "execution_count": 25,
   "id": "083e72cf",
   "metadata": {},
   "outputs": [
    {
     "name": "stdout",
     "output_type": "stream",
     "text": [
      "✅ Finished writing gsm8k_test_flawed_plus1_final_answer.jsonl\n"
     ]
    }
   ],
   "source": [
    "# Output path\n",
    "output_path = Path(\"gsm8k_test_flawed_plus1_final_answer.jsonl\")\n",
    "\n",
    "with output_path.open(\"w\", encoding=\"utf-8\") as f_out:\n",
    "    for i, ex in enumerate(dataset[\"test\"]):\n",
    "        q = ex[\"question\"]\n",
    "        a = ex[\"answer\"]\n",
    "\n",
    "        # Split into lines for L1, L2, ...\n",
    "        lines = a.strip().splitlines()\n",
    "\n",
    "        # Find the line with the final answer\n",
    "        for idx, line in enumerate(lines):\n",
    "            match = re.match(r\"####\\s*(-?\\d+)\", line.strip())\n",
    "            if match:\n",
    "                correct = int(match.group(1))\n",
    "                flawed = correct + 1\n",
    "                error_line_index = idx\n",
    "                break\n",
    "        else:\n",
    "            print(i, \"❌ No final answer line found.\\n\")\n",
    "            print(a)\n",
    "            continue  # skip if no final answer found\n",
    "\n",
    "        # Copy and modify lines\n",
    "        flawed_lines = lines.copy()\n",
    "        flawed_lines[error_line_index] = re.sub(r\"####\\s*\\d+\", f\"#### {flawed}\", lines[error_line_index]) #f\"#### {flawed}\"\n",
    "\n",
    "        # # Replace the final display number in any inline computation\n",
    "        # flawed_lines = [\n",
    "        #     re.sub(r\"(>>)\" + str(correct) + r\"\\b\", r\"\\1\" + str(flawed), line)\n",
    "        #     for line in flawed_lines\n",
    "        # ]\n",
    "\n",
    "        flawed_answer = \"\\n\".join(flawed_lines)\n",
    "\n",
    "        error_location = f\"L{error_line_index + 1}\"\n",
    "\n",
    "        # Create label\n",
    "        label = {\n",
    "            \"verdict\": \"Flawed\",\n",
    "            \"error_details\": {\n",
    "                \"error_type\": \"computational_error\",\n",
    "                \"erroneous_line_number\": f\"L{error_line_index + 1}\",\n",
    "                \"explanation\": f\"The final answer is too high by 1. It should be {correct}, not {flawed}.\",\n",
    "                \"error_in_text\": lines[error_line_index],\n",
    "                \"correction_in_text\": f\"#### {correct}\"\n",
    "            }\n",
    "        }\n",
    "\n",
    "        # Final example\n",
    "        entry = {\n",
    "            \"id\": i,\n",
    "            \"question\": q,\n",
    "            \"flawed_answer\": flawed_answer,\n",
    "            \"label\": label\n",
    "        }\n",
    "        f_out.write(json.dumps(entry) + \"\\n\")\n",
    "\n",
    "print(f\"✅ Finished writing {output_path.name}\")"
   ]
  },
  {
   "cell_type": "markdown",
   "id": "b6532c71",
   "metadata": {},
   "source": [
    "## Error in the second last line"
   ]
  },
  {
   "cell_type": "code",
   "execution_count": 26,
   "id": "23f3abfa",
   "metadata": {},
   "outputs": [
    {
     "name": "stdout",
     "output_type": "stream",
     "text": [
      "📌 QUESTION:\n",
      " Natalia sold clips to 48 of her friends in April, and then she sold half as many clips in May. How many clips did Natalia sell altogether in April and May?\n",
      "\n",
      "✅ ORIGINAL ANSWER:\n",
      " Natalia sold 48/2 = <<48/2=24>>24 clips in May.\n",
      "Natalia sold 48+24 = <<48+24=72>>72 clips altogether in April and May.\n",
      "#### 72\n",
      "\n",
      "❌ FLAWED ANSWER:\n",
      " Natalia sold 48/2 = <<48/2=24>>24 clips in May.\n",
      "Natalia sold 48+24 = <<48+24=73>>73 clips altogether in April and May.\n",
      "#### 73\n",
      "\n",
      "🧾 LABEL:\n",
      " {'verdict': 'Flawed', 'error_details': {'error_type': 'computational_error', 'erroneous_line_number': 'L2', 'explanation': 'The answer is too high by 1. It should be 72, not 73.', 'error_in_text': '#### 72', 'correction_in_text': '#### 72'}}\n"
     ]
    }
   ],
   "source": [
    "question = example[\"question\"]\n",
    "original_answer = example[\"answer\"]\n",
    "\n",
    "# Split into lines for L1, L2, ...\n",
    "lines = original_answer.strip().splitlines()\n",
    "\n",
    "# Find the line that contains '#### <number>'\n",
    "for i, line in enumerate(lines):\n",
    "    match = re.match(r\"####\\s*(-?\\d+)\", line.strip())\n",
    "    if match:\n",
    "        correct = int(match.group(1))\n",
    "        flawed = correct + 1\n",
    "        error_line_index = i\n",
    "        break\n",
    "else:\n",
    "    print(\"❌ No final answer line found.\")\n",
    "    exit()\n",
    "\n",
    "# Create modified lines\n",
    "flawed_lines = lines.copy()\n",
    "flawed_lines[error_line_index] = re.sub(r\"####\\s*\\d+\", f\"#### {flawed}\", lines[error_line_index])\n",
    "\n",
    "# Replace only the number after the final '>>' (the human-readable result)\n",
    "flawed_lines = [\n",
    "    re.sub(str(correct) + r\"(>>)\" + str(correct) + r\"\\b\", str(flawed) + r\">>\" + str(flawed), line)\n",
    "    for line in flawed_lines\n",
    "]\n",
    "\n",
    "# Recombine into modified answer\n",
    "flawed_answer = \"\\n\".join(flawed_lines)\n",
    "\n",
    "# Compute error location as \"L<N>\"\n",
    "error_location = f\"L{error_line_index}\"\n",
    "\n",
    "# Create label\n",
    "label = {\n",
    "    \"verdict\": \"Flawed\",\n",
    "    \"error_details\": {\n",
    "        \"error_type\": \"computational_error\",\n",
    "        \"erroneous_line_number\": error_location,\n",
    "        \"explanation\": f\"The answer is too high by 1. It should be {correct}, not {flawed}.\",\n",
    "        \"error_in_text\": lines[error_line_index],\n",
    "        \"correction_in_text\": f\"#### {correct}\"\n",
    "    }\n",
    "}\n",
    "\n",
    "# Output\n",
    "print(\"📌 QUESTION:\\n\", question)\n",
    "print(\"\\n✅ ORIGINAL ANSWER:\\n\", original_answer)\n",
    "print(\"\\n❌ FLAWED ANSWER:\\n\", flawed_answer)\n",
    "print(\"\\n🧾 LABEL:\\n\", label)\n"
   ]
  },
  {
   "cell_type": "code",
   "execution_count": 27,
   "id": "b4b55ab5",
   "metadata": {},
   "outputs": [
    {
     "name": "stdout",
     "output_type": "stream",
     "text": [
      "✅ Finished writing gsm8k_train_flawed_plus1_2nd_last.jsonl\n"
     ]
    }
   ],
   "source": [
    "# Output path\n",
    "output_path = Path(\"gsm8k_train_flawed_plus1_2nd_last.jsonl\")\n",
    "\n",
    "with output_path.open(\"w\", encoding=\"utf-8\") as f_out:\n",
    "    for i, ex in enumerate(dataset[\"train\"]):\n",
    "        q = ex[\"question\"]\n",
    "        a = ex[\"answer\"]\n",
    "\n",
    "        # Split into lines for L1, L2, ...\n",
    "        lines = a.strip().splitlines()\n",
    "\n",
    "        # Find the line with the final answer\n",
    "        for idx, line in enumerate(lines):\n",
    "            match = re.match(r\"####\\s*(-?\\d+)\", line.strip())\n",
    "            if match:\n",
    "                correct = int(match.group(1))\n",
    "                flawed = correct + 1\n",
    "                error_line_index = idx\n",
    "                break\n",
    "        else:\n",
    "            print(i, \"❌ No final answer line found.\\n\")\n",
    "            print(a)\n",
    "            continue  # skip if no final answer found\n",
    "\n",
    "        # Copy and modify lines\n",
    "        flawed_lines = lines.copy()\n",
    "        flawed_lines[error_line_index] = re.sub(r\"####\\s*\\d+\", f\"#### {flawed}\", lines[error_line_index]) #f\"#### {flawed}\"\n",
    "\n",
    "        # Replace only the number after the final '>>' (the human-readable result)\n",
    "        flawed_lines = [\n",
    "            re.sub(str(correct) + r\"(>>)\" + str(correct) + r\"\\b\", str(flawed) + r\">>\" + str(flawed), line)\n",
    "            for line in flawed_lines\n",
    "        ]\n",
    "\n",
    "        flawed_answer = \"\\n\".join(flawed_lines)\n",
    "\n",
    "        error_location = f\"L{error_line_index}\"\n",
    "\n",
    "        # Create label\n",
    "        label = {\n",
    "            \"verdict\": \"Flawed\",\n",
    "            \"error_details\": {\n",
    "                \"error_type\": \"computational_error\",\n",
    "                \"erroneous_line_number\": f\"L{error_line_index}\",\n",
    "                \"explanation\": f\"The 2n last line value is too high by 1. It should be {correct}, not {flawed}.\",\n",
    "                \"error_in_text\": lines[error_line_index],\n",
    "                \"correction_in_text\": f\"#### {correct}\"\n",
    "            }\n",
    "        }\n",
    "\n",
    "        # Final example\n",
    "        entry = {\n",
    "            \"id\": i,\n",
    "            \"question\": q,\n",
    "            \"flawed_answer\": flawed_answer,\n",
    "            \"label\": label\n",
    "        }\n",
    "        f_out.write(json.dumps(entry) + \"\\n\")\n",
    "\n",
    "print(f\"✅ Finished writing {output_path.name}\")"
   ]
  },
  {
   "cell_type": "code",
   "execution_count": 28,
   "id": "6aa32743",
   "metadata": {},
   "outputs": [
    {
     "name": "stdout",
     "output_type": "stream",
     "text": [
      "✅ Finished writing gsm8k_test_flawed_plus1_2nd_last.jsonl\n"
     ]
    }
   ],
   "source": [
    "# Output path\n",
    "output_path = Path(\"gsm8k_test_flawed_plus1_2nd_last.jsonl\")\n",
    "\n",
    "with output_path.open(\"w\", encoding=\"utf-8\") as f_out:\n",
    "    for i, ex in enumerate(dataset[\"test\"]):\n",
    "        q = ex[\"question\"]\n",
    "        a = ex[\"answer\"]\n",
    "\n",
    "        # Split into lines for L1, L2, ...\n",
    "        lines = a.strip().splitlines()\n",
    "\n",
    "        # Find the line with the final answer\n",
    "        for idx, line in enumerate(lines):\n",
    "            match = re.match(r\"####\\s*(-?\\d+)\", line.strip())\n",
    "            if match:\n",
    "                correct = int(match.group(1))\n",
    "                flawed = correct + 1\n",
    "                error_line_index = idx\n",
    "                break\n",
    "        else:\n",
    "            print(i, \"❌ No final answer line found.\\n\")\n",
    "            print(a)\n",
    "            continue  # skip if no final answer found\n",
    "\n",
    "        # Copy and modify lines\n",
    "        flawed_lines = lines.copy()\n",
    "        flawed_lines[error_line_index] = re.sub(r\"####\\s*\\d+\", f\"#### {flawed}\", lines[error_line_index]) #f\"#### {flawed}\"\n",
    "\n",
    "        # Replace only the number after the final '>>' (the human-readable result)\n",
    "        flawed_lines = [\n",
    "            re.sub(str(correct) + r\"(>>)\" + str(correct) + r\"\\b\", str(flawed) + r\">>\" + str(flawed), line)\n",
    "            for line in flawed_lines\n",
    "        ]\n",
    "\n",
    "        flawed_answer = \"\\n\".join(flawed_lines)\n",
    "\n",
    "        error_location = f\"L{error_line_index}\"\n",
    "\n",
    "        # Create label\n",
    "        label = {\n",
    "            \"verdict\": \"Flawed\",\n",
    "            \"error_details\": {\n",
    "                \"error_type\": \"computational_error\",\n",
    "                \"erroneous_line_number\": f\"L{error_line_index}\",\n",
    "                \"explanation\": f\"The 2n last line value is too high by 1. It should be {correct}, not {flawed}.\",\n",
    "                \"error_in_text\": lines[error_line_index],\n",
    "                \"correction_in_text\": f\"#### {correct}\"\n",
    "            }\n",
    "        }\n",
    "\n",
    "        # Final example\n",
    "        entry = {\n",
    "            \"id\": i,\n",
    "            \"question\": q,\n",
    "            \"flawed_answer\": flawed_answer,\n",
    "            \"label\": label\n",
    "        }\n",
    "        f_out.write(json.dumps(entry) + \"\\n\")\n",
    "\n",
    "print(f\"✅ Finished writing {output_path.name}\")"
   ]
  },
  {
   "cell_type": "markdown",
   "id": "f7ef736c",
   "metadata": {},
   "source": [
    "## Combine data"
   ]
  },
  {
   "cell_type": "code",
   "execution_count": 29,
   "id": "3fe07740",
   "metadata": {},
   "outputs": [
    {
     "name": "stdout",
     "output_type": "stream",
     "text": [
      "Total lines: 7473\n",
      "First line: {\"id\": 0, \"question\": \"Natalia sold clips to 48 of her friends in April, and then she sold half as many clips in May. How many clips did Natalia sell altogether in April and May?\", \"flawed_answer\": \"Natalia sold 48/2 = <<48/2=24>>24 clips in May.\\nNatalia sold 48+24 = <<48+24=72>>72 clips altogether in April and May.\\n#### 73\", \"label\": {\"verdict\": \"Flawed\", \"error_details\": {\"error_type\": \"computational_error\", \"erroneous_line_number\": \"L3\", \"explanation\": \"The final answer is too high by 1. It should be 72, not 73.\", \"error_in_text\": \"#### 72\", \"correction_in_text\": \"#### 72\"}}}\n",
      "\n"
     ]
    }
   ],
   "source": [
    "with open(\"gsm8k_train_flawed_plus1_final_answer.jsonl\", \"r\") as f:\n",
    "    lines = f.readlines()\n",
    "    print(f\"Total lines: {len(lines)}\")\n",
    "    print(\"First line:\", lines[0] if lines else \"No data\")\n"
   ]
  },
  {
   "cell_type": "code",
   "execution_count": 30,
   "id": "c05357c6",
   "metadata": {},
   "outputs": [
    {
     "name": "stdout",
     "output_type": "stream",
     "text": [
      "Combined training set size: 14946\n",
      "Combined test set size: 2638\n"
     ]
    }
   ],
   "source": [
    "original_dataset = load_dataset(\"openai/gsm8k\", \"main\")\n",
    "\n",
    "def load_jsonl(path):\n",
    "    with open(path, 'r') as f:\n",
    "        return [json.loads(line) for line in f]\n",
    "\n",
    "flawed_train_final_answer = load_jsonl(\"gsm8k_train_flawed_plus1_final_answer.jsonl\")\n",
    "flawed_test = load_jsonl(\"gsm8k_test_flawed_plus1_final_answer.jsonl\")\n",
    "\n",
    "combined_train_final_answer = []\n",
    "\n",
    "# Add correct examples from original dataset\n",
    "for ex in original_dataset[\"train\"]:\n",
    "    combined_train_final_answer.append({\n",
    "        \"question\": ex[\"question\"],\n",
    "        \"solution\": ex[\"answer\"],\n",
    "        \"label\": \"Correct\"\n",
    "    })\n",
    "\n",
    "# Add flawed examples\n",
    "for ex in flawed_train_final_answer:\n",
    "    combined_train_final_answer.append({\n",
    "        \"question\": ex[\"question\"],\n",
    "        \"solution\": ex[\"flawed_answer\"],\n",
    "        \"label\": \"Flawed\"\n",
    "    })\n",
    "\n",
    "print(f\"Combined training set size: {len(combined_train_final_answer)}\")\n",
    "\n",
    "combined_test_final_answer = []\n",
    "\n",
    "# Add correct examples from original test split\n",
    "for ex in original_dataset[\"test\"]:\n",
    "    combined_test_final_answer.append({\n",
    "        \"question\": ex[\"question\"],\n",
    "        \"solution\": ex[\"answer\"],\n",
    "        \"label\": \"Correct\"\n",
    "    })\n",
    "\n",
    "# Add flawed examples from test JSONL\n",
    "for ex in flawed_test:\n",
    "    combined_test_final_answer.append({\n",
    "        \"question\": ex[\"question\"],\n",
    "        \"solution\": ex[\"flawed_answer\"],\n",
    "        \"label\": \"Flawed\"\n",
    "    })\n",
    "\n",
    "print(f\"Combined test set size: {len(combined_test_final_answer)}\")\n"
   ]
  },
  {
   "cell_type": "code",
   "execution_count": 31,
   "id": "b6e1d405",
   "metadata": {},
   "outputs": [
    {
     "name": "stdout",
     "output_type": "stream",
     "text": [
      "Combined training set size: 14946\n",
      "Combined test set size: 2638\n"
     ]
    }
   ],
   "source": [
    "original_dataset = load_dataset(\"openai/gsm8k\", \"main\")\n",
    "\n",
    "def load_jsonl(path):\n",
    "    with open(path, 'r') as f:\n",
    "        return [json.loads(line) for line in f]\n",
    "\n",
    "flawed_train_2nd_last = load_jsonl(\"gsm8k_train_flawed_plus1_2nd_last.jsonl\")\n",
    "flawed_test = load_jsonl(\"gsm8k_test_flawed_plus1_2nd_last.jsonl\")\n",
    "\n",
    "combined_train_2nd_last = []\n",
    "\n",
    "# Add correct examples from original dataset\n",
    "for ex in original_dataset[\"train\"]:\n",
    "    combined_train_2nd_last.append({\n",
    "        \"question\": ex[\"question\"],\n",
    "        \"solution\": ex[\"answer\"],\n",
    "        \"label\": \"Correct\"\n",
    "    })\n",
    "\n",
    "# Add flawed examples\n",
    "for ex in flawed_train_2nd_last:\n",
    "    combined_train_2nd_last.append({\n",
    "        \"question\": ex[\"question\"],\n",
    "        \"solution\": ex[\"flawed_answer\"],\n",
    "        \"label\": \"Flawed\"\n",
    "    })\n",
    "\n",
    "print(f\"Combined training set size: {len(combined_train_2nd_last)}\")\n",
    "\n",
    "combined_test_2nd_last = []\n",
    "\n",
    "# Add correct examples from original test split\n",
    "for ex in original_dataset[\"test\"]:\n",
    "    combined_test_2nd_last.append({\n",
    "        \"question\": ex[\"question\"],\n",
    "        \"solution\": ex[\"answer\"],\n",
    "        \"label\": \"Correct\"\n",
    "    })\n",
    "\n",
    "# Add flawed examples from test JSONL\n",
    "for ex in flawed_test:\n",
    "    combined_test_2nd_last.append({\n",
    "        \"question\": ex[\"question\"],\n",
    "        \"solution\": ex[\"flawed_answer\"],\n",
    "        \"label\": \"Flawed\"\n",
    "    })\n",
    "\n",
    "print(f\"Combined test set size: {len(combined_test_2nd_last)}\")\n"
   ]
  },
  {
   "cell_type": "code",
   "execution_count": 32,
   "id": "52c0e1e4",
   "metadata": {},
   "outputs": [
    {
     "name": "stdout",
     "output_type": "stream",
     "text": [
      "Combined datasets saved successfully!\n"
     ]
    }
   ],
   "source": [
    "import json\n",
    "\n",
    "# Save combined training set\n",
    "with open(\"combined_train_final_answer.json\", \"w\") as train_file:\n",
    "    json.dump(combined_train_final_answer, train_file, indent=4)\n",
    "\n",
    "# Save combined test set\n",
    "with open(\"combined_test_final_answer.json\", \"w\") as test_file:\n",
    "    json.dump(combined_test_final_answer, test_file, indent=4)\n",
    "\n",
    "with open(\"combined_train_2nd_last.json\", \"w\") as train_file:\n",
    "    json.dump(combined_train_2nd_last, train_file, indent=4)\n",
    "\n",
    "# Save combined test set\n",
    "with open(\"combined_test_2nd_last.json\", \"w\") as test_file:\n",
    "    json.dump(combined_test_2nd_last, test_file, indent=4)\n",
    "\n",
    "print(\"Combined datasets saved successfully!\")"
   ]
  },
  {
   "cell_type": "code",
   "execution_count": null,
   "id": "2a9ed36f",
   "metadata": {},
   "outputs": [],
   "source": []
  }
 ],
 "metadata": {
  "kernelspec": {
   "display_name": "gsm8k-verifier",
   "language": "python",
   "name": "python3"
  },
  "language_info": {
   "codemirror_mode": {
    "name": "ipython",
    "version": 3
   },
   "file_extension": ".py",
   "mimetype": "text/x-python",
   "name": "python",
   "nbconvert_exporter": "python",
   "pygments_lexer": "ipython3",
   "version": "3.10.18"
  }
 },
 "nbformat": 4,
 "nbformat_minor": 5
}
