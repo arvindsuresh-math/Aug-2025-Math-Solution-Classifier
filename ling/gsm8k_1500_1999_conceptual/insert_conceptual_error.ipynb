{
 "cells": [
  {
   "cell_type": "code",
   "execution_count": 5,
   "id": "14a863cb",
   "metadata": {},
   "outputs": [
    {
     "data": {
      "application/vnd.jupyter.widget-view+json": {
       "model_id": "19a502baed704a5dbcc0bb86e7e33725",
       "version_major": 2,
       "version_minor": 0
      },
      "text/plain": [
       "Saving the dataset (0/1 shards):   0%|          | 0/7473 [00:00<?, ? examples/s]"
      ]
     },
     "metadata": {},
     "output_type": "display_data"
    },
    {
     "name": "stdout",
     "output_type": "stream",
     "text": [
      "GSM8K dataset loaded and saved successfully.\n"
     ]
    },
    {
     "data": {
      "application/vnd.jupyter.widget-view+json": {
       "model_id": "bcdb0564471945caaa86fee3f788fba7",
       "version_major": 2,
       "version_minor": 0
      },
      "text/plain": [
       "Creating json from Arrow format:   0%|          | 0/1 [00:00<?, ?ba/s]"
      ]
     },
     "metadata": {},
     "output_type": "display_data"
    },
    {
     "data": {
      "application/vnd.jupyter.widget-view+json": {
       "model_id": "225792dfff8f4a9c82e7c2251a2f3408",
       "version_major": 2,
       "version_minor": 0
      },
      "text/plain": [
       "Creating json from Arrow format:   0%|          | 0/1 [00:00<?, ?ba/s]"
      ]
     },
     "metadata": {},
     "output_type": "display_data"
    },
    {
     "data": {
      "application/vnd.jupyter.widget-view+json": {
       "model_id": "c228e33276084046aa59da900bb73983",
       "version_major": 2,
       "version_minor": 0
      },
      "text/plain": [
       "Creating json from Arrow format:   0%|          | 0/1 [00:00<?, ?ba/s]"
      ]
     },
     "metadata": {},
     "output_type": "display_data"
    },
    {
     "data": {
      "application/vnd.jupyter.widget-view+json": {
       "model_id": "f5de73f2ac864f1d8c8a4c0b7ba6cc55",
       "version_major": 2,
       "version_minor": 0
      },
      "text/plain": [
       "Creating json from Arrow format:   0%|          | 0/1 [00:00<?, ?ba/s]"
      ]
     },
     "metadata": {},
     "output_type": "display_data"
    },
    {
     "data": {
      "application/vnd.jupyter.widget-view+json": {
       "model_id": "5139572146ba4ac3bf195775c86af24c",
       "version_major": 2,
       "version_minor": 0
      },
      "text/plain": [
       "Creating json from Arrow format:   0%|          | 0/1 [00:00<?, ?ba/s]"
      ]
     },
     "metadata": {},
     "output_type": "display_data"
    },
    {
     "name": "stdout",
     "output_type": "stream",
     "text": [
      "Data from index 1500 to 1999 saved into 5 JSON files successfully.\n"
     ]
    }
   ],
   "source": [
    "from datasets import load_dataset\n",
    "\n",
    "# Load the GSM8K dataset with the 'main' configuration\n",
    "gsm8k = load_dataset(\"gsm8k\", \"main\", split=\"train\")  # Added \"main\" config\n",
    "\n",
    "# Save the dataset to disk\n",
    "gsm8k.save_to_disk(\"gsm8k_dataset\")\n",
    "\n",
    "print(\"GSM8K dataset loaded and saved successfully.\")\n",
    "\n",
    "# Filter the data from index 1500 to 1999\n",
    "subset = gsm8k.select(range(1500, 2000))\n",
    "\n",
    "# Save the data into 5 JSON files with 100 entries each\n",
    "for i in range(5):\n",
    "    start_idx = i * 100\n",
    "    end_idx = start_idx + 100\n",
    "    file_subset = subset.select(range(start_idx, end_idx))\n",
    "    file_subset.to_json(f\"gsm8k_{1500 + start_idx}_{1499 + end_idx}.json\", orient=\"records\", lines=True)\n",
    "\n",
    "print(\"Data from index 1500 to 1999 saved into 5 JSON files successfully.\")"
   ]
  },
  {
   "cell_type": "code",
   "execution_count": 6,
   "id": "89bf7897",
   "metadata": {},
   "outputs": [
    {
     "name": "stdout",
     "output_type": "stream",
     "text": [
      "Created 500 entries with conceptual errors\n",
      "Data saved into 5 JSON files successfully.\n"
     ]
    }
   ],
   "source": [
    "import json\n",
    "from datasets import load_dataset\n",
    "\n",
    "# Load your GSM8K subset (1500-1999)\n",
    "gsm8k = load_dataset(\"gsm8k\", \"main\", split=\"train\")\n",
    "subset = gsm8k.select(range(1500, 2000))\n",
    "\n",
    "# Function to insert conceptual errors (you'll need to implement this)\n",
    "def insert_conceptual_error(question, correct_answer):\n",
    "    # This is where you'd implement your error injection logic\n",
    "    # For now, returning a placeholder\n",
    "    wrong_answer = \"Placeholder wrong answer with conceptual error\"\n",
    "    error_type = \"conceptual\"\n",
    "    explanation = \"Explanation of the conceptual mistake made\"\n",
    "    \n",
    "    return wrong_answer, error_type, explanation\n",
    "\n",
    "# Create your JSON data\n",
    "conceptual_errors_data = []\n",
    "\n",
    "for example in subset:\n",
    "    question = example['question']\n",
    "    correct_answer = example['answer']\n",
    "    \n",
    "    # Insert conceptual error\n",
    "    wrong_answer, error_type, explanation = insert_conceptual_error(question, correct_answer)\n",
    "    \n",
    "    # Format according to your structure\n",
    "    entry = {\n",
    "        \"question\": question,\n",
    "        \"answer\": correct_answer,\n",
    "        \"wrong_answer\": wrong_answer,\n",
    "        \"error_type\": error_type,\n",
    "        \"explanation\": explanation\n",
    "    }\n",
    "    \n",
    "    conceptual_errors_data.append(entry)\n",
    "\n",
    "# Save the data into 5 JSON files with 100 entries each\n",
    "for i in range(5):\n",
    "    start_idx = i * 100\n",
    "    end_idx = start_idx + 100\n",
    "    file_data = conceptual_errors_data[start_idx:end_idx]\n",
    "    \n",
    "    filename = f\"gsm8k_{1500 + start_idx}_{1499 + end_idx}_conceptual_errors.json\"\n",
    "    with open(filename, \"w\") as f:\n",
    "        json.dump(file_data, f, indent=4)\n",
    "\n",
    "print(f\"Created {len(conceptual_errors_data)} entries with conceptual errors\")\n",
    "print(\"Data saved into 5 JSON files successfully.\")"
   ]
  },
  {
   "cell_type": "code",
   "execution_count": null,
   "id": "1c2b1ef6",
   "metadata": {},
   "outputs": [],
   "source": []
  }
 ],
 "metadata": {
  "kernelspec": {
   "display_name": "gsm8k-verifier",
   "language": "python",
   "name": "python3"
  },
  "language_info": {
   "codemirror_mode": {
    "name": "ipython",
    "version": 3
   },
   "file_extension": ".py",
   "mimetype": "text/x-python",
   "name": "python",
   "nbconvert_exporter": "python",
   "pygments_lexer": "ipython3",
   "version": "3.10.18"
  }
 },
 "nbformat": 4,
 "nbformat_minor": 5
}
