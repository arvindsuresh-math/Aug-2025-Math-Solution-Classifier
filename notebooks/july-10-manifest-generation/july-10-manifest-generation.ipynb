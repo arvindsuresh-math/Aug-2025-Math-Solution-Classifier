{
 "cells": [
  {
   "cell_type": "markdown",
   "id": "91a3a0fc",
   "metadata": {},
   "source": []
  },
  {
   "cell_type": "markdown",
   "id": "69138661",
   "metadata": {},
   "source": [
    "#### Cell 1: Paths"
   ]
  },
  {
   "cell_type": "code",
   "execution_count": null,
   "id": "d5a72283",
   "metadata": {},
   "outputs": [],
   "source": [
    "def find_project_root():\n",
    "    \"\"\"Traverse upwards to find the project root, marked by the .git folder.\"\"\"\n",
    "    current_path = Path.cwd()\n",
    "    while current_path != current_path.parent:\n",
    "        if (current_path / \".git\").is_dir():\n",
    "            return current_path\n",
    "        current_path = current_path.parent\n",
    "    raise FileNotFoundError(\"Could not find project root. Is this a git repository?\")\n",
    "\n",
    "PROJECT_ROOT = find_project_root()\n",
    "DATA_DIR = PROJECT_ROOT / 'data'\n",
    "MANIFEST_OUTPUT_DIR = DATA_DIR / \"july-8-manifests-raw\"\n",
    "SAMPLE_MANIFEST_DIR = DATA_DIR / \"july-7-sample-manifests\"\n",
    "TIER_OUTPUT_DIRS = {f\"tier{i}\": MANIFEST_OUTPUT_DIR / f\"tier{i}\" for i in range(1, 6)}\n",
    "TIER_SAMPLE_DIRS = {f\"tier{i}\": SAMPLE_MANIFEST_DIR / f\"tier{i}\" for i in range(1, 6)}\n",
    "\n",
    "# Make the directory for the tier if it doesn't exist\n",
    "for tier_dir in TIER_OUTPUT_DIRS.values():\n",
    "    tier_dir.mkdir(parents=True, exist_ok=True)\n",
    "\n",
    "for tier_dir in TIER_SAMPLE_DIRS.values():\n",
    "    tier_dir.mkdir(parents=True, exist_ok=True)\n",
    "\n",
    "print(f\"Project root found at: {PROJECT_ROOT}\")\n",
    "print(f\"Data directory found at: {DATA_DIR}\")\n",
    "print(f\"Raw manifest output directory set to: {MANIFEST_OUTPUT_DIR}\")"
   ]
  }
 ],
 "metadata": {
  "language_info": {
   "name": "python"
  }
 },
 "nbformat": 4,
 "nbformat_minor": 5
}
