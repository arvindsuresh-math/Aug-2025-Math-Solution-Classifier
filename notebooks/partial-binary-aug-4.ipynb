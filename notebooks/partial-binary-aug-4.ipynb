{
 "cells": [
  {
   "cell_type": "code",
   "execution_count": 30,
   "id": "109723f3",
   "metadata": {},
   "outputs": [],
   "source": [
    "import pandas as pd\n",
    "\n",
    "# Set max column width to None (no truncation)\n",
    "pd.set_option('display.max_colwidth', None)\n",
    "\n",
    "# Optionally, set display width to wrap columns (for wide DataFrames)\n",
    "pd.set_option('display.width', 0)"
   ]
  },
  {
   "cell_type": "code",
   "execution_count": 31,
   "id": "a4ddf835",
   "metadata": {},
   "outputs": [],
   "source": [
    "base_df = pd.read_csv(\"../data/base-datasets-sanitized/base_4N_dataset_sanitized.csv\")\n",
    "base_df.dropna(subset=[\"erroneous_line_number\"], inplace=True) # keep only rows with wrong answers\n",
    "base_df[\"erroneous_line_number\"] = base_df[\"erroneous_line_number\"].astype(str)"
   ]
  },
  {
   "cell_type": "code",
   "execution_count": 32,
   "id": "9867e939",
   "metadata": {},
   "outputs": [],
   "source": [
    "def check_lines(df):\n",
    "    temp = df[df[\"erroneous_line_number\"] != \"FA\"]\n",
    "    problematic_samples = []\n",
    "    for index, row in temp.iterrows():\n",
    "        correct_lines = row[\"correct_answer\"].split(\"\\n\")\n",
    "        wrong_lines = row[\"wrong_answer\"].split(\"\\n\")\n",
    "        if len(correct_lines) != len(wrong_lines):\n",
    "            problematic_samples.append(row)\n",
    "    return pd.DataFrame(problematic_samples)\n",
    "\n",
    "check = check_lines(base_df)\n",
    "problematic_indices = check[\"index\"].tolist()\n",
    "base_df = base_df[~base_df[\"index\"].isin(problematic_indices)]"
   ]
  },
  {
   "cell_type": "code",
   "execution_count": 33,
   "id": "8b11f69d",
   "metadata": {},
   "outputs": [
    {
     "name": "stderr",
     "output_type": "stream",
     "text": [
      "/var/folders/yk/x70ww_h95d3fgd5spjp1s0780000gn/T/ipykernel_92013/2599137860.py:3: SettingWithCopyWarning: \n",
      "A value is trying to be set on a copy of a slice from a DataFrame.\n",
      "Try using .loc[row_indexer,col_indexer] = value instead\n",
      "\n",
      "See the caveats in the documentation: https://pandas.pydata.org/pandas-docs/stable/user_guide/indexing.html#returning-a-view-versus-a-copy\n",
      "  non_FA_df.loc[:, \"eln\"] = non_FA_df.apply(lambda row: int(row[\"erroneous_line_number\"][1]) - 1, axis=1)\n",
      "/var/folders/yk/x70ww_h95d3fgd5spjp1s0780000gn/T/ipykernel_92013/2599137860.py:4: SettingWithCopyWarning: \n",
      "A value is trying to be set on a copy of a slice from a DataFrame.\n",
      "Try using .loc[row_indexer,col_indexer] = value instead\n",
      "\n",
      "See the caveats in the documentation: https://pandas.pydata.org/pandas-docs/stable/user_guide/indexing.html#returning-a-view-versus-a-copy\n",
      "  FA_df.loc[:, \"eln\"] = FA_df.apply(lambda row: int(row[\"solution_length\"]) - 1, axis=1)\n"
     ]
    }
   ],
   "source": [
    "non_FA_df = base_df[base_df[\"erroneous_line_number\"] != \"FA\"]\n",
    "FA_df = base_df[base_df[\"erroneous_line_number\"] == \"FA\"]\n",
    "non_FA_df.loc[:, \"eln\"] = non_FA_df.apply(lambda row: int(row[\"erroneous_line_number\"][1]) - 1, axis=1)\n",
    "FA_df.loc[:, \"eln\"] = FA_df.apply(lambda row: int(row[\"solution_length\"]) - 1, axis=1)\n",
    "\n",
    "# merge the two\n",
    "merged_df = pd.concat([non_FA_df, FA_df], ignore_index=True)"
   ]
  },
  {
   "cell_type": "code",
   "execution_count": 39,
   "id": "b1294ce5",
   "metadata": {},
   "outputs": [
    {
     "data": {
      "text/plain": [
       "eln\n",
       "0    1517\n",
       "1     912\n",
       "2     575\n",
       "3     308\n",
       "4     122\n",
       "5      53\n",
       "6      19\n",
       "7       7\n",
       "8       2\n",
       "Name: count, dtype: int64"
      ]
     },
     "execution_count": 39,
     "metadata": {},
     "output_type": "execute_result"
    }
   ],
   "source": [
    "merged_df[\"eln\"].value_counts()"
   ]
  },
  {
   "cell_type": "code",
   "execution_count": 40,
   "id": "fe6f53b8",
   "metadata": {},
   "outputs": [
    {
     "data": {
      "text/plain": [
       "solution_length\n",
       "4     993\n",
       "3     891\n",
       "5     764\n",
       "6     459\n",
       "7     185\n",
       "8     100\n",
       "2      87\n",
       "9      32\n",
       "10      4\n",
       "Name: count, dtype: int64"
      ]
     },
     "execution_count": 40,
     "metadata": {},
     "output_type": "execute_result"
    }
   ],
   "source": [
    "merged_df[\"solution_length\"].value_counts()"
   ]
  },
  {
   "cell_type": "code",
   "execution_count": 41,
   "id": "af1785fc",
   "metadata": {},
   "outputs": [
    {
     "data": {
      "text/html": [
       "<div>\n",
       "<style scoped>\n",
       "    .dataframe tbody tr th:only-of-type {\n",
       "        vertical-align: middle;\n",
       "    }\n",
       "\n",
       "    .dataframe tbody tr th {\n",
       "        vertical-align: top;\n",
       "    }\n",
       "\n",
       "    .dataframe thead th {\n",
       "        text-align: right;\n",
       "    }\n",
       "</style>\n",
       "<table border=\"1\" class=\"dataframe\">\n",
       "  <thead>\n",
       "    <tr style=\"text-align: right;\">\n",
       "      <th></th>\n",
       "      <th>Unnamed: 0</th>\n",
       "      <th>index</th>\n",
       "      <th>tier</th>\n",
       "      <th>question</th>\n",
       "      <th>correct_answer</th>\n",
       "      <th>wrong_answer</th>\n",
       "      <th>error_type</th>\n",
       "      <th>erroneous_line_number</th>\n",
       "      <th>explanation</th>\n",
       "      <th>error_subtype</th>\n",
       "      <th>source</th>\n",
       "      <th>solution_length</th>\n",
       "      <th>relative_line_position</th>\n",
       "      <th>eln</th>\n",
       "    </tr>\n",
       "  </thead>\n",
       "  <tbody>\n",
       "    <tr>\n",
       "      <th>0</th>\n",
       "      <td>0</td>\n",
       "      <td>1</td>\n",
       "      <td>tier4</td>\n",
       "      <td>Weng earns $12 an hour for babysitting. Yesterday, she just did 50 minutes of babysitting. How much did she earn?</td>\n",
       "      <td>Weng earns 12/60 = $0.2 per minute.\\nWorking 50 minutes, she earned 0.2 x 50 = $10.\\n#### 10</td>\n",
       "      <td>Weng earns 12/60 = $0.2 per minute.\\nWorking 50 minutes, she earned 50 x 50 = $2500.\\n#### 2500</td>\n",
       "      <td>conceptual_error</td>\n",
       "      <td>L2</td>\n",
       "      <td>Incorrect operand. The variable 'minutes_worked' (value: 50) was used instead of 'rate_per_minute' (value: 0.2).</td>\n",
       "      <td>incorrect_operand</td>\n",
       "      <td>programmatic</td>\n",
       "      <td>3</td>\n",
       "      <td>0.500000</td>\n",
       "      <td>1</td>\n",
       "    </tr>\n",
       "    <tr>\n",
       "      <th>1</th>\n",
       "      <td>2</td>\n",
       "      <td>2</td>\n",
       "      <td>tier3</td>\n",
       "      <td>Betty is saving money for a new wallet which costs $100. Betty has only half of the money she needs. Her parents decided to give her $15 for that purpose, and her grandparents twice as much as her parents. How much more money does Betty need to buy the wallet?</td>\n",
       "      <td>In the beginning, Betty has only 100 / 2 = $50.\\nBetty's grandparents gave her 15 * 2 = $30.\\nThis means, Betty needs 100 - 50 - 30 - 15 = $5 more.\\n#### 5</td>\n",
       "      <td>In the beginning, Betty has only 100 / 2 = $50.\\nBetty's grandparents gave her 15 * 2 = $30.\\nThis means, Betty needs 100 - 50 - 30 = $20 more.\\n#### 20</td>\n",
       "      <td>conceptual_error</td>\n",
       "      <td>L3</td>\n",
       "      <td>forgot to consider the money Betty's parents gave her.</td>\n",
       "      <td>NaN</td>\n",
       "      <td>manual</td>\n",
       "      <td>4</td>\n",
       "      <td>0.666667</td>\n",
       "      <td>2</td>\n",
       "    </tr>\n",
       "    <tr>\n",
       "      <th>2</th>\n",
       "      <td>4</td>\n",
       "      <td>3</td>\n",
       "      <td>tier3</td>\n",
       "      <td>Julie is reading a 120-page book. Yesterday, she was able to read 12 pages and today, she read twice as many pages as yesterday. If she wants to read half of the remaining pages tomorrow, how many pages should she read?</td>\n",
       "      <td>Maila read 12 x 2 = 24 pages today.\\nSo she was able to read a total of 12 + 24 = 36 pages since yesterday.\\nThere are 120 - 36 = 84 pages left to be read.\\nSince she wants to read half of the remaining pages tomorrow, then she should read 84/2 = 42 pages.\\n#### 42</td>\n",
       "      <td>Maila read 12 x 2 = 42 pages today.\\nSo she was able to read a total of 12 + 42 = 54 pages since yesterday.\\nThere are 120 - 54 = 66 pages left to be read.\\nSince she wants to read half of the remaining pages tomorrow, then she should read 66/2 = 33 pages.\\n#### 33</td>\n",
       "      <td>computational_error</td>\n",
       "      <td>L1</td>\n",
       "      <td>The result of this computation should be 24, not 42. It appears two adjacent digits were swapped.</td>\n",
       "      <td>generate_digit_transposition_error</td>\n",
       "      <td>programmatic</td>\n",
       "      <td>5</td>\n",
       "      <td>0.000000</td>\n",
       "      <td>0</td>\n",
       "    </tr>\n",
       "    <tr>\n",
       "      <th>3</th>\n",
       "      <td>6</td>\n",
       "      <td>4</td>\n",
       "      <td>tier1</td>\n",
       "      <td>James writes a 3-page letter to 2 different friends twice a week.  How many pages does he write a year?</td>\n",
       "      <td>He writes each friend 3*2=6 pages a week\\nSo he writes 6*2=12 pages every week\\nThat means he writes 12*52=624 pages a year\\n#### 624</td>\n",
       "      <td>He writes each friend 3*2=6 pages a week\\nSo he writes 6*2=12 pages every week\\nThat means he writes 12*48=576 pages a year\\n#### 576</td>\n",
       "      <td>conceptual_error</td>\n",
       "      <td>L3</td>\n",
       "      <td>each year has 52 weeks not 48.</td>\n",
       "      <td>NaN</td>\n",
       "      <td>manual</td>\n",
       "      <td>4</td>\n",
       "      <td>0.666667</td>\n",
       "      <td>2</td>\n",
       "    </tr>\n",
       "    <tr>\n",
       "      <th>4</th>\n",
       "      <td>8</td>\n",
       "      <td>6</td>\n",
       "      <td>tier1</td>\n",
       "      <td>Albert is wondering how much pizza he can eat in one day. He buys 2 large pizzas and 2 small pizzas. A large pizza has 16 slices and a small pizza has 8 slices. If he eats it all, how many pieces does he eat that day?</td>\n",
       "      <td>He eats 32 from the largest pizzas because 2 x 16 = 32\\nHe eats 16 from the small pizza because 2 x 8 = 16\\nHe eats 48 pieces because 32 + 16 = 48\\n#### 48</td>\n",
       "      <td>He eats 32 from the largest pizzas because 2 x 16 = 32\\nHe eats 24 from the small pizza because 3 x 8 = 24\\nHe eats 56 pieces because 32 + 24 = 56\\n#### 56</td>\n",
       "      <td>conceptual_error</td>\n",
       "      <td>L2</td>\n",
       "      <td>he ate 2 small pizzas not 3.</td>\n",
       "      <td>NaN</td>\n",
       "      <td>manual</td>\n",
       "      <td>4</td>\n",
       "      <td>0.333333</td>\n",
       "      <td>1</td>\n",
       "    </tr>\n",
       "  </tbody>\n",
       "</table>\n",
       "</div>"
      ],
      "text/plain": [
       "   Unnamed: 0  index   tier  \\\n",
       "0           0      1  tier4   \n",
       "1           2      2  tier3   \n",
       "2           4      3  tier3   \n",
       "3           6      4  tier1   \n",
       "4           8      6  tier1   \n",
       "\n",
       "                                                                                                                                                                                                                                                               question  \\\n",
       "0                                                                                                                                                     Weng earns $12 an hour for babysitting. Yesterday, she just did 50 minutes of babysitting. How much did she earn?   \n",
       "1  Betty is saving money for a new wallet which costs $100. Betty has only half of the money she needs. Her parents decided to give her $15 for that purpose, and her grandparents twice as much as her parents. How much more money does Betty need to buy the wallet?   \n",
       "2                                           Julie is reading a 120-page book. Yesterday, she was able to read 12 pages and today, she read twice as many pages as yesterday. If she wants to read half of the remaining pages tomorrow, how many pages should she read?   \n",
       "3                                                                                                                                                               James writes a 3-page letter to 2 different friends twice a week.  How many pages does he write a year?   \n",
       "4                                             Albert is wondering how much pizza he can eat in one day. He buys 2 large pizzas and 2 small pizzas. A large pizza has 16 slices and a small pizza has 8 slices. If he eats it all, how many pieces does he eat that day?   \n",
       "\n",
       "                                                                                                                                                                                                                                                              correct_answer  \\\n",
       "0                                                                                                                                                                               Weng earns 12/60 = $0.2 per minute.\\nWorking 50 minutes, she earned 0.2 x 50 = $10.\\n#### 10   \n",
       "1                                                                                                                In the beginning, Betty has only 100 / 2 = $50.\\nBetty's grandparents gave her 15 * 2 = $30.\\nThis means, Betty needs 100 - 50 - 30 - 15 = $5 more.\\n#### 5   \n",
       "2  Maila read 12 x 2 = 24 pages today.\\nSo she was able to read a total of 12 + 24 = 36 pages since yesterday.\\nThere are 120 - 36 = 84 pages left to be read.\\nSince she wants to read half of the remaining pages tomorrow, then she should read 84/2 = 42 pages.\\n#### 42   \n",
       "3                                                                                                                                      He writes each friend 3*2=6 pages a week\\nSo he writes 6*2=12 pages every week\\nThat means he writes 12*52=624 pages a year\\n#### 624   \n",
       "4                                                                                                                He eats 32 from the largest pizzas because 2 x 16 = 32\\nHe eats 16 from the small pizza because 2 x 8 = 16\\nHe eats 48 pieces because 32 + 16 = 48\\n#### 48   \n",
       "\n",
       "                                                                                                                                                                                                                                                                wrong_answer  \\\n",
       "0                                                                                                                                                                            Weng earns 12/60 = $0.2 per minute.\\nWorking 50 minutes, she earned 50 x 50 = $2500.\\n#### 2500   \n",
       "1                                                                                                                   In the beginning, Betty has only 100 / 2 = $50.\\nBetty's grandparents gave her 15 * 2 = $30.\\nThis means, Betty needs 100 - 50 - 30 = $20 more.\\n#### 20   \n",
       "2  Maila read 12 x 2 = 42 pages today.\\nSo she was able to read a total of 12 + 42 = 54 pages since yesterday.\\nThere are 120 - 54 = 66 pages left to be read.\\nSince she wants to read half of the remaining pages tomorrow, then she should read 66/2 = 33 pages.\\n#### 33   \n",
       "3                                                                                                                                      He writes each friend 3*2=6 pages a week\\nSo he writes 6*2=12 pages every week\\nThat means he writes 12*48=576 pages a year\\n#### 576   \n",
       "4                                                                                                                He eats 32 from the largest pizzas because 2 x 16 = 32\\nHe eats 24 from the small pizza because 3 x 8 = 24\\nHe eats 56 pieces because 32 + 24 = 56\\n#### 56   \n",
       "\n",
       "            error_type erroneous_line_number  \\\n",
       "0     conceptual_error                    L2   \n",
       "1     conceptual_error                    L3   \n",
       "2  computational_error                    L1   \n",
       "3     conceptual_error                    L3   \n",
       "4     conceptual_error                    L2   \n",
       "\n",
       "                                                                                                        explanation  \\\n",
       "0  Incorrect operand. The variable 'minutes_worked' (value: 50) was used instead of 'rate_per_minute' (value: 0.2).   \n",
       "1                                                            forgot to consider the money Betty's parents gave her.   \n",
       "2                 The result of this computation should be 24, not 42. It appears two adjacent digits were swapped.   \n",
       "3                                                                                    each year has 52 weeks not 48.   \n",
       "4                                                                                      he ate 2 small pizzas not 3.   \n",
       "\n",
       "                        error_subtype        source  solution_length  \\\n",
       "0                   incorrect_operand  programmatic                3   \n",
       "1                                 NaN        manual                4   \n",
       "2  generate_digit_transposition_error  programmatic                5   \n",
       "3                                 NaN        manual                4   \n",
       "4                                 NaN        manual                4   \n",
       "\n",
       "   relative_line_position  eln  \n",
       "0                0.500000    1  \n",
       "1                0.666667    2  \n",
       "2                0.000000    0  \n",
       "3                0.666667    2  \n",
       "4                0.333333    1  "
      ]
     },
     "execution_count": 41,
     "metadata": {},
     "output_type": "execute_result"
    }
   ],
   "source": [
    "merged_df.head()"
   ]
  },
  {
   "cell_type": "code",
   "execution_count": 42,
   "id": "6d643a0d",
   "metadata": {},
   "outputs": [
    {
     "data": {
      "text/plain": [
       "error_type\n",
       "computational_error    1814\n",
       "conceptual_error       1701\n",
       "Name: count, dtype: int64"
      ]
     },
     "execution_count": 42,
     "metadata": {},
     "output_type": "execute_result"
    }
   ],
   "source": [
    "merged_df[\"error_type\"].value_counts()"
   ]
  },
  {
   "cell_type": "code",
   "execution_count": 43,
   "id": "46766340",
   "metadata": {},
   "outputs": [
    {
     "data": {
      "text/plain": [
       "Index(['Unnamed: 0', 'index', 'tier', 'question', 'correct_answer',\n",
       "       'wrong_answer', 'error_type', 'erroneous_line_number', 'explanation',\n",
       "       'error_subtype', 'source', 'solution_length', 'relative_line_position',\n",
       "       'eln'],\n",
       "      dtype='object')"
      ]
     },
     "execution_count": 43,
     "metadata": {},
     "output_type": "execute_result"
    }
   ],
   "source": [
    "merged_df.columns"
   ]
  },
  {
   "cell_type": "code",
   "execution_count": 44,
   "id": "3d17f1e7",
   "metadata": {},
   "outputs": [],
   "source": [
    "flawed_df = pd.DataFrame({\n",
    "    \"index\": merged_df[\"index\"],\n",
    "    \"tier\": merged_df[\"tier\"],\n",
    "    \"question\": merged_df[\"question\"],\n",
    "    \"answer\": merged_df[\"wrong_answer\"],\n",
    "    \"error_type\": merged_df[\"error_type\"],\n",
    "    \"explanation\": merged_df[\"explanation\"],\n",
    "    \"solution_length\": merged_df[\"solution_length\"],\n",
    "    \"eln\": merged_df[\"eln\"]\n",
    "})\n",
    "\n",
    "correct_df = pd.DataFrame({\n",
    "    \"index\": merged_df[\"index\"],\n",
    "    \"tier\": merged_df[\"tier\"],\n",
    "    \"question\": merged_df[\"question\"],\n",
    "    \"answer\": merged_df[\"correct_answer\"],\n",
    "    \"error_type\": \"correct\",\n",
    "    \"explanation\": None,\n",
    "    \"solution_length\": merged_df[\"correct_answer\"].apply(lambda x: len(str(x).split(\"\\n\"))),\n",
    "    \"eln\": -1  # -1 indicates no erroneous line number for correct answers\n",
    "})"
   ]
  },
  {
   "cell_type": "code",
   "execution_count": 45,
   "id": "842e10d5",
   "metadata": {},
   "outputs": [],
   "source": [
    "final_df = pd.concat([flawed_df, correct_df], ignore_index=True)"
   ]
  },
  {
   "cell_type": "code",
   "execution_count": 46,
   "id": "096a88dd",
   "metadata": {},
   "outputs": [
    {
     "name": "stdout",
     "output_type": "stream",
     "text": [
      "<class 'pandas.core.frame.DataFrame'>\n",
      "RangeIndex: 7030 entries, 0 to 7029\n",
      "Data columns (total 8 columns):\n",
      " #   Column           Non-Null Count  Dtype \n",
      "---  ------           --------------  ----- \n",
      " 0   index            7030 non-null   int64 \n",
      " 1   tier             7030 non-null   object\n",
      " 2   question         7030 non-null   object\n",
      " 3   answer           7030 non-null   object\n",
      " 4   error_type       7030 non-null   object\n",
      " 5   explanation      3515 non-null   object\n",
      " 6   solution_length  7030 non-null   int64 \n",
      " 7   eln              7030 non-null   int64 \n",
      "dtypes: int64(3), object(5)\n",
      "memory usage: 439.5+ KB\n"
     ]
    }
   ],
   "source": [
    "final_df.info()"
   ]
  },
  {
   "cell_type": "code",
   "execution_count": 47,
   "id": "431e3b1a",
   "metadata": {},
   "outputs": [
    {
     "data": {
      "text/plain": [
       "error_type\n",
       "correct                3515\n",
       "computational_error    1814\n",
       "conceptual_error       1701\n",
       "Name: count, dtype: int64"
      ]
     },
     "execution_count": 47,
     "metadata": {},
     "output_type": "execute_result"
    }
   ],
   "source": [
    "final_df[\"error_type\"].value_counts()"
   ]
  },
  {
   "cell_type": "code",
   "execution_count": 48,
   "id": "75b513f3",
   "metadata": {},
   "outputs": [],
   "source": [
    "final_df.to_csv(\"../data/base-datasets-sanitized/line_classification.csv\", index=False)\n",
    "final_df.sample(20).to_csv(\"../data/base-datasets-sanitized/line_classification_sample.csv\", index=False)"
   ]
  },
  {
   "cell_type": "code",
   "execution_count": 50,
   "id": "a16bf3ce",
   "metadata": {},
   "outputs": [
    {
     "data": {
      "text/plain": [
       "solution_length\n",
       "4     2017\n",
       "3     1747\n",
       "5     1585\n",
       "6      932\n",
       "7      384\n",
       "8      201\n",
       "2       87\n",
       "9       69\n",
       "10       8\n",
       "Name: count, dtype: int64"
      ]
     },
     "execution_count": 50,
     "metadata": {},
     "output_type": "execute_result"
    }
   ],
   "source": [
    "final_df[\"solution_length\"].value_counts()"
   ]
  },
  {
   "cell_type": "code",
   "execution_count": 34,
   "id": "989956f2",
   "metadata": {},
   "outputs": [],
   "source": [
    "def check_error_lines(df):\n",
    "    correct_mismatch = []\n",
    "    wrong_mismatch = []\n",
    "    for index, row in df.iterrows():\n",
    "        correct_lines = row[\"correct_answer\"].split(\"\\n\")\n",
    "        wrong_lines = row[\"wrong_answer\"].split(\"\\n\")\n",
    "        eln = row[\"eln\"]\n",
    "        for i in range(eln):\n",
    "            if correct_lines[i] != wrong_lines[i]:\n",
    "                correct_mismatch.append(row)\n",
    "                break\n",
    "\n",
    "        if correct_lines[eln] == wrong_lines[eln]:\n",
    "            wrong_mismatch.append(row)\n",
    "            continue\n",
    "\n",
    "    return {\"correct_mismatch\": pd.DataFrame(correct_mismatch), \n",
    "            \"wrong_mismatch\": pd.DataFrame(wrong_mismatch)}\n"
   ]
  },
  {
   "cell_type": "code",
   "execution_count": 35,
   "id": "6b84c676",
   "metadata": {},
   "outputs": [
    {
     "name": "stdout",
     "output_type": "stream",
     "text": [
      "Correct line mismatches: 228\n",
      "Wrong line mismatches: 25\n"
     ]
    }
   ],
   "source": [
    "mismatches = check_error_lines(non_FA_df)\n",
    "print(\"Correct line mismatches:\", len(mismatches['correct_mismatch']))\n",
    "print(\"Wrong line mismatches:\", len(mismatches['wrong_mismatch']))"
   ]
  },
  {
   "cell_type": "code",
   "execution_count": 36,
   "id": "0b32e4e8",
   "metadata": {},
   "outputs": [],
   "source": [
    "mismatch_indices = mismatches['correct_mismatch'][\"index\"].tolist() + mismatches['wrong_mismatch'][\"index\"].tolist()\n",
    "non_FA_df = non_FA_df[~non_FA_df[\"index\"].isin(mismatch_indices)]"
   ]
  },
  {
   "cell_type": "code",
   "execution_count": 37,
   "id": "e8baebb4",
   "metadata": {},
   "outputs": [],
   "source": [
    "# def make_partial_samples_non_FA(row):\n",
    "#     \"\"\"\n",
    "#     For a given row, generate:\n",
    "#     1. All correct partials (label 0)\n",
    "#     2. All wrong partials starting from the erroneous line (label 1)\n",
    "#     \"\"\"\n",
    "#     question = row[\"question\"]\n",
    "#     correct_lines = row[\"correct_answer\"].split(\"\\n\")\n",
    "#     wrong_lines = row[\"wrong_answer\"].split(\"\\n\")\n",
    "#     eln = row[\"eln\"]\n",
    "\n",
    "#     partials = []\n",
    "\n",
    "#     # All correct partials (label 0)\n",
    "#     for i in range(len(correct_lines)):\n",
    "#         answer = \"\\n\".join(correct_lines[:i+1])  # Include the i-th line\n",
    "#         partials.append({\n",
    "#             \"index\": row[\"index\"],\n",
    "#             \"question\": question,\n",
    "#             \"answer\": answer,\n",
    "#             \"last_line\": i,\n",
    "#             \"original_eln\": eln,\n",
    "#             \"label\": 0\n",
    "#         })\n",
    "\n",
    "#     # Wrong partials from the erroneous line onwards (label 1)\n",
    "#     for i in range(eln, len(wrong_lines)):\n",
    "#         answer = \"\\n\".join(wrong_lines[:i+1])\n",
    "#         partials.append({\n",
    "#             \"index\": row[\"index\"],\n",
    "#             \"question\": question,\n",
    "#             \"answer\": answer,\n",
    "#             \"last_line\": i,\n",
    "#             \"original_eln\": eln,\n",
    "#             \"label\": 1\n",
    "#         })\n",
    "\n",
    "#     return pd.DataFrame(partials)"
   ]
  },
  {
   "cell_type": "code",
   "execution_count": 38,
   "id": "aed7bdf0",
   "metadata": {},
   "outputs": [
    {
     "ename": "NameError",
     "evalue": "name 'make_partial_samples_non_FA' is not defined",
     "output_type": "error",
     "traceback": [
      "\u001b[31m---------------------------------------------------------------------------\u001b[39m",
      "\u001b[31mNameError\u001b[39m                                 Traceback (most recent call last)",
      "\u001b[36mCell\u001b[39m\u001b[36m \u001b[39m\u001b[32mIn[38]\u001b[39m\u001b[32m, line 2\u001b[39m\n\u001b[32m      1\u001b[39m \u001b[38;5;66;03m# Apply the function to each row and collect the resulting DataFrames in a list\u001b[39;00m\n\u001b[32m----> \u001b[39m\u001b[32m2\u001b[39m partials_list = [\u001b[43mmake_partial_samples_non_FA\u001b[49m(row) \u001b[38;5;28;01mfor\u001b[39;00m _, row \u001b[38;5;129;01min\u001b[39;00m non_FA_df.iterrows()]\n\u001b[32m      4\u001b[39m \u001b[38;5;66;03m# Concatenate all the DataFrames into a single DataFrame\u001b[39;00m\n\u001b[32m      5\u001b[39m all_partials_df = pd.concat(partials_list, ignore_index=\u001b[38;5;28;01mTrue\u001b[39;00m)\n",
      "\u001b[31mNameError\u001b[39m: name 'make_partial_samples_non_FA' is not defined"
     ]
    }
   ],
   "source": [
    "# Apply the function to each row and collect the resulting DataFrames in a list\n",
    "partials_list = [make_partial_samples_non_FA(row) for _, row in non_FA_df.iterrows()]\n",
    "\n",
    "# Concatenate all the DataFrames into a single DataFrame\n",
    "all_partials_df = pd.concat(partials_list, ignore_index=True)"
   ]
  },
  {
   "cell_type": "code",
   "execution_count": null,
   "id": "d1f5f00d",
   "metadata": {},
   "outputs": [
    {
     "data": {
      "text/html": [
       "<div>\n",
       "<style scoped>\n",
       "    .dataframe tbody tr th:only-of-type {\n",
       "        vertical-align: middle;\n",
       "    }\n",
       "\n",
       "    .dataframe tbody tr th {\n",
       "        vertical-align: top;\n",
       "    }\n",
       "\n",
       "    .dataframe thead th {\n",
       "        text-align: right;\n",
       "    }\n",
       "</style>\n",
       "<table border=\"1\" class=\"dataframe\">\n",
       "  <thead>\n",
       "    <tr style=\"text-align: right;\">\n",
       "      <th></th>\n",
       "      <th>index</th>\n",
       "      <th>last_line</th>\n",
       "      <th>original_eln</th>\n",
       "      <th>label</th>\n",
       "    </tr>\n",
       "  </thead>\n",
       "  <tbody>\n",
       "    <tr>\n",
       "      <th>count</th>\n",
       "      <td>24482.000000</td>\n",
       "      <td>24482.000000</td>\n",
       "      <td>24482.000000</td>\n",
       "      <td>24482.000000</td>\n",
       "    </tr>\n",
       "    <tr>\n",
       "      <th>mean</th>\n",
       "      <td>3360.958582</td>\n",
       "      <td>2.125439</td>\n",
       "      <td>0.940119</td>\n",
       "      <td>0.442325</td>\n",
       "    </tr>\n",
       "    <tr>\n",
       "      <th>std</th>\n",
       "      <td>2220.359118</td>\n",
       "      <td>1.650399</td>\n",
       "      <td>1.292078</td>\n",
       "      <td>0.496673</td>\n",
       "    </tr>\n",
       "    <tr>\n",
       "      <th>min</th>\n",
       "      <td>1.000000</td>\n",
       "      <td>0.000000</td>\n",
       "      <td>0.000000</td>\n",
       "      <td>0.000000</td>\n",
       "    </tr>\n",
       "    <tr>\n",
       "      <th>25%</th>\n",
       "      <td>1299.250000</td>\n",
       "      <td>1.000000</td>\n",
       "      <td>0.000000</td>\n",
       "      <td>0.000000</td>\n",
       "    </tr>\n",
       "    <tr>\n",
       "      <th>50%</th>\n",
       "      <td>3178.000000</td>\n",
       "      <td>2.000000</td>\n",
       "      <td>0.000000</td>\n",
       "      <td>0.000000</td>\n",
       "    </tr>\n",
       "    <tr>\n",
       "      <th>75%</th>\n",
       "      <td>5264.000000</td>\n",
       "      <td>3.000000</td>\n",
       "      <td>2.000000</td>\n",
       "      <td>1.000000</td>\n",
       "    </tr>\n",
       "    <tr>\n",
       "      <th>max</th>\n",
       "      <td>7471.000000</td>\n",
       "      <td>9.000000</td>\n",
       "      <td>8.000000</td>\n",
       "      <td>1.000000</td>\n",
       "    </tr>\n",
       "  </tbody>\n",
       "</table>\n",
       "</div>"
      ],
      "text/plain": [
       "              index     last_line  original_eln         label\n",
       "count  24482.000000  24482.000000  24482.000000  24482.000000\n",
       "mean    3360.958582      2.125439      0.940119      0.442325\n",
       "std     2220.359118      1.650399      1.292078      0.496673\n",
       "min        1.000000      0.000000      0.000000      0.000000\n",
       "25%     1299.250000      1.000000      0.000000      0.000000\n",
       "50%     3178.000000      2.000000      0.000000      0.000000\n",
       "75%     5264.000000      3.000000      2.000000      1.000000\n",
       "max     7471.000000      9.000000      8.000000      1.000000"
      ]
     },
     "execution_count": 91,
     "metadata": {},
     "output_type": "execute_result"
    }
   ],
   "source": [
    "all_partials_df.describe()"
   ]
  },
  {
   "cell_type": "code",
   "execution_count": null,
   "id": "0fd59c08",
   "metadata": {},
   "outputs": [],
   "source": [
    "# all_partials_df.to_csv(\"../data/base-datasets-sanitized/partials.csv\", index=False)"
   ]
  },
  {
   "cell_type": "code",
   "execution_count": null,
   "id": "5a918d4a",
   "metadata": {},
   "outputs": [],
   "source": [
    "# sample_partials = all_partials_df.head(11)"
   ]
  },
  {
   "cell_type": "code",
   "execution_count": null,
   "id": "779a5578",
   "metadata": {},
   "outputs": [],
   "source": [
    "# sample_partials.to_csv(\"../data/base-datasets-sanitized/sample_partials.csv\", index=False)"
   ]
  },
  {
   "cell_type": "code",
   "execution_count": null,
   "id": "1e734c2e",
   "metadata": {},
   "outputs": [],
   "source": []
  }
 ],
 "metadata": {
  "kernelspec": {
   "display_name": "erdos-dl",
   "language": "python",
   "name": "python3"
  },
  "language_info": {
   "codemirror_mode": {
    "name": "ipython",
    "version": 3
   },
   "file_extension": ".py",
   "mimetype": "text/x-python",
   "name": "python",
   "nbconvert_exporter": "python",
   "pygments_lexer": "ipython3",
   "version": "3.12.11"
  }
 },
 "nbformat": 4,
 "nbformat_minor": 5
}
