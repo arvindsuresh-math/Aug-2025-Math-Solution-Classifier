{
 "cells": [
  {
   "cell_type": "code",
   "execution_count": 1,
   "id": "50f01beb",
   "metadata": {},
   "outputs": [
    {
     "name": "stdout",
     "output_type": "stream",
     "text": [
      "Project root found: /Users/arvindsuresh/Documents/Github/Erdos-DL-June25-Math\n",
      "Base output directory set to: /Users/arvindsuresh/Documents/Github/Erdos-DL-June25-Math/data/code_gen_outputs_formatted\n",
      "Available models: ['anthropic_claude-3-5-haiku-20241022', 'openai_gpt-4.1-mini', 'google_gemini-2.0-flash-thinking-exp', 'google_gemini-2.5-flash-lite-preview-06-17', 'google_gemini-2.5-flash']\n"
     ]
    }
   ],
   "source": [
    "import sys\n",
    "from pathlib import Path\n",
    "import ast\n",
    "import importlib.util\n",
    "\n",
    "# ---------------------------------------------------------------------- #\n",
    "#  Global constants & Configuration\n",
    "# ---------------------------------------------------------------------- #\n",
    "\n",
    "def find_project_root():\n",
    "    \"\"\"Traverse upwards to find the project root, marked by the .git folder.\"\"\"\n",
    "    current_path = Path.cwd()\n",
    "    while current_path != current_path.parent:\n",
    "        if (current_path / \".git\").is_dir():\n",
    "            return current_path\n",
    "        current_path = current_path.parent\n",
    "    raise FileNotFoundError(\"Could not find project root. Is this a git repository?\")\n",
    "\n",
    "\n",
    "PROJECT_ROOT = find_project_root()\n",
    "BASE_OUTPUT_DIR = PROJECT_ROOT / 'data' / 'code_gen_outputs_formatted'\n",
    "print(f\"Project root found: {PROJECT_ROOT}\")\n",
    "print(f\"Base output directory set to: {BASE_OUTPUT_DIR}\")\n",
    "\n",
    "MODEL_DICT = {\n",
    "  \"anthropic\": [\"claude-3-5-haiku-20241022\"], \n",
    "  \"openai\": [\"gpt-4.1-mini\"],\n",
    "  \"google\": [\"gemini-2.0-flash-thinking-exp\", \n",
    "             \"gemini-2.5-flash-lite-preview-06-17\",\n",
    "             \"gemini-2.5-flash\"]\n",
    "}\n",
    "\n",
    "MODELS = [f\"{provider}_{model}\" for provider, sublist in MODEL_DICT.items() for model in sublist]\n",
    "print(f\"Available models: {MODELS}\")"
   ]
  },
  {
   "cell_type": "code",
   "execution_count": 2,
   "id": "0b69a24b",
   "metadata": {},
   "outputs": [],
   "source": [
    "import ast\n",
    "import inspect\n",
    "\n",
    "def execution_trace(func):\n",
    "    # Get source and parse AST\n",
    "    src = inspect.getsource(func)\n",
    "    tree = ast.parse(src)\n",
    "    func_def = tree.body[0]\n",
    "    # Prepare environment with default args\n",
    "    env = {}\n",
    "    for arg, default in zip(\n",
    "        func_def.args.args[::-1], \n",
    "        func_def.args.defaults[::-1]\n",
    "    ):\n",
    "        env[arg.arg] = eval(compile(ast.Expression(default), '', 'eval'))\n",
    "    # Walk through each statement\n",
    "    for stmt in func_def.body:\n",
    "        if isinstance(stmt, ast.Assign):\n",
    "            code = compile(ast.Module([stmt], []), '', 'exec')\n",
    "            exec(code, {}, env)\n",
    "    # Return only the assigned variables (not arguments)\n",
    "    assigned_vars = {\n",
    "        k: v for k, v in env.items()\n",
    "        if k not in [arg.arg for arg in func_def.args.args]\n",
    "    }\n",
    "    return assigned_vars"
   ]
  },
  {
   "cell_type": "code",
   "execution_count": 4,
   "id": "b34c1d93",
   "metadata": {},
   "outputs": [],
   "source": [
    "def wrapper(index: int):\n",
    "    for model in MODELS:\n",
    "        print(f\"Execution trace for {model} with index {index}:\")\n",
    "        problem_dir = BASE_OUTPUT_DIR / f\"{index}\"\n",
    "        py_file_path = problem_dir / f\"{model}.py\"\n",
    "        try:\n",
    "            spec = importlib.util.spec_from_file_location(\"module.name\", py_file_path)\n",
    "            module = importlib.util.module_from_spec(spec)\n",
    "            spec.loader.exec_module(module)\n",
    "        except FileNotFoundError:\n",
    "            print(f\"File not found: {py_file_path}, skipping.\")\n",
    "            continue\n",
    "        except Exception as e:\n",
    "            print(f\"Error processing {py_file_path}: {e}, skipping.\")\n",
    "            continue\n",
    "\n",
    "        trace = execution_trace(module.solve)\n",
    "        display(trace)\n",
    "        print(\"\\n\" + \"=\"*50 + \"\\n\")"
   ]
  },
  {
   "cell_type": "code",
   "execution_count": 6,
   "id": "965745e5",
   "metadata": {},
   "outputs": [
    {
     "name": "stdout",
     "output_type": "stream",
     "text": [
      "Execution trace for anthropic_claude-3-5-haiku-20241022 with index 29:\n"
     ]
    },
    {
     "data": {
      "text/plain": [
       "{'answer': 1000}"
      ]
     },
     "metadata": {},
     "output_type": "display_data"
    },
    {
     "name": "stdout",
     "output_type": "stream",
     "text": [
      "\n",
      "==================================================\n",
      "\n",
      "Execution trace for openai_gpt-4.1-mini with index 29:\n"
     ]
    },
    {
     "data": {
      "text/plain": [
       "{'old_rent_cost_expr': 0.4,\n",
       " 'new_rent_cost_expr': 0.25,\n",
       " 'previous_income': 1000.0,\n",
       " 'answer': 1000.0}"
      ]
     },
     "metadata": {},
     "output_type": "display_data"
    },
    {
     "name": "stdout",
     "output_type": "stream",
     "text": [
      "\n",
      "==================================================\n",
      "\n",
      "Execution trace for google_gemini-2.0-flash-thinking-exp with index 29:\n"
     ]
    },
    {
     "data": {
      "text/plain": [
       "{'lhs_step_6': 8.0,\n",
       " 'rhs_multiplier_step_6': 5.0,\n",
       " 'rhs_constant_step_6': 3000.0,\n",
       " 'lhs_step_7': 3.0,\n",
       " 'previous_income': 1000.0,\n",
       " 'answer': 1000.0}"
      ]
     },
     "metadata": {},
     "output_type": "display_data"
    },
    {
     "name": "stdout",
     "output_type": "stream",
     "text": [
      "\n",
      "==================================================\n",
      "\n",
      "Execution trace for google_gemini-2.5-flash-lite-preview-06-17 with index 29:\n"
     ]
    },
    {
     "data": {
      "text/plain": [
       "{'previous_monthly_income': 999.9999999999999, 'answer': 999.9999999999999}"
      ]
     },
     "metadata": {},
     "output_type": "display_data"
    },
    {
     "name": "stdout",
     "output_type": "stream",
     "text": [
      "\n",
      "==================================================\n",
      "\n",
      "Execution trace for google_gemini-2.5-flash with index 29:\n"
     ]
    },
    {
     "data": {
      "text/plain": [
       "{'right_side_constant_term': 3000,\n",
       " 'coefficient_of_p': 3,\n",
       " 'previous_monthly_income': 1000.0,\n",
       " 'answer': 1000.0}"
      ]
     },
     "metadata": {},
     "output_type": "display_data"
    },
    {
     "name": "stdout",
     "output_type": "stream",
     "text": [
      "\n",
      "==================================================\n",
      "\n"
     ]
    }
   ],
   "source": [
    "wrapper(29)"
   ]
  },
  {
   "cell_type": "code",
   "execution_count": 7,
   "id": "3871ae2a",
   "metadata": {},
   "outputs": [
    {
     "name": "stdout",
     "output_type": "stream",
     "text": [
      "Execution trace for anthropic_claude-3-5-haiku-20241022 with index 44:\n"
     ]
    },
    {
     "data": {
      "text/plain": [
       "{'accommodation_cost': 150.0,\n",
       " 'food_cost': 300.0,\n",
       " 'entertainment_cost': 250.0,\n",
       " 'coursework_materials_cost': 300.0,\n",
       " 'answer': 300.0}"
      ]
     },
     "metadata": {},
     "output_type": "display_data"
    },
    {
     "name": "stdout",
     "output_type": "stream",
     "text": [
      "\n",
      "==================================================\n",
      "\n",
      "Execution trace for openai_gpt-4.1-mini with index 44:\n"
     ]
    },
    {
     "data": {
      "text/plain": [
       "{'accommodation_cost': 150.0,\n",
       " 'food_cost': 300.0,\n",
       " 'entertainment_cost': 250.0,\n",
       " 'coursework_materials_cost': 300.0,\n",
       " 'answer': 300.0}"
      ]
     },
     "metadata": {},
     "output_type": "display_data"
    },
    {
     "name": "stdout",
     "output_type": "stream",
     "text": [
      "\n",
      "==================================================\n",
      "\n",
      "Execution trace for google_gemini-2.0-flash-thinking-exp with index 44:\n"
     ]
    },
    {
     "data": {
      "text/plain": [
       "{'accommodation_cost': 150.0,\n",
       " 'food_cost': 300.0,\n",
       " 'entertainment_cost': 250.0,\n",
       " 'coursework_materials_cost': 300.0,\n",
       " 'answer': 300.0}"
      ]
     },
     "metadata": {},
     "output_type": "display_data"
    },
    {
     "name": "stdout",
     "output_type": "stream",
     "text": [
      "\n",
      "==================================================\n",
      "\n",
      "Execution trace for google_gemini-2.5-flash-lite-preview-06-17 with index 44:\n"
     ]
    },
    {
     "data": {
      "text/plain": [
       "{'accommodation_cost': 150.0,\n",
       " 'food_cost': 300.0,\n",
       " 'entertainment_cost': 250.0,\n",
       " 'coursework_materials_cost': 300.0,\n",
       " 'answer': 300.0}"
      ]
     },
     "metadata": {},
     "output_type": "display_data"
    },
    {
     "name": "stdout",
     "output_type": "stream",
     "text": [
      "\n",
      "==================================================\n",
      "\n",
      "Execution trace for google_gemini-2.5-flash with index 44:\n"
     ]
    },
    {
     "data": {
      "text/plain": [
       "{'accommodation_cost': 150.0,\n",
       " 'food_cost': 300.0,\n",
       " 'entertainment_cost': 250.0,\n",
       " 'coursework_materials_cost': 300.0,\n",
       " 'answer': 300.0}"
      ]
     },
     "metadata": {},
     "output_type": "display_data"
    },
    {
     "name": "stdout",
     "output_type": "stream",
     "text": [
      "\n",
      "==================================================\n",
      "\n"
     ]
    }
   ],
   "source": [
    "wrapper(44)"
   ]
  },
  {
   "cell_type": "code",
   "execution_count": 8,
   "id": "56285d80",
   "metadata": {},
   "outputs": [
    {
     "name": "stdout",
     "output_type": "stream",
     "text": [
      "Execution trace for anthropic_claude-3-5-haiku-20241022 with index 16:\n"
     ]
    },
    {
     "data": {
      "text/plain": [
       "{'part_value': 500.0,\n",
       " 'mike_total_share': 1000.0,\n",
       " 'mike_remaining_amount': 800.0,\n",
       " 'answer': 800.0}"
      ]
     },
     "metadata": {},
     "output_type": "display_data"
    },
    {
     "name": "stdout",
     "output_type": "stream",
     "text": [
      "\n",
      "==================================================\n",
      "\n",
      "Execution trace for openai_gpt-4.1-mini with index 16:\n"
     ]
    },
    {
     "data": {
      "text/plain": [
       "{'value_per_part': 500.0,\n",
       " 'mike_share': 1000.0,\n",
       " 'mike_after_shirt': 800.0,\n",
       " 'answer': 800.0}"
      ]
     },
     "metadata": {},
     "output_type": "display_data"
    },
    {
     "name": "stdout",
     "output_type": "stream",
     "text": [
      "\n",
      "==================================================\n",
      "\n",
      "Execution trace for google_gemini-2.0-flash-thinking-exp with index 16:\n"
     ]
    },
    {
     "data": {
      "text/plain": [
       "{'value_per_part': 500.0,\n",
       " 'mike_share': 1000.0,\n",
       " 'mike_remaining': 800.0,\n",
       " 'answer': 800.0}"
      ]
     },
     "metadata": {},
     "output_type": "display_data"
    },
    {
     "name": "stdout",
     "output_type": "stream",
     "text": [
      "\n",
      "==================================================\n",
      "\n",
      "Execution trace for google_gemini-2.5-flash-lite-preview-06-17 with index 16:\n"
     ]
    },
    {
     "data": {
      "text/plain": [
       "{'value_per_part': 500.0,\n",
       " 'mike_share': 1000.0,\n",
       " 'mike_remaining_share': 800.0,\n",
       " 'answer': 800.0}"
      ]
     },
     "metadata": {},
     "output_type": "display_data"
    },
    {
     "name": "stdout",
     "output_type": "stream",
     "text": [
      "\n",
      "==================================================\n",
      "\n",
      "Execution trace for google_gemini-2.5-flash with index 16:\n"
     ]
    },
    {
     "data": {
      "text/plain": [
       "{'value_per_part': 500.0,\n",
       " 'mike_share': 1000.0,\n",
       " 'mike_remaining_share': 800.0,\n",
       " 'answer': 800.0}"
      ]
     },
     "metadata": {},
     "output_type": "display_data"
    },
    {
     "name": "stdout",
     "output_type": "stream",
     "text": [
      "\n",
      "==================================================\n",
      "\n"
     ]
    }
   ],
   "source": [
    "wrapper(16)"
   ]
  },
  {
   "cell_type": "code",
   "execution_count": 9,
   "id": "bf6f58bd",
   "metadata": {},
   "outputs": [
    {
     "name": "stdout",
     "output_type": "stream",
     "text": [
      "Execution trace for anthropic_claude-3-5-haiku-20241022 with index 99:\n"
     ]
    },
    {
     "data": {
      "text/plain": [
       "{'second_tank_water': 24.0,\n",
       " 'fish_in_second_tank': 12.0,\n",
       " 'fish_in_first_tank': 16.0,\n",
       " 'fish_in_first_tank_after_eating': 15.0,\n",
       " 'difference_in_fish': 3.0,\n",
       " 'answer': 3.0}"
      ]
     },
     "metadata": {},
     "output_type": "display_data"
    },
    {
     "name": "stdout",
     "output_type": "stream",
     "text": [
      "\n",
      "==================================================\n",
      "\n",
      "Execution trace for openai_gpt-4.1-mini with index 99:\n"
     ]
    },
    {
     "data": {
      "text/plain": [
       "{'second_tank_gallons': 24.0,\n",
       " 'second_tank_fish_count': 12.0,\n",
       " 'first_tank_fish_count': 16.0,\n",
       " 'first_tank_fish_after_eating': 15.0,\n",
       " 'fish_difference': 3.0,\n",
       " 'answer': 3.0}"
      ]
     },
     "metadata": {},
     "output_type": "display_data"
    },
    {
     "name": "stdout",
     "output_type": "stream",
     "text": [
      "\n",
      "==================================================\n",
      "\n",
      "Execution trace for google_gemini-2.0-flash-thinking-exp with index 99:\n"
     ]
    },
    {
     "data": {
      "text/plain": [
       "{'gallons_tank2': 24.0,\n",
       " 'fish_tank2': 12.0,\n",
       " 'initial_fish_tank1': 16.0,\n",
       " 'fish_tank1_after_eating': 15.0,\n",
       " 'difference_in_fish': 3.0,\n",
       " 'answer': 3.0}"
      ]
     },
     "metadata": {},
     "output_type": "display_data"
    },
    {
     "name": "stdout",
     "output_type": "stream",
     "text": [
      "\n",
      "==================================================\n",
      "\n",
      "Execution trace for google_gemini-2.5-flash-lite-preview-06-17 with index 99:\n"
     ]
    },
    {
     "data": {
      "text/plain": [
       "{'gallons_in_second_tank': 24.0,\n",
       " 'num_fish_second_tank': 12.0,\n",
       " 'num_fish_first_tank': 16.0,\n",
       " 'num_fish_first_tank_after_eating': 15.0,\n",
       " 'difference_in_fish': 3.0,\n",
       " 'answer': 3.0}"
      ]
     },
     "metadata": {},
     "output_type": "display_data"
    },
    {
     "name": "stdout",
     "output_type": "stream",
     "text": [
      "\n",
      "==================================================\n",
      "\n",
      "Execution trace for google_gemini-2.5-flash with index 99:\n"
     ]
    },
    {
     "data": {
      "text/plain": [
       "{'second_tank_gallons': 24.0,\n",
       " 'fish_in_second_tank': 12.0,\n",
       " 'initial_fish_in_first_tank': 16.0,\n",
       " 'final_fish_in_first_tank': 15.0,\n",
       " 'more_fish_in_first_tank': 3.0,\n",
       " 'answer': 3.0}"
      ]
     },
     "metadata": {},
     "output_type": "display_data"
    },
    {
     "name": "stdout",
     "output_type": "stream",
     "text": [
      "\n",
      "==================================================\n",
      "\n"
     ]
    }
   ],
   "source": [
    "wrapper(99)"
   ]
  },
  {
   "cell_type": "code",
   "execution_count": null,
   "id": "98eeb638",
   "metadata": {},
   "outputs": [],
   "source": []
  }
 ],
 "metadata": {
  "kernelspec": {
   "display_name": "erdos-dl",
   "language": "python",
   "name": "python3"
  },
  "language_info": {
   "codemirror_mode": {
    "name": "ipython",
    "version": 3
   },
   "file_extension": ".py",
   "mimetype": "text/x-python",
   "name": "python",
   "nbconvert_exporter": "python",
   "pygments_lexer": "ipython3",
   "version": "3.12.11"
  }
 },
 "nbformat": 4,
 "nbformat_minor": 5
}
