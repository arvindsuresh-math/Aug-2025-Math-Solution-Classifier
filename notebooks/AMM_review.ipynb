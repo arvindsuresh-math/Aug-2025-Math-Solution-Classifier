{
 "cells": [
  {
   "cell_type": "code",
   "execution_count": 9,
   "id": "a3b86d50",
   "metadata": {},
   "outputs": [],
   "source": [
    "import numpy as np\n",
    "import pandas as pd\n",
    "\n",
    "# To paste CSV data as a string\n",
    "from io import StringIO"
   ]
  },
  {
   "cell_type": "code",
   "execution_count": 10,
   "id": "5620426b",
   "metadata": {},
   "outputs": [],
   "source": [
    "def K(A,B,C,D):\n",
    "    f = 4*(A*D - B*C)\n",
    "    g = (A+B)*(C+D)\n",
    "    K = 16 * B * (A+B) * (C+D)**2 - (f - g)**2\n",
    "    return K"
   ]
  },
  {
   "cell_type": "code",
   "execution_count": 11,
   "id": "5acac60c",
   "metadata": {},
   "outputs": [
    {
     "name": "stdout",
     "output_type": "stream",
     "text": [
      "      m   a   b    c   d       e  result\n",
      "0     7   1   1    1   1       4    True\n",
      "1    15   3   1    3   1      20    True\n",
      "2    23   5   2    7   3     406    True\n",
      "3    31   1   1    3   1       4    True\n",
      "4    39   1   3    6  13    1170    True\n",
      "5    47   1   1   41  21    1124    True\n",
      "6    55   2   1    2   1       5    True\n",
      "7    71   1   1    4   3      14    True\n",
      "8    79   1   1    2   1       2    True\n",
      "9    87   2   3    3   2      39    True\n",
      "10   95   2   1    7   9     110    True\n",
      "11  103   1   1    4   1       2    True\n",
      "12  111   3   1    4   3      30    True\n",
      "13  119   4   3    4   3     125    True\n",
      "14  127   3   8    5  11    3358    True\n",
      "15  143  15  13  103  42  612846    True\n",
      "16  151   2   1    7   1      10    True\n",
      "17  159   1   3    3   2      18    True\n",
      "18  167  19  36   36  19  293289    True\n",
      "19  183   5   3   21   1     204    True\n",
      "20  191   1   1    1   3       4    True\n",
      "21  199   1   1    1   2       2    True\n"
     ]
    }
   ],
   "source": [
    "def verify_prop_6_i(m,a,b,c,d,e):\n",
    "    A = a**2\n",
    "    B = b**2\n",
    "    C = c**2\n",
    "    D = d**2\n",
    "    return K(A,B,C,D) == (m * (e**2))\n",
    "\n",
    "csv_data_1 = \"\"\"m,a,b,c,d,e\n",
    "7,1,1,1,1,4\n",
    "15,3,1,3,1,20\n",
    "23,5,2,7,3,406\n",
    "31,1,1,3,1,4\n",
    "39,1,3,6,13,1170\n",
    "47,1,1,41,21,1124\n",
    "55,2,1,2,1,5\n",
    "71,1,1,4,3,14\n",
    "79,1,1,2,1,2\n",
    "87,2,3,3,2,39\n",
    "95,2,1,7,9,110\n",
    "103,1,1,4,1,2\n",
    "111,3,1,4,3,30\n",
    "119,4,3,4,3,125\n",
    "127,3,8,5,11,3358\n",
    "143,15,13,103,42,612846\n",
    "151,2,1,7,1,10\n",
    "159,1,3,3,2,18\n",
    "167,19,36,36,19,293289\n",
    "183,5,3,21,1,204\n",
    "191,1,1,1,3,4\n",
    "199,1,1,1,2,2\n",
    "\"\"\"\n",
    "\n",
    "df_1 = pd.read_csv(StringIO(csv_data_1))\n",
    "\n",
    "# Apply the function to each row\n",
    "df_1['result'] = df_1.apply(lambda row: verify_prop_6_i(row['m'], row['a'], row['b'], row['c'], row['d'], row['e']), axis=1)\n",
    "\n",
    "print(df_1[['m','a','b','c','d','e','result']])"
   ]
  },
  {
   "cell_type": "code",
   "execution_count": 14,
   "id": "e96a75d6",
   "metadata": {},
   "outputs": [
    {
     "name": "stdout",
     "output_type": "stream",
     "text": [
      "      m   a  b   k    d        N  result\n",
      "0     3   1  1   1    1       16    True\n",
      "1    11   2  1   3    1      160    True\n",
      "2    19   1  1   1    1       16    True\n",
      "3    35   1  1   3    5      560    True\n",
      "4    43   7  3   9   11   109296    True\n",
      "5    51   5  3   7    1     4752    True\n",
      "6    59   3  1   1    3      624    True\n",
      "7    67   1  3   3   13     5616    True\n",
      "8    83   1  1  81  169   453136    True\n",
      "9    91   3  1   1    3      720    True\n",
      "10  107   9  5   1   51   118032    True\n",
      "11  115   3  1   1   15      720    True\n",
      "12  123  11  5  13   23  1477520    True\n",
      "13  131   5  1   3   11     2288    True\n",
      "14  139   1  1   1    5      496    True\n",
      "15  155   3  5   5   33   260304    True\n",
      "16  163   3  1   7   17     8912    True\n",
      "17  179   5  3   3    5    27504    True\n",
      "18  187   3  1   5   17    24208    True\n",
      "19  195   2  1   5   13    16432    True\n"
     ]
    }
   ],
   "source": [
    "def verify_prop_6_ii(m,a,b,k,d,N):\n",
    "    A = a**2\n",
    "    B = b**2\n",
    "    C = m * (k**2)\n",
    "    D = d**2\n",
    "    return K(A,B,C,D) == N**2\n",
    "\n",
    "csv_data_2 = \"\"\"m,a,b,k,d,N\n",
    "3,1,1,1,1,16\n",
    "11,2,1,3,1,160\n",
    "19,1,1,1,1,16\n",
    "35,1,1,3,5,560\n",
    "43,7,3,9,11,109296\n",
    "51,5,3,7,1,4752\n",
    "59,3,1,1,3,624\n",
    "67,1,3,3,13,5616\n",
    "83,1,1,81,169,453136\n",
    "91,3,1,1,3,720\n",
    "107,9,5,1,51,118032\n",
    "115,3,1,1,15,720\n",
    "123,11,5,13,23,1477520\n",
    "131,5,1,3,11,2288\n",
    "139,1,1,1,5,496\n",
    "155,3,5,5,33,260304\n",
    "163,3,1,7,17,8912\n",
    "179,5,3,3,5,27504\n",
    "187,3,1,5,17,24208\n",
    "195,2,1,5,13,16432\"\"\"\n",
    "\n",
    "df_2 = pd.read_csv(StringIO(csv_data_2))\n",
    "\n",
    "# Apply the function to each row\n",
    "df_2['result'] = df_2.apply(lambda row: verify_prop_6_ii(row['m'], row['a'], row['b'], row['k'], row['d'], row['N']), axis=1)\n",
    "\n",
    "print(df_2[['m','a','b','k','d','N','result']])"
   ]
  },
  {
   "cell_type": "code",
   "execution_count": null,
   "id": "7d934adc",
   "metadata": {},
   "outputs": [],
   "source": []
  }
 ],
 "metadata": {
  "kernelspec": {
   "display_name": "erdos-dl",
   "language": "python",
   "name": "python3"
  },
  "language_info": {
   "codemirror_mode": {
    "name": "ipython",
    "version": 3
   },
   "file_extension": ".py",
   "mimetype": "text/x-python",
   "name": "python",
   "nbconvert_exporter": "python",
   "pygments_lexer": "ipython3",
   "version": "3.12.11"
  }
 },
 "nbformat": 4,
 "nbformat_minor": 5
}
