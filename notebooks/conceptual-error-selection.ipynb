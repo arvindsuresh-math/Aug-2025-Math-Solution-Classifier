{
 "cells": [
  {
   "cell_type": "code",
   "execution_count": 1,
   "id": "fb727cf3",
   "metadata": {},
   "outputs": [
    {
     "name": "stdout",
     "output_type": "stream",
     "text": [
      "Project root: /Users/arvindsuresh/Documents/Github/Erdos-DL-June25-Math\n",
      "Input (Processed Templates): /Users/arvindsuresh/Documents/Github/Erdos-DL-June25-Math/data/template-generated-processed\n",
      "Output (Conceptual Candidates): /Users/arvindsuresh/Documents/Github/Erdos-DL-June25-Math/data/conceptual-error-candidates\n",
      "Catalog Path: /Users/arvindsuresh/Documents/Github/Erdos-DL-June25-Math/data/conceptual-error-candidates/conceptual_candidate_catalog.csv\n"
     ]
    }
   ],
   "source": [
    "# --- Imports and Path Definitions ---\n",
    "\n",
    "import json\n",
    "import re\n",
    "import ast\n",
    "import inspect\n",
    "import importlib.util\n",
    "from pathlib import Path\n",
    "from types import ModuleType\n",
    "from typing import Callable, Any, Dict, List, Set\n",
    "from fractions import Fraction as BuiltinFraction\n",
    "import copy\n",
    "import datetime\n",
    "\n",
    "import pandas as pd\n",
    "from tqdm.notebook import tqdm\n",
    "from datasets import load_dataset, Dataset\n",
    "from joblib import Parallel, delayed\n",
    "\n",
    "def find_project_root(marker: str = \".git\"):\n",
    "    \"\"\"\n",
    "    Traverses the directory structure upwards from the current working directory\n",
    "    to locate the project's root, which is identified by the presence of a\n",
    "    specific marker file or directory (e.g., '.git').\n",
    "\n",
    "    Args:\n",
    "        marker: The filename or directory name that marks the project root.\n",
    "\n",
    "    Returns:\n",
    "        A Path object to the project root directory.\n",
    "    \n",
    "    Raises:\n",
    "        FileNotFoundError: If the project root cannot be found.\n",
    "    \"\"\"\n",
    "    current_path = Path.cwd().resolve()\n",
    "    while current_path != current_path.parent:\n",
    "        if (current_path / marker).exists():\n",
    "            return current_path\n",
    "        current_path = current_path.parent\n",
    "    raise FileNotFoundError(f\"Could not find project root. Marker '{marker}' not found.\")\n",
    "\n",
    "PROJECT_ROOT = find_project_root()\n",
    "DATA_DIR = PROJECT_ROOT / 'data'\n",
    "\n",
    "# --- Directory Paths ---\n",
    "PROCESSED_TEMPLATE_DIR = DATA_DIR / \"template-generated-processed\"\n",
    "CONCEPTUAL_CANDIDATES_DIR = DATA_DIR / \"conceptual-error-candidates\"\n",
    "CATALOG_PATH = CONCEPTUAL_CANDIDATES_DIR / \"conceptual_candidate_catalog.csv\"\n",
    "\n",
    "# --- Models ---\n",
    "MODELS = ['google_gemini-2.5-flash', 'openai_gpt-4.1']\n",
    "\n",
    "print(f\"Project root: {PROJECT_ROOT}\")\n",
    "print(f\"Input (Processed Templates): {PROCESSED_TEMPLATE_DIR}\")\n",
    "print(f\"Output (Conceptual Candidates): {CONCEPTUAL_CANDIDATES_DIR}\")\n",
    "print(f\"Catalog Path: {CATALOG_PATH}\")\n",
    "\n",
    "# --- Ensure Directories Exist ---\n",
    "PROCESSED_TEMPLATE_DIR.mkdir(parents=True, exist_ok=True)\n",
    "CONCEPTUAL_CANDIDATES_DIR.mkdir(parents=True, exist_ok=True)"
   ]
  },
  {
   "cell_type": "code",
   "execution_count": 2,
   "id": "6193b425",
   "metadata": {},
   "outputs": [
    {
     "name": "stdout",
     "output_type": "stream",
     "text": [
      "Tier definitions loaded.\n"
     ]
    }
   ],
   "source": [
    "# --- Load GSM8K Dataset ---\n",
    "GSM8K_TRAIN: Dataset = load_dataset(\"gsm8k\", \"main\")[\"train\"]\n",
    "\n",
    "# --- Tier Definition Functions ---\n",
    "def has_computational_division(solution_text: str):\n",
    "    \"\"\"Checks if a solution text contains a division operation.\"\"\"\n",
    "    pattern = re.compile(r'/\\s*\\d')\n",
    "    return bool(pattern.search(solution_text))\n",
    "\n",
    "def has_float(solution_text: str):\n",
    "    \"\"\"Checks if a solution text contains a float value.\"\"\"\n",
    "    pattern = re.compile(r'(?<!\\d)\\.\\d+|\\d+\\.\\d+')\n",
    "    return bool(pattern.search(solution_text))\n",
    "\n",
    "def is_symbolic(solution_text: str):\n",
    "    \"\"\"Checks if a solution text uses symbolic algebra (e.g., 'Let x...').\"\"\"\n",
    "    pattern = re.compile(r'^Let [a-zA-Z] ', re.MULTILINE)\n",
    "    return bool(pattern.search(solution_text))\n",
    "\n",
    "def mutually_disjoint_tiers(dataset: Dataset):\n",
    "    \"\"\"\n",
    "    Categorizes all problems in the dataset into mutually disjoint tiers\n",
    "    based on the mathematical operations present in their solution text.\n",
    "    \"\"\"\n",
    "    tiers = {}\n",
    "    symbolic_set = {idx for idx, sample in enumerate(dataset) if is_symbolic(sample.get(\"answer\", \"\"))}\n",
    "    non_symbolic_indices = [idx for idx in range(len(dataset)) if idx not in symbolic_set]\n",
    "    \n",
    "    tiers[\"tier1\"] = sorted([idx for idx in non_symbolic_indices if not has_float(dataset[idx].get(\"answer\", \"\")) and not has_computational_division(dataset[idx].get(\"answer\", \"\"))])\n",
    "    tiers[\"tier2\"] = sorted([idx for idx in non_symbolic_indices if has_float(dataset[idx].get(\"answer\", \"\")) and not has_computational_division(dataset[idx].get(\"answer\", \"\"))])\n",
    "    tiers[\"tier3\"] = sorted([idx for idx in non_symbolic_indices if not has_float(dataset[idx].get(\"answer\", \"\")) and has_computational_division(dataset[idx].get(\"answer\", \"\"))])\n",
    "    tiers[\"tier4\"] = sorted([idx for idx in non_symbolic_indices if has_float(dataset[idx].get(\"answer\", \"\")) and has_computational_division(dataset[idx].get(\"answer\", \"\"))])\n",
    "    tiers[\"tier5\"] = sorted(list(symbolic_set))\n",
    "    return tiers\n",
    "\n",
    "TIER_LISTS = mutually_disjoint_tiers(GSM8K_TRAIN)\n",
    "print(\"Tier definitions loaded.\")"
   ]
  },
  {
   "cell_type": "code",
   "execution_count": 3,
   "id": "2f718607",
   "metadata": {},
   "outputs": [
    {
     "name": "stdout",
     "output_type": "stream",
     "text": [
      "Sanitization and Solution Mapping utilities defined.\n"
     ]
    }
   ],
   "source": [
    "def sanitize_text(text: str):\n",
    "    \"\"\"\n",
    "    Replaces a comprehensive set of problematic Unicode characters with their\n",
    "    ASCII equivalents to prevent model generation and string parsing errors.\n",
    "    \"\"\"\n",
    "    replacements = {\n",
    "        \"\\u2212\": \"-\", \"\\u00d7\": \"*\", \"\\u00f7\": \"/\", \"\\u22c5\": \"*\",\n",
    "        \"\\u201c\": '\"', \"\\u201d\": '\"', \"\\u2018\": \"'\", \"\\u2019\": \"'\",\n",
    "        \"\\u2014\": \"-\", \"\\u2013\": \"-\", \"\\u2026\": \"...\", \"\\u00a0\": \" \",\n",
    "    }\n",
    "    for uni, ascii_char in replacements.items():\n",
    "        text = text.replace(uni, ascii_char)\n",
    "    return text\n",
    "\n",
    "def build_solution_mapping(index: int):\n",
    "    \"\"\"\n",
    "    Extracts the original natural language solution from the dataset, sanitizes\n",
    "    it, and structures it into a line-numbered dictionary including the 'FA'\n",
    "    (Final Answer) line.\n",
    "    \"\"\"\n",
    "    try:\n",
    "        solution_text = GSM8K_TRAIN[index][\"answer\"]\n",
    "        sanitized_text = sanitize_text(solution_text)\n",
    "        lines = [ln.strip() for ln in sanitized_text.splitlines() if ln.strip()]\n",
    "\n",
    "        solution_mapping = {}\n",
    "        if lines and re.match(r\"^####\\s*[\\d\\.,]+$\", lines[-1]):\n",
    "            solution_mapping[\"FA\"] = lines.pop(-1).strip()\n",
    "        \n",
    "        for i, line in enumerate(lines, 1):\n",
    "            solution_mapping[f\"L{i}\"] = line\n",
    "            \n",
    "        return solution_mapping\n",
    "    except IndexError:\n",
    "        return {}\n",
    "\n",
    "print(\"Sanitization and Solution Mapping utilities defined.\")"
   ]
  },
  {
   "cell_type": "code",
   "execution_count": 4,
   "id": "141470a8",
   "metadata": {},
   "outputs": [
    {
     "data": {
      "application/vnd.microsoft.datawrangler.viewer.v0+json": {
       "columns": [
        {
         "name": "index",
         "rawType": "int64",
         "type": "integer"
        },
        {
         "name": "index",
         "rawType": "int64",
         "type": "integer"
        },
        {
         "name": "tier",
         "rawType": "object",
         "type": "string"
        },
        {
         "name": "model",
         "rawType": "object",
         "type": "string"
        },
        {
         "name": "mutation_type",
         "rawType": "object",
         "type": "string"
        },
        {
         "name": "target_variable",
         "rawType": "object",
         "type": "string"
        },
        {
         "name": "correct_value",
         "rawType": "object",
         "type": "string"
        },
        {
         "name": "flawed_value",
         "rawType": "object",
         "type": "string"
        },
        {
         "name": "repro_seed",
         "rawType": "int64",
         "type": "integer"
        },
        {
         "name": "date_utc",
         "rawType": "object",
         "type": "string"
        },
        {
         "name": "time_utc",
         "rawType": "object",
         "type": "string"
        },
        {
         "name": "mutation_details",
         "rawType": "object",
         "type": "string"
        },
        {
         "name": "filepath",
         "rawType": "object",
         "type": "string"
        }
       ],
       "ref": "988f73e5-7d9b-4c01-8af9-b00af78fbae0",
       "rows": [
        [
         "0",
         "4",
         "tier1",
         "google_gemini-2.5-flash",
         "input_misrepresentation",
         "pages_per_friend_per_week",
         "6",
         "4",
         "-5110171652223615853",
         "2025-07-20",
         "17:24:50",
         "{\"type\": \"input_misrepresentation\", \"target_variable\": \"pages_per_friend_per_week\", \"operand_to_replace\": \"pages_per_letter\", \"replacement_variable\": \"times_per_week_per_friend\"}",
         "data/conceptual-error-candidates/tier1/4/google_gemini-2.5-flash_input_misrepresentation_pages_per_friend_per_week_times_per_week_per_friend.json"
        ],
        [
         "1",
         "4",
         "tier1",
         "google_gemini-2.5-flash",
         "input_misrepresentation",
         "total_pages_per_year",
         "624",
         "72",
         "-5110171652223615853",
         "2025-07-20",
         "17:24:50",
         "{\"type\": \"input_misrepresentation\", \"target_variable\": \"total_pages_per_year\", \"operand_to_replace\": \"weeks_per_year\", \"replacement_variable\": \"pages_per_friend_per_week\"}",
         "data/conceptual-error-candidates/tier1/4/google_gemini-2.5-flash_input_misrepresentation_total_pages_per_year_pages_per_friend_per_week.json"
        ],
        [
         "2",
         "4",
         "tier1",
         "google_gemini-2.5-flash",
         "operator_swap",
         "total_pages_per_week",
         "12",
         "3.0",
         "-5110171652223615853",
         "2025-07-20",
         "17:24:50",
         "{\"type\": \"operator_swap\", \"target_variable\": \"total_pages_per_week\", \"original_op_type\": \"<class 'ast.Mult'>\", \"new_op\": \"<ast.Div object at 0x314e52f90>\"}",
         "data/conceptual-error-candidates/tier1/4/google_gemini-2.5-flash_operator_swap_total_pages_per_week_.json"
        ],
        [
         "3",
         "4",
         "tier1",
         "google_gemini-2.5-flash",
         "incorrect_final_answer_selection",
         "answer",
         "624",
         "12",
         "-5110171652223615853",
         "2025-07-20",
         "17:24:50",
         "{\"type\": \"incorrect_final_answer_selection\", \"target_variable\": \"answer\", \"operand_to_replace\": \"total_pages_per_year\", \"replacement_variable\": \"total_pages_per_week\"}",
         "data/conceptual-error-candidates/tier1/4/google_gemini-2.5-flash_incorrect_final_answer_selection_answer_total_pages_per_week.json"
        ],
        [
         "4",
         "4",
         "tier1",
         "google_gemini-2.5-flash",
         "incorrect_final_answer_selection",
         "answer",
         "624",
         "6",
         "-5110171652223615853",
         "2025-07-20",
         "17:24:50",
         "{\"type\": \"incorrect_final_answer_selection\", \"target_variable\": \"answer\", \"operand_to_replace\": \"total_pages_per_year\", \"replacement_variable\": \"pages_per_friend_per_week\"}",
         "data/conceptual-error-candidates/tier1/4/google_gemini-2.5-flash_incorrect_final_answer_selection_answer_pages_per_friend_per_week.json"
        ]
       ],
       "shape": {
        "columns": 12,
        "rows": 5
       }
      },
      "text/html": [
       "<div>\n",
       "<style scoped>\n",
       "    .dataframe tbody tr th:only-of-type {\n",
       "        vertical-align: middle;\n",
       "    }\n",
       "\n",
       "    .dataframe tbody tr th {\n",
       "        vertical-align: top;\n",
       "    }\n",
       "\n",
       "    .dataframe thead th {\n",
       "        text-align: right;\n",
       "    }\n",
       "</style>\n",
       "<table border=\"1\" class=\"dataframe\">\n",
       "  <thead>\n",
       "    <tr style=\"text-align: right;\">\n",
       "      <th></th>\n",
       "      <th>index</th>\n",
       "      <th>tier</th>\n",
       "      <th>model</th>\n",
       "      <th>mutation_type</th>\n",
       "      <th>target_variable</th>\n",
       "      <th>correct_value</th>\n",
       "      <th>flawed_value</th>\n",
       "      <th>repro_seed</th>\n",
       "      <th>date_utc</th>\n",
       "      <th>time_utc</th>\n",
       "      <th>mutation_details</th>\n",
       "      <th>filepath</th>\n",
       "    </tr>\n",
       "  </thead>\n",
       "  <tbody>\n",
       "    <tr>\n",
       "      <th>0</th>\n",
       "      <td>4</td>\n",
       "      <td>tier1</td>\n",
       "      <td>google_gemini-2.5-flash</td>\n",
       "      <td>input_misrepresentation</td>\n",
       "      <td>pages_per_friend_per_week</td>\n",
       "      <td>6</td>\n",
       "      <td>4</td>\n",
       "      <td>-5110171652223615853</td>\n",
       "      <td>2025-07-20</td>\n",
       "      <td>17:24:50</td>\n",
       "      <td>{\"type\": \"input_misrepresentation\", \"target_va...</td>\n",
       "      <td>data/conceptual-error-candidates/tier1/4/googl...</td>\n",
       "    </tr>\n",
       "    <tr>\n",
       "      <th>1</th>\n",
       "      <td>4</td>\n",
       "      <td>tier1</td>\n",
       "      <td>google_gemini-2.5-flash</td>\n",
       "      <td>input_misrepresentation</td>\n",
       "      <td>total_pages_per_year</td>\n",
       "      <td>624</td>\n",
       "      <td>72</td>\n",
       "      <td>-5110171652223615853</td>\n",
       "      <td>2025-07-20</td>\n",
       "      <td>17:24:50</td>\n",
       "      <td>{\"type\": \"input_misrepresentation\", \"target_va...</td>\n",
       "      <td>data/conceptual-error-candidates/tier1/4/googl...</td>\n",
       "    </tr>\n",
       "    <tr>\n",
       "      <th>2</th>\n",
       "      <td>4</td>\n",
       "      <td>tier1</td>\n",
       "      <td>google_gemini-2.5-flash</td>\n",
       "      <td>operator_swap</td>\n",
       "      <td>total_pages_per_week</td>\n",
       "      <td>12</td>\n",
       "      <td>3.0</td>\n",
       "      <td>-5110171652223615853</td>\n",
       "      <td>2025-07-20</td>\n",
       "      <td>17:24:50</td>\n",
       "      <td>{\"type\": \"operator_swap\", \"target_variable\": \"...</td>\n",
       "      <td>data/conceptual-error-candidates/tier1/4/googl...</td>\n",
       "    </tr>\n",
       "    <tr>\n",
       "      <th>3</th>\n",
       "      <td>4</td>\n",
       "      <td>tier1</td>\n",
       "      <td>google_gemini-2.5-flash</td>\n",
       "      <td>incorrect_final_answer_selection</td>\n",
       "      <td>answer</td>\n",
       "      <td>624</td>\n",
       "      <td>12</td>\n",
       "      <td>-5110171652223615853</td>\n",
       "      <td>2025-07-20</td>\n",
       "      <td>17:24:50</td>\n",
       "      <td>{\"type\": \"incorrect_final_answer_selection\", \"...</td>\n",
       "      <td>data/conceptual-error-candidates/tier1/4/googl...</td>\n",
       "    </tr>\n",
       "    <tr>\n",
       "      <th>4</th>\n",
       "      <td>4</td>\n",
       "      <td>tier1</td>\n",
       "      <td>google_gemini-2.5-flash</td>\n",
       "      <td>incorrect_final_answer_selection</td>\n",
       "      <td>answer</td>\n",
       "      <td>624</td>\n",
       "      <td>6</td>\n",
       "      <td>-5110171652223615853</td>\n",
       "      <td>2025-07-20</td>\n",
       "      <td>17:24:50</td>\n",
       "      <td>{\"type\": \"incorrect_final_answer_selection\", \"...</td>\n",
       "      <td>data/conceptual-error-candidates/tier1/4/googl...</td>\n",
       "    </tr>\n",
       "  </tbody>\n",
       "</table>\n",
       "</div>"
      ],
      "text/plain": [
       "   index   tier                    model                     mutation_type  \\\n",
       "0      4  tier1  google_gemini-2.5-flash           input_misrepresentation   \n",
       "1      4  tier1  google_gemini-2.5-flash           input_misrepresentation   \n",
       "2      4  tier1  google_gemini-2.5-flash                     operator_swap   \n",
       "3      4  tier1  google_gemini-2.5-flash  incorrect_final_answer_selection   \n",
       "4      4  tier1  google_gemini-2.5-flash  incorrect_final_answer_selection   \n",
       "\n",
       "             target_variable correct_value flawed_value           repro_seed  \\\n",
       "0  pages_per_friend_per_week             6            4 -5110171652223615853   \n",
       "1       total_pages_per_year           624           72 -5110171652223615853   \n",
       "2       total_pages_per_week            12          3.0 -5110171652223615853   \n",
       "3                     answer           624           12 -5110171652223615853   \n",
       "4                     answer           624            6 -5110171652223615853   \n",
       "\n",
       "     date_utc  time_utc                                   mutation_details  \\\n",
       "0  2025-07-20  17:24:50  {\"type\": \"input_misrepresentation\", \"target_va...   \n",
       "1  2025-07-20  17:24:50  {\"type\": \"input_misrepresentation\", \"target_va...   \n",
       "2  2025-07-20  17:24:50  {\"type\": \"operator_swap\", \"target_variable\": \"...   \n",
       "3  2025-07-20  17:24:50  {\"type\": \"incorrect_final_answer_selection\", \"...   \n",
       "4  2025-07-20  17:24:50  {\"type\": \"incorrect_final_answer_selection\", \"...   \n",
       "\n",
       "                                            filepath  \n",
       "0  data/conceptual-error-candidates/tier1/4/googl...  \n",
       "1  data/conceptual-error-candidates/tier1/4/googl...  \n",
       "2  data/conceptual-error-candidates/tier1/4/googl...  \n",
       "3  data/conceptual-error-candidates/tier1/4/googl...  \n",
       "4  data/conceptual-error-candidates/tier1/4/googl...  "
      ]
     },
     "metadata": {},
     "output_type": "display_data"
    },
    {
     "name": "stdout",
     "output_type": "stream",
     "text": [
      "<class 'pandas.core.frame.DataFrame'>\n",
      "RangeIndex: 33738 entries, 0 to 33737\n",
      "Data columns (total 12 columns):\n",
      " #   Column            Non-Null Count  Dtype \n",
      "---  ------            --------------  ----- \n",
      " 0   index             33738 non-null  int64 \n",
      " 1   tier              33738 non-null  object\n",
      " 2   model             33738 non-null  object\n",
      " 3   mutation_type     33738 non-null  object\n",
      " 4   target_variable   33738 non-null  object\n",
      " 5   correct_value     33738 non-null  object\n",
      " 6   flawed_value      33738 non-null  object\n",
      " 7   repro_seed        33738 non-null  int64 \n",
      " 8   date_utc          33738 non-null  object\n",
      " 9   time_utc          33738 non-null  object\n",
      " 10  mutation_details  33738 non-null  object\n",
      " 11  filepath          33738 non-null  object\n",
      "dtypes: int64(2), object(10)\n",
      "memory usage: 3.1+ MB\n"
     ]
    },
    {
     "data": {
      "text/plain": [
       "None"
      ]
     },
     "metadata": {},
     "output_type": "display_data"
    }
   ],
   "source": [
    "catalog = pd.read_csv(CATALOG_PATH)\n",
    "display(catalog.head())\n",
    "display(catalog.info())"
   ]
  },
  {
   "cell_type": "code",
   "execution_count": null,
   "id": "cdaa4a90",
   "metadata": {},
   "outputs": [],
   "source": []
  }
 ],
 "metadata": {
  "kernelspec": {
   "display_name": "erdos-dl",
   "language": "python",
   "name": "python3"
  },
  "language_info": {
   "codemirror_mode": {
    "name": "ipython",
    "version": 3
   },
   "file_extension": ".py",
   "mimetype": "text/x-python",
   "name": "python",
   "nbconvert_exporter": "python",
   "pygments_lexer": "ipython3",
   "version": "3.12.11"
  }
 },
 "nbformat": 4,
 "nbformat_minor": 5
}
