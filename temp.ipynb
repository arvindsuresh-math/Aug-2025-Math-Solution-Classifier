{
 "cells": [
  {
   "cell_type": "code",
   "execution_count": 1,
   "id": "126ddafd",
   "metadata": {},
   "outputs": [],
   "source": [
    "import os\n",
    "import subprocess\n",
    "\n",
    "def convert_notebooks_to_markdown(parent_dir):\n",
    "    root_dir = os.path.abspath(parent_dir)\n",
    "    for dirpath, _, filenames in os.walk(root_dir):\n",
    "        for filename in filenames:\n",
    "            if filename.endswith('.ipynb'):\n",
    "                notebook_path = os.path.join(dirpath, filename)\n",
    "                md_filename = os.path.splitext(filename)[0] + '.md'\n",
    "                md_path = os.path.join(root_dir, md_filename)\n",
    "                subprocess.run([\n",
    "                    'jupyter', 'nbconvert', '--to', 'markdown',\n",
    "                    notebook_path, '--output', md_path\n",
    "                ])"
   ]
  },
  {
   "cell_type": "code",
   "execution_count": 2,
   "id": "d896551b",
   "metadata": {},
   "outputs": [
    {
     "name": "stderr",
     "output_type": "stream",
     "text": [
      "[NbConvertApp] Converting notebook /Users/arvindsuresh/Documents/Github/Erdos-DL-June25-Math/notebooks/modelling/final-testing.ipynb to markdown\n",
      "[NbConvertApp] Support files will be in /Users/arvindsuresh/Documents/Github/Erdos-DL-June25-Math/notebooks/final-testing_files/\n",
      "[NbConvertApp] Writing 135968 bytes to /Users/arvindsuresh/Documents/Github/Erdos-DL-June25-Math/notebooks/final-testing.md\n",
      "[NbConvertApp] Converting notebook /Users/arvindsuresh/Documents/Github/Erdos-DL-June25-Math/notebooks/modelling/eqn-extraction.ipynb to markdown\n",
      "[NbConvertApp] Writing 66050 bytes to /Users/arvindsuresh/Documents/Github/Erdos-DL-June25-Math/notebooks/eqn-extraction.md\n",
      "[NbConvertApp] Converting notebook /Users/arvindsuresh/Documents/Github/Erdos-DL-June25-Math/notebooks/modelling/error-detection.ipynb to markdown\n",
      "[NbConvertApp] Writing 99600 bytes to /Users/arvindsuresh/Documents/Github/Erdos-DL-June25-Math/notebooks/error-detection.md\n",
      "[NbConvertApp] Converting notebook /Users/arvindsuresh/Documents/Github/Erdos-DL-June25-Math/notebooks/data-pipeline/5-conceptual-error-injection.ipynb to markdown\n",
      "[NbConvertApp] Writing 40716 bytes to /Users/arvindsuresh/Documents/Github/Erdos-DL-June25-Math/notebooks/5-conceptual-error-injection.md\n",
      "[NbConvertApp] Converting notebook /Users/arvindsuresh/Documents/Github/Erdos-DL-June25-Math/notebooks/data-pipeline/7-make-error-detection-dataset.ipynb to markdown\n",
      "[NbConvertApp] Writing 173067 bytes to /Users/arvindsuresh/Documents/Github/Erdos-DL-June25-Math/notebooks/7-make-error-detection-dataset.md\n",
      "[NbConvertApp] Converting notebook /Users/arvindsuresh/Documents/Github/Erdos-DL-June25-Math/notebooks/data-pipeline/8-make-eqn-extraction-dataset.ipynb to markdown\n",
      "[NbConvertApp] Writing 45478 bytes to /Users/arvindsuresh/Documents/Github/Erdos-DL-June25-Math/notebooks/8-make-eqn-extraction-dataset.md\n",
      "[NbConvertApp] Converting notebook /Users/arvindsuresh/Documents/Github/Erdos-DL-June25-Math/notebooks/data-pipeline/4-computational-error-injection.ipynb to markdown\n",
      "[NbConvertApp] Writing 36148 bytes to /Users/arvindsuresh/Documents/Github/Erdos-DL-June25-Math/notebooks/4-computational-error-injection.md\n",
      "[NbConvertApp] Converting notebook /Users/arvindsuresh/Documents/Github/Erdos-DL-June25-Math/notebooks/data-pipeline/2-template-preprocessing.ipynb to markdown\n",
      "[NbConvertApp] Writing 5109 bytes to /Users/arvindsuresh/Documents/Github/Erdos-DL-June25-Math/notebooks/2-template-preprocessing.md\n",
      "[NbConvertApp] Converting notebook /Users/arvindsuresh/Documents/Github/Erdos-DL-June25-Math/notebooks/data-pipeline/1-template-generation.ipynb to markdown\n",
      "[NbConvertApp] Writing 122389 bytes to /Users/arvindsuresh/Documents/Github/Erdos-DL-June25-Math/notebooks/1-template-generation.md\n",
      "[NbConvertApp] Converting notebook /Users/arvindsuresh/Documents/Github/Erdos-DL-June25-Math/notebooks/data-pipeline/3-template-validation.ipynb to markdown\n",
      "[NbConvertApp] Writing 20880 bytes to /Users/arvindsuresh/Documents/Github/Erdos-DL-June25-Math/notebooks/3-template-validation.md\n",
      "[NbConvertApp] Converting notebook /Users/arvindsuresh/Documents/Github/Erdos-DL-June25-Math/notebooks/data-pipeline/6-conceptual-error-selection.ipynb to markdown\n",
      "[NbConvertApp] Support files will be in /Users/arvindsuresh/Documents/Github/Erdos-DL-June25-Math/notebooks/6-conceptual-error-selection_files/\n",
      "[NbConvertApp] Writing 55914 bytes to /Users/arvindsuresh/Documents/Github/Erdos-DL-June25-Math/notebooks/6-conceptual-error-selection.md\n"
     ]
    }
   ],
   "source": [
    "convert_notebooks_to_markdown('notebooks')"
   ]
  },
  {
   "cell_type": "code",
   "execution_count": null,
   "id": "0fe526fc",
   "metadata": {},
   "outputs": [],
   "source": []
  }
 ],
 "metadata": {
  "kernelspec": {
   "display_name": "erdos-dl",
   "language": "python",
   "name": "python3"
  },
  "language_info": {
   "codemirror_mode": {
    "name": "ipython",
    "version": 3
   },
   "file_extension": ".py",
   "mimetype": "text/x-python",
   "name": "python",
   "nbconvert_exporter": "python",
   "pygments_lexer": "ipython3",
   "version": "3.12.11"
  }
 },
 "nbformat": 4,
 "nbformat_minor": 5
}
