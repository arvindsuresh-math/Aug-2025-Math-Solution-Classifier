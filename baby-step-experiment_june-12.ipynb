{
 "cells": [
  {
   "cell_type": "markdown",
   "id": "0deb2294",
   "metadata": {},
   "source": [
    "## Baby-step-experiment"
   ]
  },
  {
   "cell_type": "code",
   "execution_count": 7,
   "id": "454c3e5c",
   "metadata": {},
   "outputs": [],
   "source": [
    "import os\n",
    "import json\n",
    "import random\n",
    "from openai import OpenAI\n",
    "from datasets import load_dataset\n",
    "from tqdm import tqdm\n",
    "from dotenv import load_dotenv"
   ]
  },
  {
   "cell_type": "markdown",
   "id": "4918ba69",
   "metadata": {},
   "source": [
    "### Loading the OpenAI API Key from the `.env` file\n",
    "Before running this notebook, you need an OpenAI API key. You can get one from the [OpenAI website](https://platform.openai.com/signup). To use it securely in this notebook, do the following:\n",
    "1. Create a file named `.env` in the same directory as this notebook.\n",
    "2. Add the following line to the `.env` file, replacing `your_openai_api_key` with your actual OpenAI API key:\n",
    "   ```\n",
    "   OPENAI_API_KEY=your_openai_api_key\n",
    "   ```\n",
    "3. Add `.env` to your `.gitignore` file to prevent it from being committed to version control."
   ]
  },
  {
   "cell_type": "code",
   "execution_count": 8,
   "id": "8c473d35",
   "metadata": {},
   "outputs": [
    {
     "name": "stdout",
     "output_type": "stream",
     "text": [
      "OpenAI client initialized successfully.\n"
     ]
    }
   ],
   "source": [
    "# This line reads the .env file and loads the variables into the environment\n",
    "load_dotenv() \n",
    "\n",
    "#get the key you loaded from the .env file\n",
    "api_key = os.getenv(\"OPENAI_API_KEY\")\n",
    "\n",
    "if api_key:\n",
    "    client = OpenAI(api_key=api_key)\n",
    "    print(\"OpenAI client initialized successfully.\")\n",
    "else:\n",
    "    raise ValueError(\"OpenAI API key not found. Make sure it's set in your .env file.\")"
   ]
  },
  {
   "cell_type": "markdown",
   "id": "664a9eee",
   "metadata": {},
   "source": [
    "### Loading the GSM8K Dataset\n",
    "To start off the baby-steps experiment, let's load the GSM8K dataset from the `datasets` library from Hugging Face. This dataset is a collection of 8,000 grade-school math problems that are designed to be solvable by elementary school students."
   ]
  },
  {
   "cell_type": "code",
   "execution_count": 9,
   "id": "21f1d0cd",
   "metadata": {},
   "outputs": [
    {
     "name": "stdout",
     "output_type": "stream",
     "text": [
      "Loading GSM8K dataset...\n",
      "Dataset loaded.\n"
     ]
    }
   ],
   "source": [
    "# Load the source dataset once\n",
    "print(\"Loading GSM8K dataset...\")\n",
    "gsm8k_train = load_dataset(\"gsm8k\", \"main\")['train']\n",
    "print(\"Dataset loaded.\")"
   ]
  },
  {
   "cell_type": "markdown",
   "id": "06fa2d49",
   "metadata": {},
   "source": []
  },
  {
   "cell_type": "code",
   "execution_count": 10,
   "id": "5383b95d",
   "metadata": {},
   "outputs": [],
   "source": [
    "# Define the taxonomy of unanswerability we will use\n",
    "UNANSWERABILITY_TAXONOMY = {\n",
    "    \"insufficient_information\": \"Make the problem unanswerable by removing a single, critical piece of numerical information. For example, if a problem mentions the cost of apples and oranges, remove the cost of apples.\",\n",
    "    \"contradictory_information\": \"Make the problem unanswerable by adding a piece of information that directly contradicts another statement in the problem. For example, if a problem states there are 10 apples, add a sentence stating there are 12 apples.\",\n",
    "    # \"ambiguous_question\": \"Make the problem unanswerable by making the final question ambiguous. The numbers and facts should remain, but the question itself should be interpretable in two or more ways, making a single answer impossible.\",\n",
    "    # \"no_solution_possible\": \"Make the problem unanswerable by changing a number or condition so the premise becomes mathematically impossible. For example, a baker sells 5 cakes for $20 total, and makes a profit of $25.\",\n",
    "}"
   ]
  },
  {
   "cell_type": "code",
   "execution_count": 11,
   "id": "626dbd62",
   "metadata": {},
   "outputs": [
    {
     "name": "stdout",
     "output_type": "stream",
     "text": [
      "Taxonomy and generation function are defined.\n"
     ]
    }
   ],
   "source": [
    "# The core function that calls the LLM\n",
    "def make_problem_unanswerable(problem_text, modification_type, modification_instruction):\n",
    "    system_prompt = \"You are an expert in curriculum design and mathematical pedagogy. Your task is to subtly modify a solvable math problem to make it unanswerable, for the purpose of testing a student's critical thinking.\"\n",
    "\n",
    "    user_prompt = f\"\"\"\n",
    "    Please rewrite the following math problem.\n",
    "\n",
    "    **Original Problem:**\n",
    "    \"{problem_text}\"\n",
    "\n",
    "    **Modification Type:**\n",
    "    {modification_type}\n",
    "\n",
    "    **Instruction:**\n",
    "    {modification_instruction}\n",
    "\n",
    "    **Your Task:**\n",
    "    1.  Rewrite the problem according to the instruction.\n",
    "    2.  Make the *minimal necessary change*. The problem should still look like a plausible, well-formed math problem.\n",
    "    3.  Do NOT use placeholders like '[missing information]' or '[contradiction]'. The change should be subtle.\n",
    "    4.  Output a JSON object with three keys:\n",
    "        - \"unanswerable_problem\": The full text of the newly generated unanswerable problem.\n",
    "        - \"change_summary\": A brief, one-sentence description of what you changed.\n",
    "        - \"reasoning\": A clear explanation of why the new problem is unanswerable, directly referencing the modification type.\n",
    "\n",
    "    Example JSON output format:\n",
    "    {{\n",
    "      \"unanswerable_problem\": \"A bakery sells chocolate cakes for $18. On a certain day, it sold 10 cakes in total. How many chocolate cakes did it sell?\",\n",
    "      \"change_summary\": \"I removed the price of vanilla cakes and the total revenue.\",\n",
    "      \"reasoning\": \"This problem is now unanswerable due to insufficient_information. It is impossible to determine the number of each type of cake sold without knowing either the price of the other cake or the total revenue.\"\n",
    "    }}\n",
    "    \"\"\"\n",
    "\n",
    "    try:\n",
    "        response = client.chat.completions.create(\n",
    "            model=\"gpt-4-turbo\",  # Recommended model for this task\n",
    "            messages=[\n",
    "                {\"role\": \"system\", \"content\": system_prompt},\n",
    "                {\"role\": \"user\", \"content\": user_prompt}\n",
    "            ],\n",
    "            response_format={\"type\": \"json_object\"},\n",
    "            temperature=0.5, # Lower temperature for more predictable, instruction-following behavior\n",
    "        )\n",
    "        return json.loads(response.choices[0].message.content)\n",
    "    except Exception as e:\n",
    "        print(f\"An API error occurred: {e}\")\n",
    "        return None\n",
    "\n",
    "print(\"Taxonomy and generation function are defined.\")"
   ]
  },
  {
   "cell_type": "code",
   "execution_count": 12,
   "id": "c492c41f",
   "metadata": {},
   "outputs": [
    {
     "name": "stdout",
     "output_type": "stream",
     "text": [
      "Starting generation of 10 samples...\n",
      "Results will be saved to unanswerable_math_dataset.jsonl\n"
     ]
    },
    {
     "name": "stderr",
     "output_type": "stream",
     "text": [
      " 10%|█         | 1/10 [00:00<00:01,  6.06it/s]"
     ]
    },
    {
     "name": "stdout",
     "output_type": "stream",
     "text": [
      "An API error occurred: Error code: 404 - {'error': {'message': 'The model `gpt-4-turbo` does not exist or you do not have access to it.', 'type': 'invalid_request_error', 'param': None, 'code': 'model_not_found'}}\n"
     ]
    },
    {
     "name": "stderr",
     "output_type": "stream",
     "text": [
      " 40%|████      | 4/10 [00:09<00:10,  1.83s/it]"
     ]
    },
    {
     "name": "stdout",
     "output_type": "stream",
     "text": [
      "An API error occurred: Error code: 404 - {'error': {'message': 'The model `gpt-4-turbo` does not exist or you do not have access to it.', 'type': 'invalid_request_error', 'param': None, 'code': 'model_not_found'}}\n",
      "An API error occurred: Error code: 404 - {'error': {'message': 'The model `gpt-4-turbo` does not exist or you do not have access to it.', 'type': 'invalid_request_error', 'param': None, 'code': 'model_not_found'}}\n"
     ]
    },
    {
     "name": "stderr",
     "output_type": "stream",
     "text": [
      " 80%|████████  | 8/10 [00:23<00:04,  2.48s/it]"
     ]
    },
    {
     "name": "stdout",
     "output_type": "stream",
     "text": [
      "An API error occurred: Error code: 404 - {'error': {'message': 'The model `gpt-4-turbo` does not exist or you do not have access to it.', 'type': 'invalid_request_error', 'param': None, 'code': 'model_not_found'}}\n"
     ]
    },
    {
     "name": "stderr",
     "output_type": "stream",
     "text": [
      "100%|██████████| 10/10 [00:30<00:00,  3.06s/it]"
     ]
    },
    {
     "name": "stdout",
     "output_type": "stream",
     "text": [
      "\n",
      "Generation complete.\n"
     ]
    },
    {
     "name": "stderr",
     "output_type": "stream",
     "text": [
      "\n"
     ]
    }
   ],
   "source": [
    "# --- Configuration ---\n",
    "NUM_SAMPLES_TO_GENERATE = 10 # START WITH A VERY SMALL NUMBER!\n",
    "OUTPUT_FILE = \"unanswerable_math_dataset.jsonl\"\n",
    "\n",
    "# Get a random subset of the data to work with\n",
    "indices = random.sample(range(len(gsm8k_train)), NUM_SAMPLES_TO_GENERATE)\n",
    "\n",
    "print(f\"Starting generation of {NUM_SAMPLES_TO_GENERATE} samples...\")\n",
    "print(f\"Results will be saved to {OUTPUT_FILE}\")\n",
    "\n",
    "# Using 'w' mode to clear the file on each new run\n",
    "with open(OUTPUT_FILE, 'w') as f:\n",
    "    # Using tqdm for a progress bar, which works great in notebooks\n",
    "    for i in tqdm(indices):\n",
    "        original_problem = gsm8k_train[i]['question']\n",
    "        mod_type_key, mod_instruction = random.choice(list(UNANSWERABILITY_TAXONOMY.items()))\n",
    "        \n",
    "        generated_data = make_problem_unanswerable(original_problem, mod_type_key, mod_instruction)\n",
    "        \n",
    "        if generated_data:\n",
    "            final_record = {\n",
    "                \"original_problem\": original_problem,\n",
    "                \"unanswerable_problem\": generated_data.get(\"unanswerable_problem\"),\n",
    "                \"modification_type\": mod_type_key,\n",
    "                \"change_summary\": generated_data.get(\"change_summary\"),\n",
    "                \"reasoning\": generated_data.get(\"reasoning\"),\n",
    "            }\n",
    "            f.write(json.dumps(final_record) + \"\\n\")\n",
    "\n",
    "print(f\"\\nGeneration complete.\")"
   ]
  },
  {
   "cell_type": "markdown",
   "id": "e084f198",
   "metadata": {},
   "source": [
    "That worked, but I want to now experiment a little with different models from OpenAI. I also don't know what's up with the weird phenomenon where 6 generations happened correctly but 4 of them failed. "
   ]
  },
  {
   "cell_type": "code",
   "execution_count": 16,
   "id": "253e3ac7",
   "metadata": {},
   "outputs": [
    {
     "name": "stdout",
     "output_type": "stream",
     "text": [
      "Taxonomy and generation function are defined.\n"
     ]
    }
   ],
   "source": [
    "# The core function that calls the LLM\n",
    "def make_problem_unanswerable(problem_text, modification_type, modification_instruction, model):\n",
    "    system_prompt = \"You are an expert in curriculum design and mathematical pedagogy. Your task is to subtly modify a solvable math problem to make it unanswerable, for the purpose of testing a student's critical thinking.\"\n",
    "\n",
    "    user_prompt = f\"\"\"\n",
    "    Please rewrite the following math problem.\n",
    "\n",
    "    **Original Problem:**\n",
    "    \"{problem_text}\"\n",
    "\n",
    "    **Modification Type:**\n",
    "    {modification_type}\n",
    "\n",
    "    **Instruction:**\n",
    "    {modification_instruction}\n",
    "\n",
    "    **Your Task:**\n",
    "    1.  Rewrite the problem according to the instruction.\n",
    "    2.  Make the *minimal necessary change*. The problem should still look like a plausible, well-formed math problem.\n",
    "    3.  Do NOT use placeholders like '[missing information]' or '[contradiction]'. The change should be subtle.\n",
    "    4.  Output a JSON object with three keys:\n",
    "        - \"unanswerable_problem\": The full text of the newly generated unanswerable problem.\n",
    "        - \"change_summary\": A brief, one-sentence description of what you changed.\n",
    "        - \"reasoning\": A clear explanation of why the new problem is unanswerable, directly referencing the modification type.\n",
    "\n",
    "    Example JSON output format:\n",
    "    {{\n",
    "      \"unanswerable_problem\": \"A bakery sells chocolate cakes for $18. On a certain day, it sold 10 cakes in total. How many chocolate cakes did it sell?\",\n",
    "      \"change_summary\": \"I removed the price of vanilla cakes and the total revenue.\",\n",
    "      \"reasoning\": \"This problem is now unanswerable due to insufficient_information. It is impossible to determine the number of each type of cake sold without knowing either the price of the other cake or the total revenue.\"\n",
    "    }}\n",
    "    \"\"\"\n",
    "\n",
    "    try:\n",
    "        response = client.chat.completions.create(\n",
    "            model=model,  # Recommended model for this task\n",
    "            messages=[\n",
    "                {\"role\": \"system\", \"content\": system_prompt},\n",
    "                {\"role\": \"user\", \"content\": user_prompt}\n",
    "            ],\n",
    "            response_format={\"type\": \"json_object\"},\n",
    "            temperature=0.5, # Lower temperature for more predictable, instruction-following behavior\n",
    "        )\n",
    "        return json.loads(response.choices[0].message.content)\n",
    "    except Exception as e:\n",
    "        print(f\"An API error occurred: {e}\")\n",
    "        return None\n",
    "\n",
    "print(\"Taxonomy and generation function are defined.\")"
   ]
  },
  {
   "cell_type": "code",
   "execution_count": null,
   "id": "c230515e",
   "metadata": {},
   "outputs": [],
   "source": [
    "MODIFICATION_PAIRS = list(UNANSWERABILITY_TAXONOMY.items())\n",
    "\n",
    "def run_baby_step_experiment(model, num_samples=10):\n",
    "    \"\"\"\n",
    "    Run a baby-step experiment to generate unanswerable math problems.\n",
    "    \n",
    "    Args:\n",
    "        model (str): The OpenAI model to use for generation.\n",
    "        savepath (str): Path to save the generated dataset.\n",
    "        num_samples (int): Number of samples to generate.\n",
    "    \"\"\"\n",
    "    # Set a seed for reproducibility\n",
    "    random.seed(42)\n",
    "\n",
    "    # Get a random subset of the data to work with\n",
    "    indices = random.sample(range(len(gsm8k_train)), num_samples)\n",
    "\n",
    "    print(f\"Starting generation of {num_samples} samples...\")\n",
    "\n",
    "    with open(f'baby-step-outputs/baby-step-outputs_{model}.jsonl', 'w') as f:\n",
    "        # Using tqdm for a progress bar, which works great in notebooks\n",
    "        for i, index in tqdm(enumerate(indices)):\n",
    "            original_problem = gsm8k_train[index]['question']\n",
    "            if i % 2 == 0:\n",
    "                mod_type_key, mod_instruction = MODIFICATION_PAIRS[0]\n",
    "            else:\n",
    "                mod_type_key, mod_instruction = MODIFICATION_PAIRS[1]\n",
    "\n",
    "            generated_data = make_problem_unanswerable(original_problem, mod_type_key, mod_instruction, model)\n",
    "            \n",
    "            if generated_data:\n",
    "                final_record = {\n",
    "                    \"original_problem\": original_problem,\n",
    "                    \"unanswerable_problem\": generated_data.get(\"unanswerable_problem\"),\n",
    "                    \"modification_type\": mod_type_key,\n",
    "                    \"change_summary\": generated_data.get(\"change_summary\"),\n",
    "                    \"reasoning\": generated_data.get(\"reasoning\"),\n",
    "                }\n",
    "                f.write(json.dumps(final_record) + \"\\n\")\n",
    "\n",
    "    print(f\"\\nGeneration complete.\")"
   ]
  },
  {
   "cell_type": "code",
   "execution_count": 18,
   "id": "e2946a80",
   "metadata": {},
   "outputs": [
    {
     "name": "stdout",
     "output_type": "stream",
     "text": [
      "Starting generation of 10 samples...\n"
     ]
    },
    {
     "name": "stderr",
     "output_type": "stream",
     "text": [
      "10it [00:45,  4.57s/it]"
     ]
    },
    {
     "name": "stdout",
     "output_type": "stream",
     "text": [
      "\n",
      "Generation complete.\n"
     ]
    },
    {
     "name": "stderr",
     "output_type": "stream",
     "text": [
      "\n"
     ]
    }
   ],
   "source": [
    "run_baby_step_experiment(model=\"gpt-4-turbo\", num_samples=10)  "
   ]
  },
  {
   "cell_type": "code",
   "execution_count": null,
   "id": "8213f900",
   "metadata": {},
   "outputs": [],
   "source": [
    "NUM_SAMPLES = 10\n",
    "models_to_test = [\"gpt-4o\",\n",
    "                  \"gpt-4.1-mini\",\n",
    "                  \"o3-mini\",\n",
    "                  \"o4-mini\"]"
   ]
  },
  {
   "cell_type": "code",
   "execution_count": 20,
   "id": "ed434722",
   "metadata": {},
   "outputs": [
    {
     "name": "stdout",
     "output_type": "stream",
     "text": [
      "\n",
      "Starting generation of 10 samples...\n"
     ]
    },
    {
     "name": "stderr",
     "output_type": "stream",
     "text": [
      "10it [00:27,  2.79s/it]\n"
     ]
    },
    {
     "name": "stdout",
     "output_type": "stream",
     "text": [
      "\n",
      "Generation complete.\n",
      "\n",
      "\n",
      "Starting generation of 10 samples...\n"
     ]
    },
    {
     "name": "stderr",
     "output_type": "stream",
     "text": [
      "10it [00:29,  2.97s/it]\n"
     ]
    },
    {
     "name": "stdout",
     "output_type": "stream",
     "text": [
      "\n",
      "Generation complete.\n",
      "\n",
      "\n",
      "Starting generation of 10 samples...\n"
     ]
    },
    {
     "name": "stderr",
     "output_type": "stream",
     "text": [
      "2it [00:00, 10.76it/s]"
     ]
    },
    {
     "name": "stdout",
     "output_type": "stream",
     "text": [
      "An API error occurred: Error code: 400 - {'error': {'message': \"Unsupported parameter: 'temperature' is not supported with this model.\", 'type': 'invalid_request_error', 'param': 'temperature', 'code': 'unsupported_parameter'}}\n",
      "An API error occurred: Error code: 400 - {'error': {'message': \"Unsupported parameter: 'temperature' is not supported with this model.\", 'type': 'invalid_request_error', 'param': 'temperature', 'code': 'unsupported_parameter'}}\n",
      "An API error occurred: Error code: 400 - {'error': {'message': \"Unsupported parameter: 'temperature' is not supported with this model.\", 'type': 'invalid_request_error', 'param': 'temperature', 'code': 'unsupported_parameter'}}\n"
     ]
    },
    {
     "name": "stderr",
     "output_type": "stream",
     "text": [
      "4it [00:00,  9.98it/s]"
     ]
    },
    {
     "name": "stdout",
     "output_type": "stream",
     "text": [
      "An API error occurred: Error code: 400 - {'error': {'message': \"Unsupported parameter: 'temperature' is not supported with this model.\", 'type': 'invalid_request_error', 'param': 'temperature', 'code': 'unsupported_parameter'}}\n"
     ]
    },
    {
     "name": "stderr",
     "output_type": "stream",
     "text": [
      "6it [00:00, 10.45it/s]"
     ]
    },
    {
     "name": "stdout",
     "output_type": "stream",
     "text": [
      "An API error occurred: Error code: 400 - {'error': {'message': \"Unsupported parameter: 'temperature' is not supported with this model.\", 'type': 'invalid_request_error', 'param': 'temperature', 'code': 'unsupported_parameter'}}\n",
      "An API error occurred: Error code: 400 - {'error': {'message': \"Unsupported parameter: 'temperature' is not supported with this model.\", 'type': 'invalid_request_error', 'param': 'temperature', 'code': 'unsupported_parameter'}}\n",
      "An API error occurred: Error code: 400 - {'error': {'message': \"Unsupported parameter: 'temperature' is not supported with this model.\", 'type': 'invalid_request_error', 'param': 'temperature', 'code': 'unsupported_parameter'}}\n"
     ]
    },
    {
     "name": "stderr",
     "output_type": "stream",
     "text": [
      "8it [00:00,  9.25it/s]"
     ]
    },
    {
     "name": "stdout",
     "output_type": "stream",
     "text": [
      "An API error occurred: Error code: 400 - {'error': {'message': \"Unsupported parameter: 'temperature' is not supported with this model.\", 'type': 'invalid_request_error', 'param': 'temperature', 'code': 'unsupported_parameter'}}\n"
     ]
    },
    {
     "name": "stderr",
     "output_type": "stream",
     "text": [
      "10it [00:01,  9.91it/s]\n"
     ]
    },
    {
     "name": "stdout",
     "output_type": "stream",
     "text": [
      "An API error occurred: Error code: 400 - {'error': {'message': \"Unsupported parameter: 'temperature' is not supported with this model.\", 'type': 'invalid_request_error', 'param': 'temperature', 'code': 'unsupported_parameter'}}\n",
      "An API error occurred: Error code: 400 - {'error': {'message': \"Unsupported parameter: 'temperature' is not supported with this model.\", 'type': 'invalid_request_error', 'param': 'temperature', 'code': 'unsupported_parameter'}}\n",
      "\n",
      "Generation complete.\n",
      "\n",
      "\n",
      "Starting generation of 10 samples...\n"
     ]
    },
    {
     "name": "stderr",
     "output_type": "stream",
     "text": [
      "2it [00:00,  7.76it/s]"
     ]
    },
    {
     "name": "stdout",
     "output_type": "stream",
     "text": [
      "An API error occurred: Error code: 404 - {'error': {'message': 'The model `o4-small` does not exist or you do not have access to it.', 'type': 'invalid_request_error', 'param': None, 'code': 'model_not_found'}}\n",
      "An API error occurred: Error code: 404 - {'error': {'message': 'The model `o4-small` does not exist or you do not have access to it.', 'type': 'invalid_request_error', 'param': None, 'code': 'model_not_found'}}\n"
     ]
    },
    {
     "name": "stderr",
     "output_type": "stream",
     "text": [
      "5it [00:00,  9.81it/s]"
     ]
    },
    {
     "name": "stdout",
     "output_type": "stream",
     "text": [
      "An API error occurred: Error code: 404 - {'error': {'message': 'The model `o4-small` does not exist or you do not have access to it.', 'type': 'invalid_request_error', 'param': None, 'code': 'model_not_found'}}\n",
      "An API error occurred: Error code: 404 - {'error': {'message': 'The model `o4-small` does not exist or you do not have access to it.', 'type': 'invalid_request_error', 'param': None, 'code': 'model_not_found'}}\n",
      "An API error occurred: Error code: 404 - {'error': {'message': 'The model `o4-small` does not exist or you do not have access to it.', 'type': 'invalid_request_error', 'param': None, 'code': 'model_not_found'}}\n",
      "An API error occurred: Error code: 404 - {'error': {'message': 'The model `o4-small` does not exist or you do not have access to it.', 'type': 'invalid_request_error', 'param': None, 'code': 'model_not_found'}}\n"
     ]
    },
    {
     "name": "stderr",
     "output_type": "stream",
     "text": [
      "9it [00:01,  8.07it/s]"
     ]
    },
    {
     "name": "stdout",
     "output_type": "stream",
     "text": [
      "An API error occurred: Error code: 404 - {'error': {'message': 'The model `o4-small` does not exist or you do not have access to it.', 'type': 'invalid_request_error', 'param': None, 'code': 'model_not_found'}}\n",
      "An API error occurred: Error code: 404 - {'error': {'message': 'The model `o4-small` does not exist or you do not have access to it.', 'type': 'invalid_request_error', 'param': None, 'code': 'model_not_found'}}\n",
      "An API error occurred: Error code: 404 - {'error': {'message': 'The model `o4-small` does not exist or you do not have access to it.', 'type': 'invalid_request_error', 'param': None, 'code': 'model_not_found'}}\n"
     ]
    },
    {
     "name": "stderr",
     "output_type": "stream",
     "text": [
      "10it [00:01,  8.39it/s]"
     ]
    },
    {
     "name": "stdout",
     "output_type": "stream",
     "text": [
      "An API error occurred: Error code: 404 - {'error': {'message': 'The model `o4-small` does not exist or you do not have access to it.', 'type': 'invalid_request_error', 'param': None, 'code': 'model_not_found'}}\n",
      "\n",
      "Generation complete.\n",
      "\n"
     ]
    },
    {
     "name": "stderr",
     "output_type": "stream",
     "text": [
      "\n"
     ]
    }
   ],
   "source": [
    "for model in models_to_test:\n",
    "    print()\n",
    "    run_baby_step_experiment(model=model, num_samples=NUM_SAMPLES)\n",
    "    print()"
   ]
  },
  {
   "cell_type": "code",
   "execution_count": null,
   "id": "4f753ee4",
   "metadata": {},
   "outputs": [
    {
     "name": "stdout",
     "output_type": "stream",
     "text": [
      "{'gpt-4-turbo': [{'original_problem': 'For every 12 cans you recycle, you receive $0.50, and for every 5 kilograms of newspapers, you receive $1.50. If your family collected 144 cans and 20 kilograms of newspapers, how much money would you receive?', 'unanswerable_problem': 'For every 12 cans you recycle, you receive $0.50. If your family collected 144 cans and 20 kilograms of newspapers, how much money would you receive?', 'modification_type': 'insufficient_information', 'change_summary': 'I removed the payment information for recycling newspapers.', 'reasoning': 'This problem is now unanswerable due to insufficient information. Without knowing the amount of money received for each kilogram of newspapers recycled, it is impossible to calculate the total amount of money received from recycling both cans and newspapers.'}, {'original_problem': 'Betty picked 16 strawberries. Matthew picked 20 more strawberries than Betty and twice as many as Natalie. They used their strawberries to make jam. One jar of jam used 7 strawberries and they sold each jar at $4. How much money were they able to make from the strawberries they picked?', 'unanswerable_problem': 'Betty picked 16 strawberries. Matthew picked 20 more strawberries than Betty and twice as many as Natalie, totaling 40 strawberries. They used their strawberries to make jam. One jar of jam used 7 strawberries and they sold each jar at $4. How much money were they able to make from the strawberries they picked?', 'modification_type': 'contradictory_information', 'change_summary': 'Added a statement that Matthew picked a total of 40 strawberries.', 'reasoning': \"The problem becomes unanswerable due to contradictory information. Initially, it is stated that Matthew picked 20 more strawberries than Betty, which would be 36 strawberries, and twice as many as Natalie, implying a different calculation dependent on Natalie's count. The direct statement that Matthew picked 40 strawberries contradicts the calculations based on the initial conditions, making it impossible to determine the actual number of strawberries each person picked.\"}, {'original_problem': 'Jack has a stack of books that is 12 inches thick. He knows from experience that 80 pages is one inch thick. If he has 6 books, how many pages is each one on average?', 'unanswerable_problem': 'Jack has a stack of books that is 12 inches thick. He knows from experience that 80 pages is one inch thick. How many pages is each book on average?', 'modification_type': 'insufficient_information', 'change_summary': 'Removed the number of books Jack has.', 'reasoning': 'This problem is now unanswerable due to insufficient information. Without knowing the total number of books Jack has, it is impossible to determine the average number of pages per book.'}, {'original_problem': \"James dumps his whole collection of 500 Legos on the floor and starts building a castle out of them.  He uses half the pieces before finishing and is told to put the rest away.  He puts all of the leftover pieces back in the box they came from, except for 5 missing pieces that he can't find.  How many Legos are in the box at the end?\", 'unanswerable_problem': \"James dumps his whole collection of 500 Legos on the floor and starts building a castle out of them. He uses half the pieces before finishing and is told to put the rest away. He puts all of the leftover pieces back in the box they came from, except for 5 missing pieces that he can't find. After counting, James realizes there are only 240 Legos in the box. How many Legos are in the box at the end?\", 'modification_type': 'contradictory_information', 'change_summary': 'Added a statement that James counts 240 Legos in the box, contradicting the earlier calculation of leftover pieces.', 'reasoning': 'This problem becomes unanswerable because of contradictory information. Initially, the problem suggests that James should have 245 Legos left (half of 500 minus 5 missing), but then states there are only 240 Legos in the box. These two pieces of information cannot both be true, making it impossible to definitively answer how many Legos are in the box.'}, {'original_problem': 'Ines had $20 in her purse. She bought 3 pounds of peaches, which are $2 per pound at the local farmers’ market. How much did she have left?', 'unanswerable_problem': 'Ines had $20 in her purse. She bought 3 pounds of peaches at the local farmers’ market. How much did she have left?', 'modification_type': 'insufficient_information', 'change_summary': 'I removed the price per pound of the peaches.', 'reasoning': 'This problem is now unanswerable due to insufficient_information. Without knowing the cost per pound of the peaches, it is impossible to calculate the total amount spent on them and thus determine how much money Ines had left.'}, {'original_problem': 'Aaron pays his actuary membership fees each year. The membership fee increases yearly by $10. If he pays $80 in the first year, how much does his membership cost, in dollars, in the sixth year?', 'unanswerable_problem': 'Aaron pays his actuary membership fees each year. The membership fee increases yearly by $10. If he pays $80 in the first year, how much does his membership cost, in dollars, in the sixth year? Note that the membership fee remains constant every year.', 'modification_type': 'contradictory_information', 'change_summary': 'Added a statement that the membership fee remains constant every year.', 'reasoning': 'The problem is now unanswerable due to contradictory information. The original problem states that the membership fee increases yearly by $10, but the added statement claims that the fee remains constant. These two statements cannot both be true, making it impossible to calculate the fee for the sixth year.'}, {'original_problem': 'Joseph invested $1000 into a hedge fund. The fund promised a yearly interest rate of 10%. If he deposited an additional $100 every month into the account to add to his initial investment of $1000, how much money will he have in the fund after two years?', 'unanswerable_problem': 'Joseph invested $1000 into a hedge fund. The fund promised a yearly interest rate of 10%. If he deposited an additional $100 every month into the account to add to his initial investment, how much money will he have in the fund after two years?', 'modification_type': 'insufficient_information', 'change_summary': 'I removed the specification of the initial investment amount.', 'reasoning': 'This problem is now unanswerable due to insufficient information. Without the specific amount of the initial investment, it is impossible to calculate the total amount in the fund after two years, especially considering the monthly additions and interest calculations.'}, {'original_problem': 'The price of buying a wooden toy at the new Craftee And Best store is $20, and the cost of buying a hat is $10. If Kendra went to the shop with a $100 bill and bought two wooden toys and three hats, calculate the change she received.', 'unanswerable_problem': 'The price of buying a wooden toy at the new Craftee And Best store is $20, and the cost of buying a hat is $10. If Kendra went to the shop with a $100 bill and bought two wooden toys and three hats, calculate the change she received. Kendra used a $50 bill for her purchases.', 'modification_type': 'contradictory_information', 'change_summary': 'Added a statement that Kendra used a $50 bill, contradicting the earlier statement of her using a $100 bill.', 'reasoning': 'This problem is now unanswerable due to contradictory information. The original problem states that Kendra used a $100 bill, but the added statement claims she used a $50 bill. These two pieces of information directly conflict, making it impossible to determine the actual amount of money Kendra used for her purchases.'}, {'original_problem': \"James is trying to create a new breed of kittens with extra-long tails. Each generation of kittens he breeds has a tail 25% longer than the last generation. If the first generation has tails 16 cm long, how long are the third generation's tails?\", 'unanswerable_problem': \"James is trying to create a new breed of kittens with extra-long tails. Each generation of kittens he breeds has a tail 25% longer than the last generation. How long are the third generation's tails?\", 'modification_type': 'insufficient_information', 'change_summary': 'I removed the initial tail length of the first generation of kittens.', 'reasoning': 'This problem is now unanswerable due to insufficient information. Without knowing the initial tail length of the first generation of kittens, it is impossible to calculate the tail lengths of subsequent generations.'}, {'original_problem': 'The Rotary Club is holding its annual fundraising Omelet Breakfast, with tickets sold in advance. The tickets come in different price levels, for young children, older children, adults, and seniors. This year they sold 53 small children tickets, 35 older children tickets, 75 adult tickets, and 37 senior tickets. To figure out how many eggs they need to buy, the club estimates that small children can eat a half omelet, older children can eat a whole omelet, adults will eat two omelets, and seniors will eat one and a half omelets. Just to be on the safe side, they get enough eggs to make 25 extra omelets. If they use 2 eggs for each omelet, how many eggs will they need to buy?', 'unanswerable_problem': 'The Rotary Club is holding its annual fundraising Omelet Breakfast, with tickets sold in advance. The tickets come in different price levels, for young children, older children, adults, and seniors. This year they sold 53 small children tickets, 35 older children tickets, 75 adult tickets, and 37 senior tickets. To figure out how many eggs they need to buy, the club estimates that small children can eat a half omelet, older children can eat a whole omelet, adults will eat two omelets, and seniors will eat one omelet. Just to be on the safe side, they get enough eggs to make 25 extra omelets. If they use 2 eggs for each omelet, how many eggs will they need to buy?', 'modification_type': 'contradictory_information', 'change_summary': 'Changed the number of omelets seniors eat from one and a half to one.', 'reasoning': 'This problem is now unanswerable due to contradictory_information. The original problem states that seniors eat one and a half omelets each, but the modified problem contradicts this by stating seniors eat only one omelet each. This contradiction means the total number of omelets needed cannot be calculated accurately.'}], 'gpt-4o': [{'original_problem': 'For every 12 cans you recycle, you receive $0.50, and for every 5 kilograms of newspapers, you receive $1.50. If your family collected 144 cans and 20 kilograms of newspapers, how much money would you receive?', 'unanswerable_problem': 'For every 12 cans you recycle, you receive $0.50, and for every 5 kilograms of newspapers, you receive $1.50. If your family collected 144 cans and some kilograms of newspapers, how much money would you receive?', 'modification_type': 'insufficient_information', 'change_summary': 'I removed the specific quantity of kilograms of newspapers collected.', 'reasoning': 'This problem is now unanswerable due to insufficient_information. Without knowing the exact number of kilograms of newspapers collected, it is impossible to calculate the total amount of money received from recycling newspapers.'}, {'original_problem': 'Betty picked 16 strawberries. Matthew picked 20 more strawberries than Betty and twice as many as Natalie. They used their strawberries to make jam. One jar of jam used 7 strawberries and they sold each jar at $4. How much money were they able to make from the strawberries they picked?', 'unanswerable_problem': \"Betty picked 16 strawberries. Matthew picked 20 more strawberries than Betty and twice as many as Natalie. However, it's also stated that Matthew picked 10 fewer strawberries than Betty. They used their strawberries to make jam. One jar of jam used 7 strawberries and they sold each jar at $4. How much money were they able to make from the strawberries they picked?\", 'modification_type': 'contradictory_information', 'change_summary': 'I added a statement that contradicts the number of strawberries Matthew picked.', 'reasoning': 'This problem is now unanswerable due to contradictory_information. The problem states two different amounts for the number of strawberries Matthew picked, making it impossible to determine the total number of strawberries and, consequently, the number of jars of jam and the total revenue.'}, {'original_problem': 'Jack has a stack of books that is 12 inches thick. He knows from experience that 80 pages is one inch thick. If he has 6 books, how many pages is each one on average?', 'unanswerable_problem': 'Jack has a stack of books that is 12 inches thick. He knows from experience that 80 pages is one inch thick. How many pages is each book on average?', 'modification_type': 'insufficient_information', 'change_summary': 'I removed the number of books Jack has.', 'reasoning': 'This problem is now unanswerable due to insufficient_information. Without knowing the number of books, it is impossible to calculate the average number of pages per book.'}, {'original_problem': \"James dumps his whole collection of 500 Legos on the floor and starts building a castle out of them.  He uses half the pieces before finishing and is told to put the rest away.  He puts all of the leftover pieces back in the box they came from, except for 5 missing pieces that he can't find.  How many Legos are in the box at the end?\", 'unanswerable_problem': \"James dumps his whole collection of 500 Legos on the floor and starts building a castle out of them. He uses half the pieces before finishing and is told to put the rest away. He puts all of the leftover pieces back in the box they came from, except for 5 missing pieces that he can't find. However, he also finds 10 extra pieces that he didn’t have before. How many Legos are in the box at the end?\", 'modification_type': 'contradictory_information', 'change_summary': \"I added a statement that James finds 10 extra pieces he didn't have before.\", 'reasoning': 'The problem is unanswerable because the statement about finding 10 extra pieces contradicts the initial total of 500 Legos, making it unclear how many Legos should be in the box.'}, {'original_problem': 'Ines had $20 in her purse. She bought 3 pounds of peaches, which are $2 per pound at the local farmers’ market. How much did she have left?', 'unanswerable_problem': 'Ines had $20 in her purse. She bought 3 pounds of peaches at the local farmers’ market. How much did she have left?', 'modification_type': 'insufficient_information', 'change_summary': 'I removed the price per pound of the peaches.', 'reasoning': 'This problem is now unanswerable due to insufficient_information. Without knowing the price per pound of the peaches, it is impossible to calculate how much money Ines spent, and therefore, how much she has left.'}, {'original_problem': 'Aaron pays his actuary membership fees each year. The membership fee increases yearly by $10. If he pays $80 in the first year, how much does his membership cost, in dollars, in the sixth year?', 'unanswerable_problem': 'Aaron pays his actuary membership fees each year. The membership fee increases yearly by $10. If he pays $80 in the first year, and the fee decreases by $5 each year, how much does his membership cost, in dollars, in the sixth year?', 'modification_type': 'contradictory_information', 'change_summary': 'I added a statement that the fee decreases by $5 each year, which contradicts the original statement of a $10 increase.', 'reasoning': 'The problem is unanswerable because it contains contradictory_information; it states both that the membership fee increases by $10 each year and decreases by $5 each year, making it impossible to determine the actual fee in the sixth year.'}, {'original_problem': 'Joseph invested $1000 into a hedge fund. The fund promised a yearly interest rate of 10%. If he deposited an additional $100 every month into the account to add to his initial investment of $1000, how much money will he have in the fund after two years?', 'unanswerable_problem': 'Joseph invested $1000 into a hedge fund. The fund promised a yearly interest rate of 10%. If he deposited an additional $100 every month into the account, how much money will he have in the fund after two years?', 'modification_type': 'insufficient_information', 'change_summary': 'I removed the initial investment amount of $1000.', 'reasoning': 'This problem is now unanswerable due to insufficient_information. Without knowing the initial investment amount, it is impossible to calculate the total amount in the fund after two years, as the interest and compounded value depend on this initial sum.'}, {'original_problem': 'The price of buying a wooden toy at the new Craftee And Best store is $20, and the cost of buying a hat is $10. If Kendra went to the shop with a $100 bill and bought two wooden toys and three hats, calculate the change she received.', 'unanswerable_problem': 'The price of buying a wooden toy at the new Craftee And Best store is $20, and the cost of buying a hat is $10. If Kendra went to the shop with a $100 bill and bought two wooden toys and three hats, calculate the change she received. However, the store had a special discount day where the price of each wooden toy was $15.', 'modification_type': 'contradictory_information', 'change_summary': 'I added a contradictory statement that the price of each wooden toy was $15 due to a special discount.', 'reasoning': \"The problem is now unanswerable because it contains contradictory_information about the price of the wooden toys. One statement says the price is $20, while another claims it is $15 due to a discount. Without knowing which price is correct, it's impossible to calculate the change Kendra received.\"}, {'original_problem': \"James is trying to create a new breed of kittens with extra-long tails. Each generation of kittens he breeds has a tail 25% longer than the last generation. If the first generation has tails 16 cm long, how long are the third generation's tails?\", 'unanswerable_problem': 'James is trying to create a new breed of kittens with extra-long tails. Each generation of kittens he breeds has a tail 25% longer than the last generation. If the first generation has tails 16 cm long, how long are the tails of the next generation?', 'modification_type': 'insufficient_information', 'change_summary': 'I removed the information about the number of generations to calculate.', 'reasoning': 'This problem is now unanswerable due to insufficient_information. Without knowing how many generations are needed to reach, it is impossible to calculate the length of the tails for the specified generation.'}, {'original_problem': 'The Rotary Club is holding its annual fundraising Omelet Breakfast, with tickets sold in advance. The tickets come in different price levels, for young children, older children, adults, and seniors. This year they sold 53 small children tickets, 35 older children tickets, 75 adult tickets, and 37 senior tickets. To figure out how many eggs they need to buy, the club estimates that small children can eat a half omelet, older children can eat a whole omelet, adults will eat two omelets, and seniors will eat one and a half omelets. Just to be on the safe side, they get enough eggs to make 25 extra omelets. If they use 2 eggs for each omelet, how many eggs will they need to buy?', 'unanswerable_problem': 'The Rotary Club is holding its annual fundraising Omelet Breakfast, with tickets sold in advance. The tickets come in different price levels, for young children, older children, adults, and seniors. This year they sold 53 small children tickets, 35 older children tickets, 75 adult tickets, and 37 senior tickets. To figure out how many eggs they need to buy, the club estimates that small children can eat a half omelet, older children can eat a whole omelet, adults will eat two omelets, and seniors will eat one and a half omelets. Just to be on the safe side, they get enough eggs to make 25 extra omelets. If they use 2 eggs for each omelet, how many eggs will they need to buy? Additionally, they estimate that seniors will eat two omelets each.', 'modification_type': 'contradictory_information', 'change_summary': 'I added a statement that seniors will eat two omelets each, contradicting the earlier statement of one and a half omelets.', 'reasoning': 'This problem is now unanswerable due to contradictory_information. The number of omelets that seniors are supposed to eat is stated as both one and a half and two, making it impossible to calculate the correct number of eggs needed.'}], 'gpt-4.1-mini': [{'original_problem': 'For every 12 cans you recycle, you receive $0.50, and for every 5 kilograms of newspapers, you receive $1.50. If your family collected 144 cans and 20 kilograms of newspapers, how much money would you receive?', 'unanswerable_problem': 'For every 12 cans you recycle, you receive $0.50. If your family collected 144 cans and 20 kilograms of newspapers, how much money would you receive?', 'modification_type': 'insufficient_information', 'change_summary': 'I removed the payment rate for newspapers.', 'reasoning': 'This problem is now unanswerable due to insufficient_information. Without knowing how much money is received per kilogram of newspapers, it is impossible to calculate the total amount of money the family would receive.'}, {'original_problem': 'Betty picked 16 strawberries. Matthew picked 20 more strawberries than Betty and twice as many as Natalie. They used their strawberries to make jam. One jar of jam used 7 strawberries and they sold each jar at $4. How much money were they able to make from the strawberries they picked?', 'unanswerable_problem': 'Betty picked 16 strawberries. Matthew picked 20 more strawberries than Betty and twice as many as Natalie. However, Natalie picked 25 strawberries. They used their strawberries to make jam. One jar of jam used 7 strawberries and they sold each jar at $4. How much money were they able to make from the strawberries they picked?', 'modification_type': 'contradictory_information', 'change_summary': 'I added that Natalie picked 25 strawberries, contradicting the earlier relationship about Matthew picking twice as many as Natalie.', 'reasoning': \"This problem is now unanswerable due to contradictory_information. The statement that Matthew picked twice as many strawberries as Natalie conflicts with the information that Natalie picked 25 strawberries and Matthew picked 20 more than Betty (16), which would make Matthew's count inconsistent with twice Natalie's amount, making it impossible to determine the exact number of strawberries each picked.\"}, {'original_problem': 'Jack has a stack of books that is 12 inches thick. He knows from experience that 80 pages is one inch thick. If he has 6 books, how many pages is each one on average?', 'unanswerable_problem': 'Jack has a stack of books that is 12 inches thick. He knows from experience that 80 pages is one inch thick. If he has 6 books, how many pages is each one on average?', 'modification_type': 'insufficient_information', 'change_summary': 'I removed the information about the thickness of the entire stack of books.', 'reasoning': 'This problem is now unanswerable due to insufficient_information. Without knowing the total thickness of the stack, it is impossible to calculate the total number of pages and therefore the average number of pages per book.'}, {'original_problem': \"James dumps his whole collection of 500 Legos on the floor and starts building a castle out of them.  He uses half the pieces before finishing and is told to put the rest away.  He puts all of the leftover pieces back in the box they came from, except for 5 missing pieces that he can't find.  How many Legos are in the box at the end?\", 'unanswerable_problem': \"James dumps his whole collection of 500 Legos on the floor and starts building a castle out of them. He uses half the pieces before finishing and is told to put the rest away. He puts all of the leftover pieces back in the box they came from, except for 5 missing pieces that he can't find. However, when he counts the pieces in the box, he finds there are 260 Legos inside. How many Legos are in the box at the end?\", 'modification_type': 'contradictory_information', 'change_summary': 'I added that the box contains 260 Legos after putting leftover pieces away, contradicting the expected count.', 'reasoning': 'This problem is unanswerable due to contradictory_information. The statement that the box contains 260 pieces conflicts with the earlier details about how many pieces should remain, making it impossible to determine the correct number of Legos in the box.'}, {'original_problem': 'Ines had $20 in her purse. She bought 3 pounds of peaches, which are $2 per pound at the local farmers’ market. How much did she have left?', 'unanswerable_problem': 'Ines had $20 in her purse. She bought 3 pounds of peaches at the local farmers’ market. How much did she have left?', 'modification_type': 'insufficient_information', 'change_summary': 'I removed the cost per pound of peaches.', 'reasoning': 'This problem is now unanswerable due to insufficient_information. Without knowing the price per pound of peaches, it is impossible to calculate the total amount spent and therefore how much money Ines has left.'}, {'original_problem': 'Aaron pays his actuary membership fees each year. The membership fee increases yearly by $10. If he pays $80 in the first year, how much does his membership cost, in dollars, in the sixth year?', 'unanswerable_problem': 'Aaron pays his actuary membership fees each year. The membership fee increases yearly by $10. If he pays $80 in the first year, and the membership fee in the sixth year is $75, how much does his membership cost, in dollars, in the sixth year?', 'modification_type': 'contradictory_information', 'change_summary': 'I added a sentence stating the membership fee in the sixth year is $75, contradicting the increasing fee pattern.', 'reasoning': 'This problem is now unanswerable due to contradictory_information. The statement that the membership fee increases by $10 each year starting at $80 in the first year conflicts with the claim that the fee in the sixth year is $75, making it impossible to determine a consistent fee for the sixth year.'}, {'original_problem': 'Joseph invested $1000 into a hedge fund. The fund promised a yearly interest rate of 10%. If he deposited an additional $100 every month into the account to add to his initial investment of $1000, how much money will he have in the fund after two years?', 'unanswerable_problem': 'Joseph invested $1000 into a hedge fund. The fund promised a yearly interest rate. If he deposited an additional $100 every month into the account to add to his initial investment of $1000, how much money will he have in the fund after two years?', 'modification_type': 'insufficient_information', 'change_summary': 'I removed the numerical value of the yearly interest rate.', 'reasoning': 'This problem is now unanswerable due to insufficient_information. Without knowing the specific yearly interest rate, it is impossible to calculate the total amount in the fund after two years.'}, {'original_problem': 'The price of buying a wooden toy at the new Craftee And Best store is $20, and the cost of buying a hat is $10. If Kendra went to the shop with a $100 bill and bought two wooden toys and three hats, calculate the change she received.', 'unanswerable_problem': 'The price of buying a wooden toy at the new Craftee And Best store is $20, and the cost of buying a hat is $10. If Kendra went to the shop with a $100 bill and bought two wooden toys and three hats, but the total amount she paid was $150, calculate the change she received.', 'modification_type': 'contradictory_information', 'change_summary': 'Added a statement that Kendra paid $150, which contradicts the total cost based on given prices and quantities.', 'reasoning': 'This problem is now unanswerable due to contradictory_information. The stated total payment of $150 conflicts with the calculated total cost of two wooden toys and three hats ($20*2 + $10*3 = $70), making it impossible to determine the correct change.'}, {'original_problem': \"James is trying to create a new breed of kittens with extra-long tails. Each generation of kittens he breeds has a tail 25% longer than the last generation. If the first generation has tails 16 cm long, how long are the third generation's tails?\", 'unanswerable_problem': \"James is trying to create a new breed of kittens with extra-long tails. Each generation of kittens he breeds has a tail 25% longer than the last generation. How long are the third generation's tails?\", 'modification_type': 'insufficient_information', 'change_summary': 'I removed the length of the tails of the first generation of kittens.', 'reasoning': \"This problem is now unanswerable due to insufficient_information. Without knowing the length of the first generation's tails, it is impossible to calculate the length of the third generation's tails, even though the percentage increase per generation is given.\"}, {'original_problem': 'The Rotary Club is holding its annual fundraising Omelet Breakfast, with tickets sold in advance. The tickets come in different price levels, for young children, older children, adults, and seniors. This year they sold 53 small children tickets, 35 older children tickets, 75 adult tickets, and 37 senior tickets. To figure out how many eggs they need to buy, the club estimates that small children can eat a half omelet, older children can eat a whole omelet, adults will eat two omelets, and seniors will eat one and a half omelets. Just to be on the safe side, they get enough eggs to make 25 extra omelets. If they use 2 eggs for each omelet, how many eggs will they need to buy?', 'unanswerable_problem': 'The Rotary Club is holding its annual fundraising Omelet Breakfast, with tickets sold in advance. The tickets come in different price levels, for young children, older children, adults, and seniors. This year they sold 53 small children tickets, 35 older children tickets, 75 adult tickets, and 37 senior tickets. To figure out how many eggs they need to buy, the club estimates that small children can eat a half omelet, older children can eat a whole omelet, adults will eat two omelets, and seniors will eat one and a half omelets. Just to be on the safe side, they get enough eggs to make 20 extra omelets. If they use 2 eggs for each omelet, how many eggs will they need to buy?', 'modification_type': 'contradictory_information', 'change_summary': 'I changed the number of extra omelets from 25 to 20, contradicting the original statement.', 'reasoning': 'This problem is now unanswerable due to contradictory_information. The problem states two different quantities for extra omelets (25 and 20), making it impossible to determine the total number of eggs needed without clarifying which value is correct.'}]}\n"
     ]
    }
   ],
   "source": [
    "output_dict = {}\n",
    "for model in [\"gpt-4-turbo\", \"gpt-4o\", \"gpt-4.1-mini\"]:\n",
    "    data = []\n",
    "    with open(f'/baby-step-outputs/baby-step-outputs_{model}.jsonl', 'r') as f:\n",
    "        for line in f:\n",
    "            data.append(json.loads(line))\n",
    "    output_dict[model] = data\n",
    "\n",
    "print(output_dict)"
   ]
  },
  {
   "cell_type": "code",
   "execution_count": null,
   "id": "850213c8",
   "metadata": {},
   "outputs": [
    {
     "data": {
      "text/html": [
       "<div>\n",
       "<style scoped>\n",
       "    .dataframe tbody tr th:only-of-type {\n",
       "        vertical-align: middle;\n",
       "    }\n",
       "\n",
       "    .dataframe tbody tr th {\n",
       "        vertical-align: top;\n",
       "    }\n",
       "\n",
       "    .dataframe thead th {\n",
       "        text-align: right;\n",
       "    }\n",
       "</style>\n",
       "<table border=\"1\" class=\"dataframe\">\n",
       "  <thead>\n",
       "    <tr style=\"text-align: right;\">\n",
       "      <th></th>\n",
       "      <th>original_problem</th>\n",
       "      <th>unanswerable_problem</th>\n",
       "      <th>modification_type</th>\n",
       "      <th>change_summary</th>\n",
       "      <th>reasoning</th>\n",
       "    </tr>\n",
       "  </thead>\n",
       "  <tbody>\n",
       "    <tr>\n",
       "      <th>0</th>\n",
       "      <td>For every 12 cans you recycle, you receive $0....</td>\n",
       "      <td>For every 12 cans you recycle, you receive $0....</td>\n",
       "      <td>insufficient_information</td>\n",
       "      <td>I removed the payment information for recyclin...</td>\n",
       "      <td>This problem is now unanswerable due to insuff...</td>\n",
       "    </tr>\n",
       "    <tr>\n",
       "      <th>1</th>\n",
       "      <td>Betty picked 16 strawberries. Matthew picked 2...</td>\n",
       "      <td>Betty picked 16 strawberries. Matthew picked 2...</td>\n",
       "      <td>contradictory_information</td>\n",
       "      <td>Added a statement that Matthew picked a total ...</td>\n",
       "      <td>The problem becomes unanswerable due to contra...</td>\n",
       "    </tr>\n",
       "    <tr>\n",
       "      <th>2</th>\n",
       "      <td>Jack has a stack of books that is 12 inches th...</td>\n",
       "      <td>Jack has a stack of books that is 12 inches th...</td>\n",
       "      <td>insufficient_information</td>\n",
       "      <td>Removed the number of books Jack has.</td>\n",
       "      <td>This problem is now unanswerable due to insuff...</td>\n",
       "    </tr>\n",
       "    <tr>\n",
       "      <th>3</th>\n",
       "      <td>James dumps his whole collection of 500 Legos ...</td>\n",
       "      <td>James dumps his whole collection of 500 Legos ...</td>\n",
       "      <td>contradictory_information</td>\n",
       "      <td>Added a statement that James counts 240 Legos ...</td>\n",
       "      <td>This problem becomes unanswerable because of c...</td>\n",
       "    </tr>\n",
       "    <tr>\n",
       "      <th>4</th>\n",
       "      <td>Ines had $20 in her purse. She bought 3 pounds...</td>\n",
       "      <td>Ines had $20 in her purse. She bought 3 pounds...</td>\n",
       "      <td>insufficient_information</td>\n",
       "      <td>I removed the price per pound of the peaches.</td>\n",
       "      <td>This problem is now unanswerable due to insuff...</td>\n",
       "    </tr>\n",
       "    <tr>\n",
       "      <th>5</th>\n",
       "      <td>Aaron pays his actuary membership fees each ye...</td>\n",
       "      <td>Aaron pays his actuary membership fees each ye...</td>\n",
       "      <td>contradictory_information</td>\n",
       "      <td>Added a statement that the membership fee rema...</td>\n",
       "      <td>The problem is now unanswerable due to contrad...</td>\n",
       "    </tr>\n",
       "    <tr>\n",
       "      <th>6</th>\n",
       "      <td>Joseph invested $1000 into a hedge fund. The f...</td>\n",
       "      <td>Joseph invested $1000 into a hedge fund. The f...</td>\n",
       "      <td>insufficient_information</td>\n",
       "      <td>I removed the specification of the initial inv...</td>\n",
       "      <td>This problem is now unanswerable due to insuff...</td>\n",
       "    </tr>\n",
       "    <tr>\n",
       "      <th>7</th>\n",
       "      <td>The price of buying a wooden toy at the new Cr...</td>\n",
       "      <td>The price of buying a wooden toy at the new Cr...</td>\n",
       "      <td>contradictory_information</td>\n",
       "      <td>Added a statement that Kendra used a $50 bill,...</td>\n",
       "      <td>This problem is now unanswerable due to contra...</td>\n",
       "    </tr>\n",
       "    <tr>\n",
       "      <th>8</th>\n",
       "      <td>James is trying to create a new breed of kitte...</td>\n",
       "      <td>James is trying to create a new breed of kitte...</td>\n",
       "      <td>insufficient_information</td>\n",
       "      <td>I removed the initial tail length of the first...</td>\n",
       "      <td>This problem is now unanswerable due to insuff...</td>\n",
       "    </tr>\n",
       "    <tr>\n",
       "      <th>9</th>\n",
       "      <td>The Rotary Club is holding its annual fundrais...</td>\n",
       "      <td>The Rotary Club is holding its annual fundrais...</td>\n",
       "      <td>contradictory_information</td>\n",
       "      <td>Changed the number of omelets seniors eat from...</td>\n",
       "      <td>This problem is now unanswerable due to contra...</td>\n",
       "    </tr>\n",
       "  </tbody>\n",
       "</table>\n",
       "</div>"
      ],
      "text/plain": [
       "                                    original_problem  \\\n",
       "0  For every 12 cans you recycle, you receive $0....   \n",
       "1  Betty picked 16 strawberries. Matthew picked 2...   \n",
       "2  Jack has a stack of books that is 12 inches th...   \n",
       "3  James dumps his whole collection of 500 Legos ...   \n",
       "4  Ines had $20 in her purse. She bought 3 pounds...   \n",
       "5  Aaron pays his actuary membership fees each ye...   \n",
       "6  Joseph invested $1000 into a hedge fund. The f...   \n",
       "7  The price of buying a wooden toy at the new Cr...   \n",
       "8  James is trying to create a new breed of kitte...   \n",
       "9  The Rotary Club is holding its annual fundrais...   \n",
       "\n",
       "                                unanswerable_problem  \\\n",
       "0  For every 12 cans you recycle, you receive $0....   \n",
       "1  Betty picked 16 strawberries. Matthew picked 2...   \n",
       "2  Jack has a stack of books that is 12 inches th...   \n",
       "3  James dumps his whole collection of 500 Legos ...   \n",
       "4  Ines had $20 in her purse. She bought 3 pounds...   \n",
       "5  Aaron pays his actuary membership fees each ye...   \n",
       "6  Joseph invested $1000 into a hedge fund. The f...   \n",
       "7  The price of buying a wooden toy at the new Cr...   \n",
       "8  James is trying to create a new breed of kitte...   \n",
       "9  The Rotary Club is holding its annual fundrais...   \n",
       "\n",
       "           modification_type  \\\n",
       "0   insufficient_information   \n",
       "1  contradictory_information   \n",
       "2   insufficient_information   \n",
       "3  contradictory_information   \n",
       "4   insufficient_information   \n",
       "5  contradictory_information   \n",
       "6   insufficient_information   \n",
       "7  contradictory_information   \n",
       "8   insufficient_information   \n",
       "9  contradictory_information   \n",
       "\n",
       "                                      change_summary  \\\n",
       "0  I removed the payment information for recyclin...   \n",
       "1  Added a statement that Matthew picked a total ...   \n",
       "2              Removed the number of books Jack has.   \n",
       "3  Added a statement that James counts 240 Legos ...   \n",
       "4      I removed the price per pound of the peaches.   \n",
       "5  Added a statement that the membership fee rema...   \n",
       "6  I removed the specification of the initial inv...   \n",
       "7  Added a statement that Kendra used a $50 bill,...   \n",
       "8  I removed the initial tail length of the first...   \n",
       "9  Changed the number of omelets seniors eat from...   \n",
       "\n",
       "                                           reasoning  \n",
       "0  This problem is now unanswerable due to insuff...  \n",
       "1  The problem becomes unanswerable due to contra...  \n",
       "2  This problem is now unanswerable due to insuff...  \n",
       "3  This problem becomes unanswerable because of c...  \n",
       "4  This problem is now unanswerable due to insuff...  \n",
       "5  The problem is now unanswerable due to contrad...  \n",
       "6  This problem is now unanswerable due to insuff...  \n",
       "7  This problem is now unanswerable due to contra...  \n",
       "8  This problem is now unanswerable due to insuff...  \n",
       "9  This problem is now unanswerable due to contra...  "
      ]
     },
     "execution_count": 24,
     "metadata": {},
     "output_type": "execute_result"
    }
   ],
   "source": [
    "import pandas as pd\n",
    "\n",
    "pd.DataFrame(output_dict['gpt-4-turbo'])"
   ]
  },
  {
   "cell_type": "code",
   "execution_count": null,
   "id": "636044f4",
   "metadata": {},
   "outputs": [],
   "source": []
  }
 ],
 "metadata": {
  "kernelspec": {
   "display_name": "base",
   "language": "python",
   "name": "python3"
  },
  "language_info": {
   "codemirror_mode": {
    "name": "ipython",
    "version": 3
   },
   "file_extension": ".py",
   "mimetype": "text/x-python",
   "name": "python",
   "nbconvert_exporter": "python",
   "pygments_lexer": "ipython3",
   "version": "3.13.2"
  }
 },
 "nbformat": 4,
 "nbformat_minor": 5
}
